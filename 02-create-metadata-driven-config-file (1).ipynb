{
 "cells": [
  {
   "cell_type": "code",
   "execution_count": 0,
   "metadata": {
    "application/vnd.databricks.v1+cell": {
     "cellMetadata": {
      "byteLimit": 2048000,
      "rowLimit": 10000
     },
     "inputWidgets": {},
     "nuid": "9ba4fdf8-5ee5-48fc-a9cf-9ee4cfaac250",
     "showTitle": false,
     "tableResultSettingsMap": {},
     "title": ""
    }
   },
   "outputs": [],
   "source": [
    "pip install azure-storage-file-datalake"
   ]
  },
  {
   "cell_type": "code",
   "execution_count": 0,
   "metadata": {
    "application/vnd.databricks.v1+cell": {
     "cellMetadata": {
      "byteLimit": 2048000,
      "rowLimit": 10000
     },
     "inputWidgets": {},
     "nuid": "714b9aff-1506-4205-85ac-8480fad49edf",
     "showTitle": false,
     "tableResultSettingsMap": {},
     "title": ""
    }
   },
   "outputs": [
    {
     "output_type": "display_data",
     "data": {
      "application/vnd.databricks.v1+bamboolib_hint": "{\"pd.DataFrames\": [], \"version\": \"0.0.1\"}",
      "text/plain": []
     },
     "metadata": {},
     "output_type": "display_data"
    }
   ],
   "source": [
    "# Import modules and libraries\n",
    "import pandas as pd\n",
    "from azure.storage.filedatalake import DataLakeServiceClient\n",
    "from datetime import datetime"
   ]
  },
  {
   "cell_type": "code",
   "execution_count": 0,
   "metadata": {
    "application/vnd.databricks.v1+cell": {
     "cellMetadata": {
      "byteLimit": 2048000,
      "rowLimit": 10000
     },
     "inputWidgets": {},
     "nuid": "13d32c57-c32f-4af1-ad45-fd6f47ad2621",
     "showTitle": false,
     "tableResultSettingsMap": {},
     "title": ""
    }
   },
   "outputs": [
    {
     "output_type": "stream",
     "name": "stdout",
     "output_type": "stream",
     "text": [
      "✅ Configuration file 'metadata_config_20250130.csv' created successfully.\n✅ File 'metadata_config_20250130.csv' uploaded to ADLS in container 'config'.\n"
     ]
    }
   ],
   "source": [
    "# Azure Storage connection details (using SAS token)\n",
    "account_name = \"cdmo\"\n",
    "sas_token = \"sv=2022-11-02&ss=bfqt&srt=sco&sp=rwdlacupyx&se=2025-01-30T12:53:06Z&st=2025-01-30T04:53:06Z&spr=https&sig=AxwIrOD2cUZkmCPUEaby1ZPw%2Bu9DE7nksIUknqfytD8%3D\" # Replace with your SAS token\n",
    "container_name = \"config\"\n",
    "\n",
    "# Data for the configuration file with the additional \"UniqueKey\" column\n",
    "data = [\n",
    "    [\"bronze\", \"00-landing\", \"data/incoming/customerfeedback/\", \"csv\", \"01-bronze\", \"customerfeedback/\", \"delta\", \"FeedbackID\", \"true\"],\n",
    "    [\"bronze\", \"00-landing\", \"data/incoming/manufacturebatch/\", \"csv\", \"01-bronze\", \"manufacturebatch/\", \"delta\", \"BatchID\", \"true\"],\n",
    "    [\"bronze\", \"00-landing\", \"data/incoming/productformula/\", \"csv\", \"01-bronze\", \"productformula/\", \"delta\", \"ProductID\", \"true\"],\n",
    "    [\"bronze\", \"00-landing\", \"data/incoming/sales/\", \"csv\", \"01-bronze\", \"sales/\", \"delta\", \"OrderID\", \"true\"],\n",
    "    [\"bronze\", \"00-landing\", \"data/incoming/supplier/\", \"csv\", \"01-bronze\", \"supplier/\", \"delta\", \"SupplierID\", \"true\"],\n",
    "    [\"silver\", \"01-bronze\", \"customerfeedback/\", \"delta\", \"02-silver\", \"customerfeedback_transformed/\", \"delta\", \"FeedbackID\", \"true\"],\n",
    "    [\"silver\", \"01-bronze\", \"manufacturebatch/\", \"delta\", \"02-silver\", \"manufacturebatch_transformed/\", \"delta\", \"BatchID\", \"true\"],\n",
    "    [\"silver\", \"01-bronze\", \"productformula/\", \"delta\", \"02-silver\", \"productformula_transformed/\", \"delta\", \"ProductID\", \"true\"],\n",
    "    [\"silver\", \"01-bronze\", \"sales/\", \"delta\", \"02-silver/sales/\", \"delta\", \"OrderID\", \"true\"],\n",
    "    [\"silver\", \"01-bronze\", \"supplier/\", \"delta\", \"02-silver/supplier/\", \"delta\", \"SupplierID\", \"true\"],\n",
    "    [\"gold\", \"02-silver\", \"customerfeedback/\", \"delta\", \"03-gold\", \"customer_feedback_aggregated/\", \"delta\", \"FeedbackID\", \"true\"],\n",
    "    [\"gold\", \"02-silver\", \"manufacturebatch/\", \"delta\", \"03-gold\", \"manufacture_batch_enriched/\", \"delta\", \"BatchID\", \"true\"],\n",
    "    [\"gold\", \"02-silver\", \"productformula/\", \"delta\", \"03-gold\", \"product_formula_enriched/\", \"delta\", \"ProductID\", \"true\"],\n",
    "    [\"gold\", \"02-silver\", \"sales/\", \"delta\", \"03-gold\", \"sales_aggregated/\", \"delta\", \"OrderID\", \"true\"],\n",
    "    [\"gold\", \"02-silver\", \"supplier/\", \"delta\", \"03-gold\", \"supplier_data_enriched/\", \"delta\", \"SupplierID\", \"true\"],\n",
    "]\n",
    "\n",
    "# Column names for the configuration file\n",
    "columns = [\n",
    "    \"Layer\", \"SourceContainer\", \"SourcePath\", \"SourceFormat\",\n",
    "    \"TargetContainer\", \"TargetPath\", \"TargetFormat\", \"UniqueKey\", \"AddTimestamp\"\n",
    "]\n",
    "\n",
    "# Create a DataFrame from the data\n",
    "df = pd.DataFrame(data, columns=columns)\n",
    "\n",
    "# Append the current date to the metadata config file name\n",
    "current_date = datetime.now().strftime(\"%Y%m%d\")\n",
    "config_file_name = f\"metadata_config_{current_date}.csv\"\n",
    "\n",
    "# Save the DataFrame to a local CSV file\n",
    "df.to_csv(config_file_name, index=False)\n",
    "print(f\"✅ Configuration file '{config_file_name}' created successfully.\")\n",
    "\n",
    "# Function to upload a file to Azure Data Lake Storage (ADLS)\n",
    "def upload_to_adls(local_file_name, container_name):\n",
    "    \"\"\"\n",
    "    Uploads a local file to Azure Data Lake Storage (ADLS) using SAS token authentication.\n",
    "\n",
    "    Args:\n",
    "        local_file_name (str): The local file name to upload.\n",
    "        container_name (str): The name of the target ADLS container.\n",
    "    \"\"\"\n",
    "    try:\n",
    "        # Initialize the DataLakeServiceClient with the SAS token\n",
    "        service_client = DataLakeServiceClient(\n",
    "            account_url=f\"https://{account_name}.dfs.core.windows.net\",\n",
    "            credential=sas_token,\n",
    "        )\n",
    "\n",
    "        # Get the file system client for the container\n",
    "        file_system_client = service_client.get_file_system_client(container_name)\n",
    "\n",
    "        # Upload the file directly into the container without creating a subdirectory\n",
    "        with open(local_file_name, \"rb\") as data:\n",
    "            file_client = file_system_client.get_file_client(local_file_name)\n",
    "            file_client.upload_data(data, overwrite=True)\n",
    "\n",
    "        print(f\"✅ File '{local_file_name}' uploaded to ADLS in container '{container_name}'.\")\n",
    "    except Exception as e:\n",
    "        print(f\"❌ Error uploading file to ADLS: {e}\")\n",
    "\n",
    "# Call the function to upload the configuration file to ADLS\n",
    "upload_to_adls(config_file_name, container_name)\n"
   ]
  }
 ],
 "metadata": {
  "application/vnd.databricks.v1+notebook": {
   "computePreferences": null,
   "dashboards": [],
   "environmentMetadata": {
    "base_environment": "",
    "client": "1"
   },
   "language": "python",
   "notebookMetadata": {
    "pythonIndentUnit": 4
   },
   "notebookName": "02-create-metadata-driven-config-file",
   "widgets": {}
  }
 },
 "nbformat": 4,
 "nbformat_minor": 0
}
