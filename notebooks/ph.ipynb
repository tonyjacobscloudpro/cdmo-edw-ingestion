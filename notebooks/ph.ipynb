{
 "cells": [
  {
   "cell_type": "code",
   "execution_count": 0,
   "metadata": {
    "application/vnd.databricks.v1+cell": {
     "cellMetadata": {
      "byteLimit": 2048000,
      "rowLimit": 10000
     },
     "inputWidgets": {},
     "nuid": "13e6e100-d190-4e45-8ce5-48443f9b7bdb",
     "showTitle": false,
     "tableResultSettingsMap": {},
     "title": ""
    }
   },
   "outputs": [],
   "source": [
    "# Install required libraries\n",
    "!pip install azure-storage-file-datalake"
   ]
  },
  {
   "cell_type": "code",
   "execution_count": 0,
   "metadata": {
    "application/vnd.databricks.v1+cell": {
     "cellMetadata": {
      "byteLimit": 2048000,
      "rowLimit": 10000
     },
     "inputWidgets": {},
     "nuid": "8dbfb358-612e-409e-9bc4-801d6d0d826b",
     "showTitle": false,
     "tableResultSettingsMap": {},
     "title": ""
    }
   },
   "outputs": [],
   "source": [
    "from azure.storage.filedatalake import DataLakeServiceClient\n",
    "import logging\n",
    "\n",
    "# Configure logging\n",
    "logging.basicConfig(level=logging.INFO, format='%(asctime)s - %(levelname)s - %(message)s')\n",
    "logger = logging.getLogger(__name__)\n",
    "\n",
    "# Constants\n",
    "ACCOUNT_NAME = \"cdmo\"\n",
    "ACCOUNT_KEY = \"XXXXXXXXXXXX\"  # Replace with your actual key or use environment variables\n",
    "CONTAINERS = [\"00-landing\", \"01-bronze\", \"02-silver\", \"03-gold\", \"config\"]\n",
    "SOURCES = [\"customerfeedback\", \"manufacturebatch\", \"productformula\", \"sales\", \"supplier\"]\n",
    "\n",
    "# Initialize Azure Data Lake Service Client\n",
    "def initialize_adls_client(account_name, account_key):\n",
    "    try:\n",
    "        service_client = DataLakeServiceClient(\n",
    "            account_url=f\"https://{account_name}.dfs.core.windows.net\",\n",
    "            credential=account_key,\n",
    "        )\n",
    "        logger.info(\"Successfully initialized Azure Data Lake Service Client.\")\n",
    "        return service_client\n",
    "    except Exception as e:\n",
    "        logger.error(f\"Failed to initialize Azure Data Lake Service Client: {e}\")\n",
    "        raise\n",
    "\n",
    "# Create a container in ADLS\n",
    "def create_container(service_client, container_name):\n",
    "    try:\n",
    "        container_client = service_client.get_file_system_client(container_name)\n",
    "        if not container_client.exists():\n",
    "            container_client.create_file_system()\n",
    "            logger.info(f\"Container '{container_name}' created successfully.\")\n",
    "        else:\n",
    "            logger.warning(f\"Container '{container_name}' already exists.\")\n",
    "    except Exception as e:\n",
    "        logger.error(f\"Error creating container '{container_name}': {e}\")\n",
    "        raise\n",
    "\n",
    "# Create a folder in a container\n",
    "def create_folder(service_client, container_name, folder_path):\n",
    "    try:\n",
    "        file_system_client = service_client.get_file_system_client(container_name)\n",
    "        directory_client = file_system_client.get_directory_client(folder_path)\n",
    "        if not directory_client.exists():\n",
    "            directory_client.create_directory()\n",
    "            logger.info(f\"Folder '{folder_path}' created successfully in container '{container_name}'.\")\n",
    "        else:\n",
    "            logger.warning(f\"Folder '{folder_path}' already exists in container '{container_name}'.\")\n",
    "    except Exception as e:\n",
    "        logger.error(f\"Error creating folder '{folder_path}' in container '{container_name}': {e}\")\n",
    "        raise\n",
    "\n",
    "# Main function to set up ADLS structure\n",
    "def setup_adls_structure(service_client, containers, sources):\n",
    "    try:\n",
    "        # Step 1: Create required containers\n",
    "        for container in containers:\n",
    "            create_container(service_client, container)\n",
    "\n",
    "        # Step 2: Create folder structures in the '00-landing' container\n",
    "        for source in sources:\n",
    "            # Create folders in the 'incoming' directory\n",
    "            incoming_folder_path = f\"data/incoming/{source}/\"\n",
    "            create_folder(service_client, \"00-landing\", incoming_folder_path)\n",
    "\n",
    "            # Create folders in the 'archive' directory\n",
    "            archive_folder_path = f\"data/archive/{source}/\"\n",
    "            create_folder(service_client, \"00-landing\", archive_folder_path)\n",
    "\n",
    "        logger.info(\"ADLS structure setup completed successfully.\")\n",
    "    except Exception as e:\n",
    "        logger.error(f\"Error setting up ADLS structure: {e}\")\n",
    "        raise\n",
    "\n",
    "# Execute the setup\n",
    "if __name__ == \"__main__\":\n",
    "    try:\n",
    "        service_client = initialize_adls_client(ACCOUNT_NAME, ACCOUNT_KEY)\n",
    "        setup_adls_structure(service_client, CONTAINERS, SOURCES)\n",
    "    except Exception as e:\n",
    "        logger.error(f\"Script execution failed: {e}\")"
   ]
  }
 ],
 "metadata": {
  "application/vnd.databricks.v1+notebook": {
   "computePreferences": null,
   "dashboards": [],
   "environmentMetadata": {
    "base_environment": "",
    "client": "1"
   },
   "language": "python",
   "notebookMetadata": {
    "pythonIndentUnit": 4
   },
   "notebookName": "00-create-adls-directories",
   "widgets": {}
  }
 },
 "nbformat": 4,
 "nbformat_minor": 0
}
