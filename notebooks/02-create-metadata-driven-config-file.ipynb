{
 "cells": [
  {
   "cell_type": "code",
   "execution_count": 0,
   "metadata": {
    "application/vnd.databricks.v1+cell": {
     "cellMetadata": {
      "byteLimit": 2048000,
      "rowLimit": 10000
     },
     "inputWidgets": {},
     "nuid": "9ba4fdf8-5ee5-48fc-a9cf-9ee4cfaac250",
     "showTitle": false,
     "tableResultSettingsMap": {},
     "title": ""
    }
   },
   "outputs": [],
   "source": [
    "pip install azure-storage-file-datalake"
   ]
  },
  {
   "cell_type": "code",
   "execution_count": 0,
   "metadata": {
    "application/vnd.databricks.v1+cell": {
     "cellMetadata": {
      "byteLimit": 2048000,
      "rowLimit": 10000
     },
     "inputWidgets": {},
     "nuid": "13d32c57-c32f-4af1-ad45-fd6f47ad2621",
     "showTitle": false,
     "tableResultSettingsMap": {},
     "title": ""
    }
   },
   "outputs": [],
   "source": [
    "import pandas as pd\n",
    "from azure.storage.filedatalake import DataLakeServiceClient\n",
    "from datetime import datetime\n",
    "\n",
    "# Azure Storage connection details\n",
    "account_name = \"cdmo\"\n",
    "account_key = \"XXXXXXXXXXXXXXXXXXXX\"\n",
    "container_name = \"config\"\n",
    "\n",
    "# Data for the configuration file\n",
    "data = [\n",
    "    [\"Bronze\", \"00-landing\", \"data/raw/customerfeedback/\", \"csv\", \"01-bronze\", \"customerfeedback/\", \"delta\", \"true\"],\n",
    "    [\"Bronze\", \"00-landing\", \"data/raw/manufacturebatch/\", \"csv\", \"01-bronze\", \"manufacturebatch/\", \"delta\", \"true\"],\n",
    "    [\"Bronze\", \"00-landing\", \"data/raw/productformula/\", \"csv\", \"01-bronze\", \"productformula/\", \"delta\", \"true\"],\n",
    "    [\"Silver\", \"01-bronze\", \"customerfeedback/\", \"delta\", \"02-silver\", \"customerfeedback_transformed/\", \"delta\", \"true\"],\n",
    "    [\"Silver\", \"01-bronze\", \"manufacturebatch/\", \"delta\", \"02-silver\", \"manufacturebatch_transformed/\", \"delta\", \"true\"],\n",
    "    [\"Silver\", \"01-bronze\", \"productformula/\", \"delta\", \"02-silver\", \"productformula_transformed/\", \"delta\", \"true\"],\n",
    "]\n",
    "\n",
    "# Column names for the configuration file\n",
    "columns = [\n",
    "    \"Layer\", \"SourceContainer\", \"SourcePath\", \"SourceFormat\",\n",
    "    \"TargetContainer\", \"TargetPath\", \"TargetFormat\", \"AddTimestamp\"\n",
    "]\n",
    "\n",
    "# Create a DataFrame from the data\n",
    "df = pd.DataFrame(data, columns=columns)\n",
    "\n",
    "# Append the current date to the metadata config file name\n",
    "current_date = datetime.now().strftime(\"%Y%m%d\")\n",
    "config_file_name = f\"metadata_config_{current_date}.csv\"\n",
    "\n",
    "# Save the DataFrame to a CSV file locally\n",
    "df.to_csv(config_file_name, index=False)\n",
    "print(f\"Configuration file '{config_file_name}' created successfully.\")\n",
    "\n",
    "# Upload the CSV file to the config directory in ADLS\n",
    "def upload_to_adls(local_file_name, container_name):\n",
    "    try:\n",
    "        # Initialize the DataLakeServiceClient\n",
    "        service_client = DataLakeServiceClient(\n",
    "            account_url=f\"https://{account_name}.dfs.core.windows.net\",\n",
    "            credential=account_key,\n",
    "        )\n",
    "        \n",
    "        # Get the file system client for the container\n",
    "        file_system_client = service_client.get_file_system_client(container_name)\n",
    "        \n",
    "        # Upload the file directly into the container without creating a subdirectory\n",
    "        with open(local_file_name, \"rb\") as data:\n",
    "            file_client = file_system_client.get_file_client(local_file_name)\n",
    "            file_client.upload_data(data, overwrite=True)\n",
    "        \n",
    "        print(f\"File '{local_file_name}' uploaded to ADLS in container '{container_name}'.\")\n",
    "    except Exception as e:\n",
    "        print(f\"Error uploading file to ADLS: {e}\")\n",
    "\n",
    "# Call the function to upload the file to ADLS\n",
    "upload_to_adls(config_file_name, container_name)\n"
   ]
  }
 ],
 "metadata": {
  "application/vnd.databricks.v1+notebook": {
   "computePreferences": null,
   "dashboards": [],
   "environmentMetadata": {
    "base_environment": "",
    "client": "1"
   },
   "language": "python",
   "notebookMetadata": {
    "pythonIndentUnit": 4
   },
   "notebookName": "03-create-metadata-driven-config-file",
   "widgets": {}
  }
 },
 "nbformat": 4,
 "nbformat_minor": 0
}
