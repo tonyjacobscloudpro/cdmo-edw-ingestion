{
 "cells": [
  {
   "cell_type": "code",
   "execution_count": 0,
   "metadata": {
    "application/vnd.databricks.v1+cell": {
     "cellMetadata": {
      "byteLimit": 2048000,
      "rowLimit": 10000
     },
     "inputWidgets": {},
     "nuid": "13e6e100-d190-4e45-8ce5-48443f9b7bdb",
     "showTitle": false,
     "tableResultSettingsMap": {},
     "title": ""
    }
   },
   "outputs": [],
   "source": [
    "pip install azure-storage-file-datalake\n"
   ]
  },
  {
   "cell_type": "code",
   "execution_count": 0,
   "metadata": {
    "application/vnd.databricks.v1+cell": {
     "cellMetadata": {
      "byteLimit": 2048000,
      "rowLimit": 10000
     },
     "inputWidgets": {},
     "nuid": "8dbfb358-612e-409e-9bc4-801d6d0d826b",
     "showTitle": false,
     "tableResultSettingsMap": {},
     "title": ""
    }
   },
   "outputs": [],
   "source": [
    "from azure.storage.filedatalake import DataLakeServiceClient\n",
    "\n",
    "# Set up ADLS connection\n",
    "account_name = \"cdmo\"\n",
    "account_key = \"XXXXXXXXXXXX\"\n",
    "\n",
    "service_client = DataLakeServiceClient(\n",
    "    account_url=f\"https://{account_name}.dfs.core.windows.net\",\n",
    "    credential=account_key,\n",
    ")\n",
    "\n",
    "# Function to create a container in ADLS\n",
    "def create_container(service_client, container_name):\n",
    "    try:\n",
    "        container_client = service_client.get_file_system_client(container_name)\n",
    "        container_client.create_file_system()\n",
    "        print(f\"Container '{container_name}' created successfully.\")\n",
    "    except Exception as e:\n",
    "        print(f\"Error creating container '{container_name}': {e}\")\n",
    "\n",
    "# Function to create a folder in a container\n",
    "def create_folder(service_client, container_name, folder_path):\n",
    "    try:\n",
    "        file_system_client = service_client.get_file_system_client(container_name)\n",
    "        directory_client = file_system_client.get_directory_client(folder_path)\n",
    "        directory_client.create_directory()\n",
    "        print(f\"Folder '{folder_path}' created successfully in container '{container_name}'.\")\n",
    "    except Exception as e:\n",
    "        print(f\"Error creating folder '{folder_path}' in container '{container_name}': {e}\")\n",
    "\n",
    "# Step 1: Create required containers\n",
    "containers = [\"00-landing\", \"01-bronze\", \"02-silver\", \"03-gold\", \"config\"]\n",
    "for container in containers:\n",
    "    create_container(service_client, container)\n",
    "\n",
    "# Step 2: Create folder structures in the '00-landing' container\n",
    "sources = [\"customerfeedback\", \"manufacturebatch\", \"productformula\", \"sales\", \"supplier\"]\n",
    "for source in sources:\n",
    "    # Create folders in the 'incoming' directory\n",
    "    incoming_folder_path = f\"data/incoming/{source}/\"\n",
    "    create_folder(service_client, \"00-landing\", incoming_folder_path)\n",
    "\n",
    "    # Create folders in the 'archive' directory\n",
    "    archive_folder_path = f\"data/archive/{source}/\"\n",
    "    create_folder(service_client, \"00-landing\", archive_folder_path)\n"
   ]
  }
 ],
 "metadata": {
  "application/vnd.databricks.v1+notebook": {
   "computePreferences": null,
   "dashboards": [],
   "environmentMetadata": {
    "base_environment": "",
    "client": "1"
   },
   "language": "python",
   "notebookMetadata": {
    "pythonIndentUnit": 4
   },
   "notebookName": "00-create-adls-directories",
   "widgets": {}
  }
 },
 "nbformat": 4,
 "nbformat_minor": 0
}
