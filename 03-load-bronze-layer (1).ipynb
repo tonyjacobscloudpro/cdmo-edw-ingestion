{
 "cells": [
  {
   "cell_type": "code",
   "execution_count": 0,
   "metadata": {
    "application/vnd.databricks.v1+cell": {
     "cellMetadata": {
      "byteLimit": 2048000,
      "rowLimit": 10000
     },
     "inputWidgets": {},
     "nuid": "676d7eaf-e1ff-4662-9929-8578598ec0d4",
     "showTitle": true,
     "tableResultSettingsMap": {},
     "title": "pip install necessary packages"
    }
   },
   "outputs": [],
   "source": [
    "pip install azure-storage-blob azure-storage-file-datalake"
   ]
  },
  {
   "cell_type": "code",
   "execution_count": 0,
   "metadata": {
    "application/vnd.databricks.v1+cell": {
     "cellMetadata": {
      "byteLimit": 2048000,
      "rowLimit": 10000
     },
     "inputWidgets": {},
     "nuid": "fc48cbb3-301b-438d-96c3-ac839f8a5d15",
     "showTitle": true,
     "tableResultSettingsMap": {},
     "title": "Append landing data to bronze delta tables"
    }
   },
   "outputs": [
    {
     "output_type": "stream",
     "name": "stdout",
     "output_type": "stream",
     "text": [
      "🔄 Attempting to read metadata file from wasbs://config@cdmo.blob.core.windows.net/metadata_config_20250130.csv...\n📌 Filtered metadata for 'Bronze' layer: 5 entries found.\n🔄 Processing wasbs://00-landing@cdmo.blob.core.windows.net/data/incoming/customerfeedback/ ➝ wasbs://01-bronze@cdmo.blob.core.windows.net/customerfeedback/\n✅ Data successfully saved to wasbs://01-bronze@cdmo.blob.core.windows.net/customerfeedback/\n🗑️ Deleted processed file: data/incoming/customerfeedback/customerfeedback_20250130_045331.csv\n🔄 Processing wasbs://00-landing@cdmo.blob.core.windows.net/data/incoming/manufacturebatch/ ➝ wasbs://01-bronze@cdmo.blob.core.windows.net/manufacturebatch/\n✅ Data successfully saved to wasbs://01-bronze@cdmo.blob.core.windows.net/manufacturebatch/\n🗑️ Deleted processed file: data/incoming/manufacturebatch/manufacturebatch_20250130_045331.csv\n🔄 Processing wasbs://00-landing@cdmo.blob.core.windows.net/data/incoming/productformula/ ➝ wasbs://01-bronze@cdmo.blob.core.windows.net/productformula/\n✅ Data successfully saved to wasbs://01-bronze@cdmo.blob.core.windows.net/productformula/\n🗑️ Deleted processed file: data/incoming/productformula/productformula_20250130_045331.csv\n🔄 Processing wasbs://00-landing@cdmo.blob.core.windows.net/data/incoming/sales/ ➝ wasbs://01-bronze@cdmo.blob.core.windows.net/sales/\n✅ Data successfully saved to wasbs://01-bronze@cdmo.blob.core.windows.net/sales/\n🗑️ Deleted processed file: data/incoming/sales/sales_20250130_045331.csv\n🔄 Processing wasbs://00-landing@cdmo.blob.core.windows.net/data/incoming/supplier/ ➝ wasbs://01-bronze@cdmo.blob.core.windows.net/supplier/\n✅ Data successfully saved to wasbs://01-bronze@cdmo.blob.core.windows.net/supplier/\n🗑️ Deleted processed file: data/incoming/supplier/supplier_20250130_045331.csv\n"
     ]
    }
   ],
   "source": [
    "from pyspark.sql import SparkSession\n",
    "from pyspark.sql.functions import current_timestamp, input_file_name\n",
    "from azure.storage.blob import BlobServiceClient\n",
    "\n",
    "# ----------------------------------------------------------------------------------\n",
    "# 1. SPARK CONFIGURATION & AZURE STORAGE AUTHENTICATION\n",
    "# ----------------------------------------------------------------------------------\n",
    "\n",
    "# Define Azure Storage account details\n",
    "STORAGE_ACCOUNT_NAME = \"cdmo\"\n",
    "SAS_TOKEN = \"sv=2022-11-02&ss=bfqt&srt=sco&sp=rwdlacupyx&se=2025-01-30T12:53:06Z&st=2025-01-30T04:53:06Z&spr=https&sig=AxwIrOD2cUZkmCPUEaby1ZPw%2Bu9DE7nksIUknqfytD8%3D\"  # Replace with your SAS token\n",
    "CONTAINER_NAME = \"config\"\n",
    "METADATA_FILE_NAME = \"metadata_config_20250130.csv\"\n",
    "\n",
    "# Initialize Spark Session\n",
    "spark = SparkSession.builder \\\n",
    "    .appName(\"MetadataDrivenLoads\") \\\n",
    "    .getOrCreate()\n",
    "\n",
    "# Configure Spark to use SAS Token for each relevant container\n",
    "containers = [\"00-landing\", \"01-bronze\", \"config\"]\n",
    "for container in containers:\n",
    "    spark.conf.set(f\"fs.azure.sas.{container}.{STORAGE_ACCOUNT_NAME}.blob.core.windows.net\", SAS_TOKEN)\n",
    "\n",
    "# Initialize BlobServiceClient for deleting processed files\n",
    "blob_service_client = BlobServiceClient(\n",
    "    account_url=f\"https://{STORAGE_ACCOUNT_NAME}.blob.core.windows.net\",\n",
    "    credential=SAS_TOKEN\n",
    ")\n",
    "\n",
    "# ----------------------------------------------------------------------------------\n",
    "# 2. LOAD METADATA FILE FROM BLOB STORAGE (wasbs://)\n",
    "# ----------------------------------------------------------------------------------\n",
    "\n",
    "def load_metadata():\n",
    "    \"\"\"\n",
    "    Loads the metadata configuration file from Azure Blob Storage (wasbs://)\n",
    "    and filters datasets for the 'Bronze' processing layer.\n",
    "\n",
    "    Returns:\n",
    "        list: A list of dictionaries containing metadata configurations.\n",
    "    \"\"\"\n",
    "    metadata_path = f\"wasbs://{CONTAINER_NAME}@{STORAGE_ACCOUNT_NAME}.blob.core.windows.net/{METADATA_FILE_NAME}\"\n",
    "\n",
    "    try:\n",
    "        print(f\"🔄 Attempting to read metadata file from {metadata_path}...\")\n",
    "        metadata_df = spark.read.format(\"csv\").option(\"header\", \"true\").load(metadata_path)\n",
    "\n",
    "        # Filter for 'Bronze' layer datasets\n",
    "        metadata_list = metadata_df.filter(metadata_df.Layer == \"bronze\").collect()\n",
    "\n",
    "        print(f\"📌 Filtered metadata for 'Bronze' layer: {len(metadata_list)} entries found.\")\n",
    "        return metadata_list\n",
    "\n",
    "    except Exception as e:\n",
    "        print(f\"❌ Error loading metadata file: {e}\")\n",
    "        raise\n",
    "\n",
    "# ----------------------------------------------------------------------------------\n",
    "# 3. DELETE PROCESSED FILES FROM SOURCE (00-LANDING)\n",
    "# ----------------------------------------------------------------------------------\n",
    "\n",
    "def delete_processed_files(source_container, source_path):\n",
    "    \"\"\"\n",
    "    Deletes processed CSV files from the source container (00-landing) after \n",
    "    successful processing to the Bronze layer.\n",
    "\n",
    "    Args:\n",
    "        source_container (str): The container where files are stored (00-landing).\n",
    "        source_path (str): The directory path where files exist.\n",
    "    \"\"\"\n",
    "    try:\n",
    "        # Get the source container client\n",
    "        source_client = blob_service_client.get_container_client(source_container)\n",
    "\n",
    "        # List all files in the source path\n",
    "        blobs = source_client.list_blobs(name_starts_with=source_path)\n",
    "\n",
    "        for blob in blobs:\n",
    "            # Get blob client and delete file\n",
    "            blob_client = source_client.get_blob_client(blob.name)\n",
    "            blob_client.delete_blob()\n",
    "            print(f\"🗑️ Deleted processed file: {blob.name}\")\n",
    "\n",
    "    except Exception as e:\n",
    "        print(f\"❌ Error deleting processed files from {source_path}: {e}\")\n",
    "\n",
    "# ----------------------------------------------------------------------------------\n",
    "# 4. PROCESS DATA BASED ON METADATA CONFIGURATION\n",
    "# ----------------------------------------------------------------------------------\n",
    "\n",
    "def process_data(metadata_list):\n",
    "    \"\"\"\n",
    "    Processes data based on metadata configurations. Reads from Azure Blob Storage, \n",
    "    applies transformations, and writes back to the target path.\n",
    "\n",
    "    Args:\n",
    "        metadata_list (list): List of metadata configurations.\n",
    "    \"\"\"\n",
    "    for metadata in metadata_list:\n",
    "        try:\n",
    "            # Extract metadata details\n",
    "            source_container = metadata[\"SourceContainer\"]\n",
    "            source_path = metadata[\"SourcePath\"]\n",
    "            source_format = metadata[\"SourceFormat\"]\n",
    "            target_container = metadata[\"TargetContainer\"]\n",
    "            target_path = metadata[\"TargetPath\"]\n",
    "            target_format = metadata[\"TargetFormat\"]\n",
    "            add_timestamp = metadata[\"AddTimestamp\"].lower() == \"true\"\n",
    "\n",
    "            # Configure wasbs:// paths\n",
    "            source_path_wasbs = f\"wasbs://{source_container}@{STORAGE_ACCOUNT_NAME}.blob.core.windows.net/{source_path}\"\n",
    "            target_path_wasbs = f\"wasbs://{target_container}@{STORAGE_ACCOUNT_NAME}.blob.core.windows.net/{target_path}\"\n",
    "\n",
    "            print(f\"🔄 Processing {source_path_wasbs} ➝ {target_path_wasbs}\")\n",
    "\n",
    "            # Read source data using PySpark\n",
    "            source_df = (\n",
    "                spark.read.format(source_format)\n",
    "                .option(\"header\", \"true\")\n",
    "                .load(source_path_wasbs)\n",
    "                .withColumn(\"Filename\", input_file_name())  # Add filename column\n",
    "            )\n",
    "\n",
    "            # Apply transformations if specified\n",
    "            if add_timestamp:\n",
    "                source_df = source_df.withColumn(\"LoadTimestamp\", current_timestamp())\n",
    "\n",
    "            # Write the processed DataFrame to the target location\n",
    "            source_df.write.format(target_format).mode(\"append\").save(target_path_wasbs)\n",
    "\n",
    "            print(f\"✅ Data successfully saved to {target_path_wasbs}\")\n",
    "\n",
    "            # Delete processed files from 00-landing\n",
    "            delete_processed_files(source_container, source_path)\n",
    "\n",
    "        except Exception as e:\n",
    "            print(f\"❌ Error processing data for Source Path '{metadata['SourcePath']}': {e}\")\n",
    "\n",
    "# ----------------------------------------------------------------------------------\n",
    "# 5. MAIN EXECUTION: LOAD METADATA & PROCESS DATA\n",
    "# ----------------------------------------------------------------------------------\n",
    "\n",
    "if __name__ == \"__main__\":\n",
    "    metadata_list = load_metadata()\n",
    "    process_data(metadata_list)\n"
   ]
  },
  {
   "cell_type": "code",
   "execution_count": 0,
   "metadata": {
    "application/vnd.databricks.v1+cell": {
     "cellMetadata": {
      "byteLimit": 2048000,
      "rowLimit": 10000
     },
     "inputWidgets": {},
     "nuid": "4b877248-d3ef-42a4-93fa-b0da961f4b2f",
     "showTitle": true,
     "tableResultSettingsMap": {},
     "title": "Validation 1"
    }
   },
   "outputs": [
    {
     "output_type": "stream",
     "name": "stdout",
     "output_type": "stream",
     "text": [
      "🔍 Validating table: customerfeedback at wasbs://01-bronze@cdmo.blob.core.windows.net/customerfeedback/\n✅ Table: customerfeedback, Record Count: 50\n🔍 Validating table: manufacturebatch at wasbs://01-bronze@cdmo.blob.core.windows.net/manufacturebatch/\n✅ Table: manufacturebatch, Record Count: 50\n🔍 Validating table: productformula at wasbs://01-bronze@cdmo.blob.core.windows.net/productformula/\n✅ Table: productformula, Record Count: 20\n🔍 Validating table: sales at wasbs://01-bronze@cdmo.blob.core.windows.net/sales/\n✅ Table: sales, Record Count: 50\n🔍 Validating table: supplier at wasbs://01-bronze@cdmo.blob.core.windows.net/supplier/\n✅ Table: supplier, Record Count: 20\n"
     ]
    }
   ],
   "source": [
    "from pyspark.sql import SparkSession\n",
    "\n",
    "# ----------------------------------------------------------------------------------\n",
    "# 1. SPARK CONFIGURATION & AZURE STORAGE AUTHENTICATION\n",
    "# ----------------------------------------------------------------------------------\n",
    "\n",
    "# Define Azure Storage account details\n",
    "STORAGE_ACCOUNT_NAME = \"cdmo\"  # Replace with your actual storage account name\n",
    "SAS_TOKEN = \"sv=2022-11-02&ss=bfqt&srt=sco&sp=rwdlacupyx&se=2025-01-30T12:53:06Z&st=2025-01-30T04:53:06Z&spr=https&sig=AxwIrOD2cUZkmCPUEaby1ZPw%2Bu9DE7nksIUknqfytD8%3D\"  # Replace with your SAS token\n",
    "CONTAINER_NAME = \"01-bronze\"  # Target container\n",
    "\n",
    "# Initialize Spark session\n",
    "spark = SparkSession.builder.appName(\"BronzeLayerValidation\").getOrCreate()\n",
    "\n",
    "# Configure Spark to use the SAS Token for authentication\n",
    "spark.conf.set(f\"fs.azure.sas.{CONTAINER_NAME}.{STORAGE_ACCOUNT_NAME}.blob.core.windows.net\", SAS_TOKEN)\n",
    "\n",
    "# ----------------------------------------------------------------------------------\n",
    "# 2. VALIDATE TABLE COUNTS IN BRONZE LAYER\n",
    "# ----------------------------------------------------------------------------------\n",
    "\n",
    "# List of tables in the bronze layer\n",
    "tables = [\n",
    "    \"customerfeedback\",\n",
    "    \"manufacturebatch\",\n",
    "    \"productformula\",\n",
    "    \"sales\",\n",
    "    \"supplier\"\n",
    "]\n",
    "\n",
    "def validate_bronze_tables(container_name, tables):\n",
    "    \"\"\"\n",
    "    Validates the record count for each table in the Bronze layer.\n",
    "\n",
    "    Args:\n",
    "        container_name (str): The Azure Blob Storage container name.\n",
    "        tables (list): A list of table names to validate.\n",
    "    \"\"\"\n",
    "    for table in tables:\n",
    "        # Construct the full wasbs:// path for each table in the bronze layer\n",
    "        table_path = f\"wasbs://{container_name}@{STORAGE_ACCOUNT_NAME}.blob.core.windows.net/{table}/\"\n",
    "\n",
    "        print(f\"🔍 Validating table: {table} at {table_path}\")\n",
    "\n",
    "        try:\n",
    "            # Read the table into a DataFrame\n",
    "            df = spark.read.format(\"delta\").load(table_path)\n",
    "\n",
    "            # Get the count of records\n",
    "            record_count = df.count()\n",
    "            print(f\"✅ Table: {table}, Record Count: {record_count}\")\n",
    "\n",
    "        except Exception as e:\n",
    "            print(f\"❌ Error reading table '{table}': {e}\")\n",
    "\n",
    "# ----------------------------------------------------------------------------------\n",
    "# 3. MAIN EXECUTION\n",
    "# ----------------------------------------------------------------------------------\n",
    "\n",
    "if __name__ == \"__main__\":\n",
    "    validate_bronze_tables(CONTAINER_NAME, tables)\n"
   ]
  },
  {
   "cell_type": "code",
   "execution_count": 0,
   "metadata": {
    "application/vnd.databricks.v1+cell": {
     "cellMetadata": {
      "byteLimit": 2048000,
      "rowLimit": 10000
     },
     "inputWidgets": {},
     "nuid": "2a2cdbff-7c8c-4dab-b0e7-6afd325a7ca3",
     "showTitle": true,
     "tableResultSettingsMap": {},
     "title": "Validation 2"
    }
   },
   "outputs": [
    {
     "output_type": "stream",
     "name": "stdout",
     "output_type": "stream",
     "text": [
      "🔍 Validating table: customerfeedback at wasbs://01-bronze@cdmo.blob.core.windows.net/customerfeedback/\n✅ Table: customerfeedback, Record Count: 50\n📊 Displaying records for table: customerfeedback\n"
     ]
    },
    {
     "output_type": "display_data",
     "data": {
      "text/html": [
       "<style scoped>\n",
       "  .table-result-container {\n",
       "    max-height: 300px;\n",
       "    overflow: auto;\n",
       "  }\n",
       "  table, th, td {\n",
       "    border: 1px solid black;\n",
       "    border-collapse: collapse;\n",
       "  }\n",
       "  th, td {\n",
       "    padding: 5px;\n",
       "  }\n",
       "  th {\n",
       "    text-align: left;\n",
       "  }\n",
       "</style><div class='table-result-container'><table class='table-result'><thead style='background-color: white'><tr><th>id</th><th>FeedbackID</th><th>ProductID</th><th>CustomerID</th><th>Rating</th><th>Comments</th><th>FeedbackDate</th><th>Filename</th><th>LoadTimestamp</th></tr></thead><tbody><tr><td>0</td><td>823f8ebb-2962-4792-9b65-04f4c4efc4ab</td><td>1734248b-a2aa-4550-a0e7-b442b6380fae</td><td>04917cdb-a5d9-4b5a-a53d-be1ead775fee</td><td>1</td><td>null</td><td>2024-05-14</td><td>wasbs://00-landing@cdmo.blob.core.windows.net/data/incoming/customerfeedback/customerfeedback_20250130_045331.csv</td><td>2025-01-30T05:03:46.845+0000</td></tr><tr><td>1</td><td>b8d706ff-db62-4cf7-ab5c-70c30b5182d5</td><td>82a3cc22-be81-4387-a969-d007012af821</td><td>2ea6d8ac-0b73-4705-bd0d-e7ae80e239ed</td><td>1</td><td>null</td><td>2024-06-25</td><td>wasbs://00-landing@cdmo.blob.core.windows.net/data/incoming/customerfeedback/customerfeedback_20250130_045331.csv</td><td>2025-01-30T05:03:46.845+0000</td></tr><tr><td>2</td><td>7435f123-6d32-4050-905c-2a1aab21622f</td><td>f9c95ae4-4d4e-490d-8c89-1c5f141d8d6f</td><td>168ff7d5-a2c7-4c51-a67a-84c2ac22852a</td><td>2</td><td>null</td><td>2024-08-06</td><td>wasbs://00-landing@cdmo.blob.core.windows.net/data/incoming/customerfeedback/customerfeedback_20250130_045331.csv</td><td>2025-01-30T05:03:46.845+0000</td></tr><tr><td>3</td><td>918832ce-1be7-48be-8257-635908af3b4e</td><td>7f12b042-a480-47fd-9d10-6a1d857683d7</td><td>45c9f848-5c84-4870-ac5f-f697c9471f62</td><td>4</td><td>null</td><td>2025-01-06</td><td>wasbs://00-landing@cdmo.blob.core.windows.net/data/incoming/customerfeedback/customerfeedback_20250130_045331.csv</td><td>2025-01-30T05:03:46.845+0000</td></tr><tr><td>4</td><td>cc3bd229-f85f-4992-a135-99b21548b6ee</td><td>d3e64104-9e64-4bca-9e1e-8e07a522d046</td><td>5f2dfe65-3372-4aa3-a293-bf274dd730af</td><td>2</td><td>null</td><td>2024-09-08</td><td>wasbs://00-landing@cdmo.blob.core.windows.net/data/incoming/customerfeedback/customerfeedback_20250130_045331.csv</td><td>2025-01-30T05:03:46.845+0000</td></tr><tr><td>5</td><td>5ed9b9b3-7dd7-4a14-a59e-14dda0b583ed</td><td>4164f941-ac1e-4c44-80f4-9c6b14288f31</td><td>e05cd884-8b2f-44cd-9058-7f5831228596</td><td>2</td><td>null</td><td>2024-03-10</td><td>wasbs://00-landing@cdmo.blob.core.windows.net/data/incoming/customerfeedback/customerfeedback_20250130_045331.csv</td><td>2025-01-30T05:03:46.845+0000</td></tr><tr><td>6</td><td>f65b0900-c1e8-49ac-9df1-46235d81cba1</td><td>ea966f4b-23f7-4bb1-b0f4-8054cbccf5e7</td><td>89972455-a774-4845-b204-f21eba569be6</td><td>3</td><td>null</td><td>2024-09-11</td><td>wasbs://00-landing@cdmo.blob.core.windows.net/data/incoming/customerfeedback/customerfeedback_20250130_045331.csv</td><td>2025-01-30T05:03:46.845+0000</td></tr><tr><td>7</td><td>badb2b83-42de-4ffa-a710-88c12598cf25</td><td>88ddf5c5-b22d-4450-8ae5-f92419a3d2ee</td><td>4a79f34a-23ac-4028-84dc-6e04a259e2a1</td><td>4</td><td>null</td><td>2024-11-18</td><td>wasbs://00-landing@cdmo.blob.core.windows.net/data/incoming/customerfeedback/customerfeedback_20250130_045331.csv</td><td>2025-01-30T05:03:46.845+0000</td></tr><tr><td>8</td><td>b3bf7a5d-3409-45fe-b9a1-575cebe6708a</td><td>3f8f33b9-2257-4abf-8277-2a39b64fe42d</td><td>cfb0df0f-a7c1-4c7c-848f-95c8279fe657</td><td>3</td><td>null</td><td>2024-04-12</td><td>wasbs://00-landing@cdmo.blob.core.windows.net/data/incoming/customerfeedback/customerfeedback_20250130_045331.csv</td><td>2025-01-30T05:03:46.845+0000</td></tr><tr><td>9</td><td>660eaf97-be6b-4fed-b0fa-3faf4ed708d0</td><td>87cdd7f9-a33c-478a-bcee-e9836bdf3da7</td><td>d159da75-12b7-4807-8e8a-ae0bf8494d88</td><td>1</td><td>null</td><td>2024-02-16</td><td>wasbs://00-landing@cdmo.blob.core.windows.net/data/incoming/customerfeedback/customerfeedback_20250130_045331.csv</td><td>2025-01-30T05:03:46.845+0000</td></tr><tr><td>10</td><td>600840ec-1ecc-4165-b186-2589ab30dc8c</td><td>e4e1b4c0-5533-4225-b50d-a4429553ceb3</td><td>8e7321b8-331c-403a-becd-1346ceb98cf8</td><td>2</td><td>null</td><td>2025-01-23</td><td>wasbs://00-landing@cdmo.blob.core.windows.net/data/incoming/customerfeedback/customerfeedback_20250130_045331.csv</td><td>2025-01-30T05:03:46.845+0000</td></tr><tr><td>11</td><td>4dcfa97a-2c60-4bfa-aa68-da31d09a9eab</td><td>c3151231-e885-4c48-9cdb-ef31fb3c26a6</td><td>c9840515-4f54-4489-b4cc-bf116f952877</td><td>4</td><td>null</td><td>2024-10-28</td><td>wasbs://00-landing@cdmo.blob.core.windows.net/data/incoming/customerfeedback/customerfeedback_20250130_045331.csv</td><td>2025-01-30T05:03:46.845+0000</td></tr><tr><td>12</td><td>b31c60b5-cb08-4d54-ba71-6838912927dc</td><td>7b858761-ca35-4ec1-b973-f26d56f7cb8e</td><td>947119e3-667d-43fd-abbc-b0a1b4611a52</td><td>2</td><td>null</td><td>2024-05-19</td><td>wasbs://00-landing@cdmo.blob.core.windows.net/data/incoming/customerfeedback/customerfeedback_20250130_045331.csv</td><td>2025-01-30T05:03:46.845+0000</td></tr><tr><td>13</td><td>6d9d89e0-f76e-4564-9bde-634d8eb10c05</td><td>6b0739d3-479c-4bb1-8f12-d70ab07ba35b</td><td>050ce49b-ca5e-4b01-924e-cb6ddfa23418</td><td>1</td><td>null</td><td>2024-06-05</td><td>wasbs://00-landing@cdmo.blob.core.windows.net/data/incoming/customerfeedback/customerfeedback_20250130_045331.csv</td><td>2025-01-30T05:03:46.845+0000</td></tr><tr><td>14</td><td>0a997dd7-2bb9-475f-b320-702b0a959228</td><td>a14c33e9-6532-403a-84ec-96dbe325b839</td><td>4f526bb6-4a3c-45b4-bece-831890f1db06</td><td>1</td><td>null</td><td>2025-01-30</td><td>wasbs://00-landing@cdmo.blob.core.windows.net/data/incoming/customerfeedback/customerfeedback_20250130_045331.csv</td><td>2025-01-30T05:03:46.845+0000</td></tr><tr><td>15</td><td>860539a4-67a2-4bd5-8a6b-56691443100f</td><td>4b007b8a-652a-4848-82bb-a45eb9368776</td><td>7dcde0b9-f41d-42df-8eb7-289bddbb33d4</td><td>3</td><td>null</td><td>2024-09-07</td><td>wasbs://00-landing@cdmo.blob.core.windows.net/data/incoming/customerfeedback/customerfeedback_20250130_045331.csv</td><td>2025-01-30T05:03:46.845+0000</td></tr><tr><td>16</td><td>f67a05e0-3423-4832-b6d4-8b29f530eda9</td><td>3853aedb-e45f-4ffc-9331-15851e316801</td><td>26f4bf54-18db-43f6-a811-ab15bcf18359</td><td>2</td><td>null</td><td>2024-02-24</td><td>wasbs://00-landing@cdmo.blob.core.windows.net/data/incoming/customerfeedback/customerfeedback_20250130_045331.csv</td><td>2025-01-30T05:03:46.845+0000</td></tr><tr><td>17</td><td>d1891ed9-076d-47f4-b197-c12e484b7c37</td><td>3e673fc4-17a8-42f3-a65a-d5bd7529a57e</td><td>9934d509-eca1-469e-9600-5214fabaac85</td><td>3</td><td>null</td><td>2024-09-13</td><td>wasbs://00-landing@cdmo.blob.core.windows.net/data/incoming/customerfeedback/customerfeedback_20250130_045331.csv</td><td>2025-01-30T05:03:46.845+0000</td></tr><tr><td>18</td><td>c32ee817-52b0-422b-9807-4e066746b2c7</td><td>cdf0ce2a-66f4-4948-ae3a-d21144816ced</td><td>5eb9d05d-903a-432a-a4ae-478e882ce13b</td><td>4</td><td>null</td><td>2024-03-13</td><td>wasbs://00-landing@cdmo.blob.core.windows.net/data/incoming/customerfeedback/customerfeedback_20250130_045331.csv</td><td>2025-01-30T05:03:46.845+0000</td></tr><tr><td>19</td><td>2e78988f-cd7b-447d-8dfa-f7429db719e2</td><td>18860715-9052-4144-9852-34e973dcb30f</td><td>496213bc-606e-49db-975b-d5d4bc1be1ea</td><td>1</td><td>null</td><td>2025-01-12</td><td>wasbs://00-landing@cdmo.blob.core.windows.net/data/incoming/customerfeedback/customerfeedback_20250130_045331.csv</td><td>2025-01-30T05:03:46.845+0000</td></tr><tr><td>20</td><td>7b731694-490d-4838-a6ed-83c3a0504cf7</td><td>d9052ce9-30d7-4f13-92b3-4b359747d46f</td><td>882e2c3d-55c0-4976-80be-94df5ecad703</td><td>3</td><td>null</td><td>2024-05-08</td><td>wasbs://00-landing@cdmo.blob.core.windows.net/data/incoming/customerfeedback/customerfeedback_20250130_045331.csv</td><td>2025-01-30T05:03:46.845+0000</td></tr><tr><td>21</td><td>adb38bc9-2180-443f-bfa3-916bdaa33385</td><td>a38de7f8-11fc-4aa8-82a5-a6a3d918e5bf</td><td>cc25b6dd-cddf-4b7e-b4e8-b4dafbe68fe8</td><td>3</td><td>null</td><td>2024-12-22</td><td>wasbs://00-landing@cdmo.blob.core.windows.net/data/incoming/customerfeedback/customerfeedback_20250130_045331.csv</td><td>2025-01-30T05:03:46.845+0000</td></tr><tr><td>22</td><td>d1007294-1a71-4c80-bdac-978d60fa333a</td><td>5fa90ff6-57ff-4b0d-8d1a-474798716953</td><td>e66c1098-f35a-429a-bac9-14460704e370</td><td>3</td><td>null</td><td>2024-02-07</td><td>wasbs://00-landing@cdmo.blob.core.windows.net/data/incoming/customerfeedback/customerfeedback_20250130_045331.csv</td><td>2025-01-30T05:03:46.845+0000</td></tr><tr><td>23</td><td>faa01891-5de7-4e76-90bf-bac41f19dffc</td><td>ba82059a-1c5c-4fd7-bace-4a8023599b73</td><td>b4c9d6a0-cf3d-4fa1-a1d8-b72339973174</td><td>3</td><td>null</td><td>2024-08-28</td><td>wasbs://00-landing@cdmo.blob.core.windows.net/data/incoming/customerfeedback/customerfeedback_20250130_045331.csv</td><td>2025-01-30T05:03:46.845+0000</td></tr><tr><td>24</td><td>b58d0e19-75aa-4211-917b-4802a3b1c168</td><td>ffddad2c-b4d9-4e5f-83b4-943bcf0d39cc</td><td>dc89a5b3-f176-4dba-8410-ec82005a72c7</td><td>1</td><td>null</td><td>2024-11-03</td><td>wasbs://00-landing@cdmo.blob.core.windows.net/data/incoming/customerfeedback/customerfeedback_20250130_045331.csv</td><td>2025-01-30T05:03:46.845+0000</td></tr><tr><td>25</td><td>ba005603-a69a-4d76-8364-a87a278d7686</td><td>7c45838b-91db-44bb-af96-dcddfea3ad5e</td><td>c12ab70e-abbc-482b-8e3d-bf6e5982166b</td><td>3</td><td>null</td><td>2024-04-30</td><td>wasbs://00-landing@cdmo.blob.core.windows.net/data/incoming/customerfeedback/customerfeedback_20250130_045331.csv</td><td>2025-01-30T05:03:46.845+0000</td></tr><tr><td>26</td><td>bded0dd1-afc9-4243-8987-a72ae5a7174a</td><td>a88422f5-19c8-4d86-a11d-4ea6c6643538</td><td>1a3d642c-b2d5-4068-984b-4aa4c4a486c4</td><td>3</td><td>null</td><td>2024-04-06</td><td>wasbs://00-landing@cdmo.blob.core.windows.net/data/incoming/customerfeedback/customerfeedback_20250130_045331.csv</td><td>2025-01-30T05:03:46.845+0000</td></tr><tr><td>27</td><td>84427c99-c087-4c0a-a516-d7975852d9af</td><td>958b88cc-5d29-4be2-9de6-578f92f3a7c6</td><td>d1d5b589-bbec-4eb3-8fbf-0a9dd3a1e445</td><td>3</td><td>null</td><td>2025-01-11</td><td>wasbs://00-landing@cdmo.blob.core.windows.net/data/incoming/customerfeedback/customerfeedback_20250130_045331.csv</td><td>2025-01-30T05:03:46.845+0000</td></tr><tr><td>28</td><td>c4db4ee3-5010-4e63-b6b8-eb0913a73816</td><td>d27a0498-8ae9-4fa6-ae2d-bd6255e6ef0d</td><td>90e5eca0-8b3a-4931-b0ad-230a47a8db26</td><td>1</td><td>null</td><td>2025-01-12</td><td>wasbs://00-landing@cdmo.blob.core.windows.net/data/incoming/customerfeedback/customerfeedback_20250130_045331.csv</td><td>2025-01-30T05:03:46.845+0000</td></tr><tr><td>29</td><td>26363773-b5d5-487e-9e40-b571f494205b</td><td>89368805-ef12-4786-a702-8c6c342cc912</td><td>b5a4da98-5501-4d74-b917-5c5726693cf8</td><td>4</td><td>null</td><td>2025-01-15</td><td>wasbs://00-landing@cdmo.blob.core.windows.net/data/incoming/customerfeedback/customerfeedback_20250130_045331.csv</td><td>2025-01-30T05:03:46.845+0000</td></tr><tr><td>30</td><td>c5f16b8a-f1b6-4fe3-9ad1-25024271e2f2</td><td>c19b4918-2e03-4aa9-ba82-368bfe2aabad</td><td>418a4a16-27f9-4b0a-9f90-db87c478a55f</td><td>2</td><td>null</td><td>2024-04-28</td><td>wasbs://00-landing@cdmo.blob.core.windows.net/data/incoming/customerfeedback/customerfeedback_20250130_045331.csv</td><td>2025-01-30T05:03:46.845+0000</td></tr><tr><td>31</td><td>9e43ce3a-3a10-49af-91ee-caac504e4a6f</td><td>6b5d3cef-bb07-4c72-b346-3a686e35c828</td><td>d899a09e-75a6-4d8f-9a7d-718f5f3a5bfa</td><td>1</td><td>null</td><td>2024-12-07</td><td>wasbs://00-landing@cdmo.blob.core.windows.net/data/incoming/customerfeedback/customerfeedback_20250130_045331.csv</td><td>2025-01-30T05:03:46.845+0000</td></tr><tr><td>32</td><td>6a753c5d-bf4e-4568-8766-2007746f1a32</td><td>eda07348-8d1a-49f2-9529-08d8b86a25cf</td><td>a7734202-aceb-434d-8a2b-43dcff3f5385</td><td>1</td><td>null</td><td>2024-06-14</td><td>wasbs://00-landing@cdmo.blob.core.windows.net/data/incoming/customerfeedback/customerfeedback_20250130_045331.csv</td><td>2025-01-30T05:03:46.845+0000</td></tr><tr><td>33</td><td>2a615500-1ef9-4b7a-9281-a9381b007883</td><td>3eaa101e-0115-432d-98f7-7b5b961b5171</td><td>2b865738-cf5a-4e2a-873a-b606feb0306c</td><td>1</td><td>null</td><td>2024-10-03</td><td>wasbs://00-landing@cdmo.blob.core.windows.net/data/incoming/customerfeedback/customerfeedback_20250130_045331.csv</td><td>2025-01-30T05:03:46.845+0000</td></tr><tr><td>34</td><td>affc8745-9aa9-4463-ac04-488454462fed</td><td>052faeb1-2b87-4943-ab84-86d798313db6</td><td>219aacfe-87e9-468d-b517-741295dd7c3a</td><td>2</td><td>null</td><td>2024-10-07</td><td>wasbs://00-landing@cdmo.blob.core.windows.net/data/incoming/customerfeedback/customerfeedback_20250130_045331.csv</td><td>2025-01-30T05:03:46.845+0000</td></tr><tr><td>35</td><td>cda52098-03f4-436d-ab74-0fb278b18778</td><td>ae885905-7dd4-4f6a-a0f1-be0072929d25</td><td>47b4172e-3b22-4098-916e-4b0aa31167db</td><td>3</td><td>null</td><td>2024-11-22</td><td>wasbs://00-landing@cdmo.blob.core.windows.net/data/incoming/customerfeedback/customerfeedback_20250130_045331.csv</td><td>2025-01-30T05:03:46.845+0000</td></tr><tr><td>36</td><td>36fe983d-7289-4c8c-b411-3350a3f45ccd</td><td>d62d2e1c-4803-45b7-89ee-97df8fa55e6c</td><td>6b3f50cb-35dd-4f09-9f46-175df930a284</td><td>4</td><td>null</td><td>2024-05-25</td><td>wasbs://00-landing@cdmo.blob.core.windows.net/data/incoming/customerfeedback/customerfeedback_20250130_045331.csv</td><td>2025-01-30T05:03:46.845+0000</td></tr><tr><td>37</td><td>402a773a-1f5c-42b4-a7c7-ac8a6f0d95a4</td><td>9c7ff6bd-eff9-40f6-b349-26611a88cdc0</td><td>c8fadd3b-2cbb-4bb7-b93c-183cf6d1700a</td><td>4</td><td>null</td><td>2024-02-27</td><td>wasbs://00-landing@cdmo.blob.core.windows.net/data/incoming/customerfeedback/customerfeedback_20250130_045331.csv</td><td>2025-01-30T05:03:46.845+0000</td></tr><tr><td>38</td><td>4a2db647-f6eb-4b41-ad98-26a1cd007d06</td><td>9963d1cf-4ada-43c8-9e5f-8c005a50478d</td><td>e395cbc3-9094-4eb3-a7db-f6ff601e0156</td><td>2</td><td>null</td><td>2024-09-04</td><td>wasbs://00-landing@cdmo.blob.core.windows.net/data/incoming/customerfeedback/customerfeedback_20250130_045331.csv</td><td>2025-01-30T05:03:46.845+0000</td></tr><tr><td>39</td><td>3fbe750c-aef7-40d8-a17c-003b70e4f97e</td><td>2ec9039a-f030-47cc-a88c-ecbf815b727e</td><td>41a9c418-d4dc-4d76-b3bf-13d363664b56</td><td>3</td><td>null</td><td>2024-06-28</td><td>wasbs://00-landing@cdmo.blob.core.windows.net/data/incoming/customerfeedback/customerfeedback_20250130_045331.csv</td><td>2025-01-30T05:03:46.845+0000</td></tr><tr><td>40</td><td>1308683c-3ba7-42c8-a11b-5ae34da113b8</td><td>52cfa4d0-307d-4b92-bba3-aacaded0e4bb</td><td>b31b6517-f458-4909-a3e6-18adc8e9047e</td><td>4</td><td>null</td><td>2024-03-15</td><td>wasbs://00-landing@cdmo.blob.core.windows.net/data/incoming/customerfeedback/customerfeedback_20250130_045331.csv</td><td>2025-01-30T05:03:46.845+0000</td></tr><tr><td>41</td><td>f5494b46-4ac8-4d04-ad6d-521a5b44315d</td><td>030925ae-bc9b-4f21-a4be-53172114be45</td><td>3b9afa87-010d-4220-b3b9-f1376b598a48</td><td>1</td><td>null</td><td>2024-02-16</td><td>wasbs://00-landing@cdmo.blob.core.windows.net/data/incoming/customerfeedback/customerfeedback_20250130_045331.csv</td><td>2025-01-30T05:03:46.845+0000</td></tr><tr><td>42</td><td>8addd863-a58a-4139-b591-8fba400cc4bd</td><td>88d53f8d-d611-4e50-a44b-92f9b994721a</td><td>06410de3-7631-4e54-a8b2-69736addde3d</td><td>1</td><td>null</td><td>2024-02-06</td><td>wasbs://00-landing@cdmo.blob.core.windows.net/data/incoming/customerfeedback/customerfeedback_20250130_045331.csv</td><td>2025-01-30T05:03:46.845+0000</td></tr><tr><td>43</td><td>80cd2434-73c3-4d36-924e-c7ebea2c73c2</td><td>2ff6e2c1-2f02-4f0f-8740-09e892d6ee13</td><td>51520059-4d18-49a5-bcfc-22648ef96d4f</td><td>3</td><td>null</td><td>2024-03-13</td><td>wasbs://00-landing@cdmo.blob.core.windows.net/data/incoming/customerfeedback/customerfeedback_20250130_045331.csv</td><td>2025-01-30T05:03:46.845+0000</td></tr><tr><td>44</td><td>33644a54-d686-449e-b17e-f15da4d33d53</td><td>ec1f1070-4236-41c5-87d9-7800a460901a</td><td>cabaa50c-87f5-42dc-ba75-d77ab5b4e61c</td><td>1</td><td>null</td><td>2024-12-11</td><td>wasbs://00-landing@cdmo.blob.core.windows.net/data/incoming/customerfeedback/customerfeedback_20250130_045331.csv</td><td>2025-01-30T05:03:46.845+0000</td></tr><tr><td>45</td><td>29f62086-2b1e-4820-9d83-e4e38f20ffcf</td><td>c440bc54-4dd0-4370-ae11-730bc66ca597</td><td>5315ea5a-6715-4726-a387-5fced3047249</td><td>2</td><td>null</td><td>2025-01-05</td><td>wasbs://00-landing@cdmo.blob.core.windows.net/data/incoming/customerfeedback/customerfeedback_20250130_045331.csv</td><td>2025-01-30T05:03:46.845+0000</td></tr><tr><td>46</td><td>231b852c-8fcb-432c-aa81-119c3cde2ae1</td><td>0d51acb8-e5a0-4396-be6c-305aa9a988ee</td><td>2a316b20-69ee-4388-9a3d-f2c60f4998da</td><td>3</td><td>null</td><td>2025-01-10</td><td>wasbs://00-landing@cdmo.blob.core.windows.net/data/incoming/customerfeedback/customerfeedback_20250130_045331.csv</td><td>2025-01-30T05:03:46.845+0000</td></tr><tr><td>47</td><td>82bc6695-d200-4669-93b0-08bdcbf30d0a</td><td>5ad1dd41-50eb-4c98-ac2d-d43a217af9ae</td><td>a0b78e7b-953b-4ab8-8f2e-953ef35e6515</td><td>3</td><td>null</td><td>2024-03-09</td><td>wasbs://00-landing@cdmo.blob.core.windows.net/data/incoming/customerfeedback/customerfeedback_20250130_045331.csv</td><td>2025-01-30T05:03:46.845+0000</td></tr><tr><td>48</td><td>e4cafa85-624d-402f-ac23-823dd98d32f1</td><td>23d5dd6e-b983-4ffc-9906-03a9d0a8e317</td><td>a96a4fee-776e-4e80-abc6-a31a8d199cd5</td><td>1</td><td>null</td><td>2024-06-22</td><td>wasbs://00-landing@cdmo.blob.core.windows.net/data/incoming/customerfeedback/customerfeedback_20250130_045331.csv</td><td>2025-01-30T05:03:46.845+0000</td></tr><tr><td>49</td><td>d98c00e3-e0b1-4f7f-aea3-d21259d9bfaa</td><td>50e09dca-2437-4a1d-ae29-abc593431be9</td><td>1516f84d-3dc2-4714-bfbb-562919c1a055</td><td>4</td><td>null</td><td>2024-09-21</td><td>wasbs://00-landing@cdmo.blob.core.windows.net/data/incoming/customerfeedback/customerfeedback_20250130_045331.csv</td><td>2025-01-30T05:03:46.845+0000</td></tr></tbody></table></div>"
      ]
     },
     "metadata": {
      "application/vnd.databricks.v1+output": {
       "addedWidgets": {},
       "aggData": [],
       "aggError": "",
       "aggOverflow": false,
       "aggSchema": [],
       "aggSeriesLimitReached": false,
       "aggType": "",
       "arguments": {},
       "columnCustomDisplayInfos": {},
       "data": [
        [
         "0",
         "823f8ebb-2962-4792-9b65-04f4c4efc4ab",
         "1734248b-a2aa-4550-a0e7-b442b6380fae",
         "04917cdb-a5d9-4b5a-a53d-be1ead775fee",
         "1",
         null,
         "2024-05-14",
         "wasbs://00-landing@cdmo.blob.core.windows.net/data/incoming/customerfeedback/customerfeedback_20250130_045331.csv",
         "2025-01-30T05:03:46.845+0000"
        ],
        [
         "1",
         "b8d706ff-db62-4cf7-ab5c-70c30b5182d5",
         "82a3cc22-be81-4387-a969-d007012af821",
         "2ea6d8ac-0b73-4705-bd0d-e7ae80e239ed",
         "1",
         null,
         "2024-06-25",
         "wasbs://00-landing@cdmo.blob.core.windows.net/data/incoming/customerfeedback/customerfeedback_20250130_045331.csv",
         "2025-01-30T05:03:46.845+0000"
        ],
        [
         "2",
         "7435f123-6d32-4050-905c-2a1aab21622f",
         "f9c95ae4-4d4e-490d-8c89-1c5f141d8d6f",
         "168ff7d5-a2c7-4c51-a67a-84c2ac22852a",
         "2",
         null,
         "2024-08-06",
         "wasbs://00-landing@cdmo.blob.core.windows.net/data/incoming/customerfeedback/customerfeedback_20250130_045331.csv",
         "2025-01-30T05:03:46.845+0000"
        ],
        [
         "3",
         "918832ce-1be7-48be-8257-635908af3b4e",
         "7f12b042-a480-47fd-9d10-6a1d857683d7",
         "45c9f848-5c84-4870-ac5f-f697c9471f62",
         "4",
         null,
         "2025-01-06",
         "wasbs://00-landing@cdmo.blob.core.windows.net/data/incoming/customerfeedback/customerfeedback_20250130_045331.csv",
         "2025-01-30T05:03:46.845+0000"
        ],
        [
         "4",
         "cc3bd229-f85f-4992-a135-99b21548b6ee",
         "d3e64104-9e64-4bca-9e1e-8e07a522d046",
         "5f2dfe65-3372-4aa3-a293-bf274dd730af",
         "2",
         null,
         "2024-09-08",
         "wasbs://00-landing@cdmo.blob.core.windows.net/data/incoming/customerfeedback/customerfeedback_20250130_045331.csv",
         "2025-01-30T05:03:46.845+0000"
        ],
        [
         "5",
         "5ed9b9b3-7dd7-4a14-a59e-14dda0b583ed",
         "4164f941-ac1e-4c44-80f4-9c6b14288f31",
         "e05cd884-8b2f-44cd-9058-7f5831228596",
         "2",
         null,
         "2024-03-10",
         "wasbs://00-landing@cdmo.blob.core.windows.net/data/incoming/customerfeedback/customerfeedback_20250130_045331.csv",
         "2025-01-30T05:03:46.845+0000"
        ],
        [
         "6",
         "f65b0900-c1e8-49ac-9df1-46235d81cba1",
         "ea966f4b-23f7-4bb1-b0f4-8054cbccf5e7",
         "89972455-a774-4845-b204-f21eba569be6",
         "3",
         null,
         "2024-09-11",
         "wasbs://00-landing@cdmo.blob.core.windows.net/data/incoming/customerfeedback/customerfeedback_20250130_045331.csv",
         "2025-01-30T05:03:46.845+0000"
        ],
        [
         "7",
         "badb2b83-42de-4ffa-a710-88c12598cf25",
         "88ddf5c5-b22d-4450-8ae5-f92419a3d2ee",
         "4a79f34a-23ac-4028-84dc-6e04a259e2a1",
         "4",
         null,
         "2024-11-18",
         "wasbs://00-landing@cdmo.blob.core.windows.net/data/incoming/customerfeedback/customerfeedback_20250130_045331.csv",
         "2025-01-30T05:03:46.845+0000"
        ],
        [
         "8",
         "b3bf7a5d-3409-45fe-b9a1-575cebe6708a",
         "3f8f33b9-2257-4abf-8277-2a39b64fe42d",
         "cfb0df0f-a7c1-4c7c-848f-95c8279fe657",
         "3",
         null,
         "2024-04-12",
         "wasbs://00-landing@cdmo.blob.core.windows.net/data/incoming/customerfeedback/customerfeedback_20250130_045331.csv",
         "2025-01-30T05:03:46.845+0000"
        ],
        [
         "9",
         "660eaf97-be6b-4fed-b0fa-3faf4ed708d0",
         "87cdd7f9-a33c-478a-bcee-e9836bdf3da7",
         "d159da75-12b7-4807-8e8a-ae0bf8494d88",
         "1",
         null,
         "2024-02-16",
         "wasbs://00-landing@cdmo.blob.core.windows.net/data/incoming/customerfeedback/customerfeedback_20250130_045331.csv",
         "2025-01-30T05:03:46.845+0000"
        ],
        [
         "10",
         "600840ec-1ecc-4165-b186-2589ab30dc8c",
         "e4e1b4c0-5533-4225-b50d-a4429553ceb3",
         "8e7321b8-331c-403a-becd-1346ceb98cf8",
         "2",
         null,
         "2025-01-23",
         "wasbs://00-landing@cdmo.blob.core.windows.net/data/incoming/customerfeedback/customerfeedback_20250130_045331.csv",
         "2025-01-30T05:03:46.845+0000"
        ],
        [
         "11",
         "4dcfa97a-2c60-4bfa-aa68-da31d09a9eab",
         "c3151231-e885-4c48-9cdb-ef31fb3c26a6",
         "c9840515-4f54-4489-b4cc-bf116f952877",
         "4",
         null,
         "2024-10-28",
         "wasbs://00-landing@cdmo.blob.core.windows.net/data/incoming/customerfeedback/customerfeedback_20250130_045331.csv",
         "2025-01-30T05:03:46.845+0000"
        ],
        [
         "12",
         "b31c60b5-cb08-4d54-ba71-6838912927dc",
         "7b858761-ca35-4ec1-b973-f26d56f7cb8e",
         "947119e3-667d-43fd-abbc-b0a1b4611a52",
         "2",
         null,
         "2024-05-19",
         "wasbs://00-landing@cdmo.blob.core.windows.net/data/incoming/customerfeedback/customerfeedback_20250130_045331.csv",
         "2025-01-30T05:03:46.845+0000"
        ],
        [
         "13",
         "6d9d89e0-f76e-4564-9bde-634d8eb10c05",
         "6b0739d3-479c-4bb1-8f12-d70ab07ba35b",
         "050ce49b-ca5e-4b01-924e-cb6ddfa23418",
         "1",
         null,
         "2024-06-05",
         "wasbs://00-landing@cdmo.blob.core.windows.net/data/incoming/customerfeedback/customerfeedback_20250130_045331.csv",
         "2025-01-30T05:03:46.845+0000"
        ],
        [
         "14",
         "0a997dd7-2bb9-475f-b320-702b0a959228",
         "a14c33e9-6532-403a-84ec-96dbe325b839",
         "4f526bb6-4a3c-45b4-bece-831890f1db06",
         "1",
         null,
         "2025-01-30",
         "wasbs://00-landing@cdmo.blob.core.windows.net/data/incoming/customerfeedback/customerfeedback_20250130_045331.csv",
         "2025-01-30T05:03:46.845+0000"
        ],
        [
         "15",
         "860539a4-67a2-4bd5-8a6b-56691443100f",
         "4b007b8a-652a-4848-82bb-a45eb9368776",
         "7dcde0b9-f41d-42df-8eb7-289bddbb33d4",
         "3",
         null,
         "2024-09-07",
         "wasbs://00-landing@cdmo.blob.core.windows.net/data/incoming/customerfeedback/customerfeedback_20250130_045331.csv",
         "2025-01-30T05:03:46.845+0000"
        ],
        [
         "16",
         "f67a05e0-3423-4832-b6d4-8b29f530eda9",
         "3853aedb-e45f-4ffc-9331-15851e316801",
         "26f4bf54-18db-43f6-a811-ab15bcf18359",
         "2",
         null,
         "2024-02-24",
         "wasbs://00-landing@cdmo.blob.core.windows.net/data/incoming/customerfeedback/customerfeedback_20250130_045331.csv",
         "2025-01-30T05:03:46.845+0000"
        ],
        [
         "17",
         "d1891ed9-076d-47f4-b197-c12e484b7c37",
         "3e673fc4-17a8-42f3-a65a-d5bd7529a57e",
         "9934d509-eca1-469e-9600-5214fabaac85",
         "3",
         null,
         "2024-09-13",
         "wasbs://00-landing@cdmo.blob.core.windows.net/data/incoming/customerfeedback/customerfeedback_20250130_045331.csv",
         "2025-01-30T05:03:46.845+0000"
        ],
        [
         "18",
         "c32ee817-52b0-422b-9807-4e066746b2c7",
         "cdf0ce2a-66f4-4948-ae3a-d21144816ced",
         "5eb9d05d-903a-432a-a4ae-478e882ce13b",
         "4",
         null,
         "2024-03-13",
         "wasbs://00-landing@cdmo.blob.core.windows.net/data/incoming/customerfeedback/customerfeedback_20250130_045331.csv",
         "2025-01-30T05:03:46.845+0000"
        ],
        [
         "19",
         "2e78988f-cd7b-447d-8dfa-f7429db719e2",
         "18860715-9052-4144-9852-34e973dcb30f",
         "496213bc-606e-49db-975b-d5d4bc1be1ea",
         "1",
         null,
         "2025-01-12",
         "wasbs://00-landing@cdmo.blob.core.windows.net/data/incoming/customerfeedback/customerfeedback_20250130_045331.csv",
         "2025-01-30T05:03:46.845+0000"
        ],
        [
         "20",
         "7b731694-490d-4838-a6ed-83c3a0504cf7",
         "d9052ce9-30d7-4f13-92b3-4b359747d46f",
         "882e2c3d-55c0-4976-80be-94df5ecad703",
         "3",
         null,
         "2024-05-08",
         "wasbs://00-landing@cdmo.blob.core.windows.net/data/incoming/customerfeedback/customerfeedback_20250130_045331.csv",
         "2025-01-30T05:03:46.845+0000"
        ],
        [
         "21",
         "adb38bc9-2180-443f-bfa3-916bdaa33385",
         "a38de7f8-11fc-4aa8-82a5-a6a3d918e5bf",
         "cc25b6dd-cddf-4b7e-b4e8-b4dafbe68fe8",
         "3",
         null,
         "2024-12-22",
         "wasbs://00-landing@cdmo.blob.core.windows.net/data/incoming/customerfeedback/customerfeedback_20250130_045331.csv",
         "2025-01-30T05:03:46.845+0000"
        ],
        [
         "22",
         "d1007294-1a71-4c80-bdac-978d60fa333a",
         "5fa90ff6-57ff-4b0d-8d1a-474798716953",
         "e66c1098-f35a-429a-bac9-14460704e370",
         "3",
         null,
         "2024-02-07",
         "wasbs://00-landing@cdmo.blob.core.windows.net/data/incoming/customerfeedback/customerfeedback_20250130_045331.csv",
         "2025-01-30T05:03:46.845+0000"
        ],
        [
         "23",
         "faa01891-5de7-4e76-90bf-bac41f19dffc",
         "ba82059a-1c5c-4fd7-bace-4a8023599b73",
         "b4c9d6a0-cf3d-4fa1-a1d8-b72339973174",
         "3",
         null,
         "2024-08-28",
         "wasbs://00-landing@cdmo.blob.core.windows.net/data/incoming/customerfeedback/customerfeedback_20250130_045331.csv",
         "2025-01-30T05:03:46.845+0000"
        ],
        [
         "24",
         "b58d0e19-75aa-4211-917b-4802a3b1c168",
         "ffddad2c-b4d9-4e5f-83b4-943bcf0d39cc",
         "dc89a5b3-f176-4dba-8410-ec82005a72c7",
         "1",
         null,
         "2024-11-03",
         "wasbs://00-landing@cdmo.blob.core.windows.net/data/incoming/customerfeedback/customerfeedback_20250130_045331.csv",
         "2025-01-30T05:03:46.845+0000"
        ],
        [
         "25",
         "ba005603-a69a-4d76-8364-a87a278d7686",
         "7c45838b-91db-44bb-af96-dcddfea3ad5e",
         "c12ab70e-abbc-482b-8e3d-bf6e5982166b",
         "3",
         null,
         "2024-04-30",
         "wasbs://00-landing@cdmo.blob.core.windows.net/data/incoming/customerfeedback/customerfeedback_20250130_045331.csv",
         "2025-01-30T05:03:46.845+0000"
        ],
        [
         "26",
         "bded0dd1-afc9-4243-8987-a72ae5a7174a",
         "a88422f5-19c8-4d86-a11d-4ea6c6643538",
         "1a3d642c-b2d5-4068-984b-4aa4c4a486c4",
         "3",
         null,
         "2024-04-06",
         "wasbs://00-landing@cdmo.blob.core.windows.net/data/incoming/customerfeedback/customerfeedback_20250130_045331.csv",
         "2025-01-30T05:03:46.845+0000"
        ],
        [
         "27",
         "84427c99-c087-4c0a-a516-d7975852d9af",
         "958b88cc-5d29-4be2-9de6-578f92f3a7c6",
         "d1d5b589-bbec-4eb3-8fbf-0a9dd3a1e445",
         "3",
         null,
         "2025-01-11",
         "wasbs://00-landing@cdmo.blob.core.windows.net/data/incoming/customerfeedback/customerfeedback_20250130_045331.csv",
         "2025-01-30T05:03:46.845+0000"
        ],
        [
         "28",
         "c4db4ee3-5010-4e63-b6b8-eb0913a73816",
         "d27a0498-8ae9-4fa6-ae2d-bd6255e6ef0d",
         "90e5eca0-8b3a-4931-b0ad-230a47a8db26",
         "1",
         null,
         "2025-01-12",
         "wasbs://00-landing@cdmo.blob.core.windows.net/data/incoming/customerfeedback/customerfeedback_20250130_045331.csv",
         "2025-01-30T05:03:46.845+0000"
        ],
        [
         "29",
         "26363773-b5d5-487e-9e40-b571f494205b",
         "89368805-ef12-4786-a702-8c6c342cc912",
         "b5a4da98-5501-4d74-b917-5c5726693cf8",
         "4",
         null,
         "2025-01-15",
         "wasbs://00-landing@cdmo.blob.core.windows.net/data/incoming/customerfeedback/customerfeedback_20250130_045331.csv",
         "2025-01-30T05:03:46.845+0000"
        ],
        [
         "30",
         "c5f16b8a-f1b6-4fe3-9ad1-25024271e2f2",
         "c19b4918-2e03-4aa9-ba82-368bfe2aabad",
         "418a4a16-27f9-4b0a-9f90-db87c478a55f",
         "2",
         null,
         "2024-04-28",
         "wasbs://00-landing@cdmo.blob.core.windows.net/data/incoming/customerfeedback/customerfeedback_20250130_045331.csv",
         "2025-01-30T05:03:46.845+0000"
        ],
        [
         "31",
         "9e43ce3a-3a10-49af-91ee-caac504e4a6f",
         "6b5d3cef-bb07-4c72-b346-3a686e35c828",
         "d899a09e-75a6-4d8f-9a7d-718f5f3a5bfa",
         "1",
         null,
         "2024-12-07",
         "wasbs://00-landing@cdmo.blob.core.windows.net/data/incoming/customerfeedback/customerfeedback_20250130_045331.csv",
         "2025-01-30T05:03:46.845+0000"
        ],
        [
         "32",
         "6a753c5d-bf4e-4568-8766-2007746f1a32",
         "eda07348-8d1a-49f2-9529-08d8b86a25cf",
         "a7734202-aceb-434d-8a2b-43dcff3f5385",
         "1",
         null,
         "2024-06-14",
         "wasbs://00-landing@cdmo.blob.core.windows.net/data/incoming/customerfeedback/customerfeedback_20250130_045331.csv",
         "2025-01-30T05:03:46.845+0000"
        ],
        [
         "33",
         "2a615500-1ef9-4b7a-9281-a9381b007883",
         "3eaa101e-0115-432d-98f7-7b5b961b5171",
         "2b865738-cf5a-4e2a-873a-b606feb0306c",
         "1",
         null,
         "2024-10-03",
         "wasbs://00-landing@cdmo.blob.core.windows.net/data/incoming/customerfeedback/customerfeedback_20250130_045331.csv",
         "2025-01-30T05:03:46.845+0000"
        ],
        [
         "34",
         "affc8745-9aa9-4463-ac04-488454462fed",
         "052faeb1-2b87-4943-ab84-86d798313db6",
         "219aacfe-87e9-468d-b517-741295dd7c3a",
         "2",
         null,
         "2024-10-07",
         "wasbs://00-landing@cdmo.blob.core.windows.net/data/incoming/customerfeedback/customerfeedback_20250130_045331.csv",
         "2025-01-30T05:03:46.845+0000"
        ],
        [
         "35",
         "cda52098-03f4-436d-ab74-0fb278b18778",
         "ae885905-7dd4-4f6a-a0f1-be0072929d25",
         "47b4172e-3b22-4098-916e-4b0aa31167db",
         "3",
         null,
         "2024-11-22",
         "wasbs://00-landing@cdmo.blob.core.windows.net/data/incoming/customerfeedback/customerfeedback_20250130_045331.csv",
         "2025-01-30T05:03:46.845+0000"
        ],
        [
         "36",
         "36fe983d-7289-4c8c-b411-3350a3f45ccd",
         "d62d2e1c-4803-45b7-89ee-97df8fa55e6c",
         "6b3f50cb-35dd-4f09-9f46-175df930a284",
         "4",
         null,
         "2024-05-25",
         "wasbs://00-landing@cdmo.blob.core.windows.net/data/incoming/customerfeedback/customerfeedback_20250130_045331.csv",
         "2025-01-30T05:03:46.845+0000"
        ],
        [
         "37",
         "402a773a-1f5c-42b4-a7c7-ac8a6f0d95a4",
         "9c7ff6bd-eff9-40f6-b349-26611a88cdc0",
         "c8fadd3b-2cbb-4bb7-b93c-183cf6d1700a",
         "4",
         null,
         "2024-02-27",
         "wasbs://00-landing@cdmo.blob.core.windows.net/data/incoming/customerfeedback/customerfeedback_20250130_045331.csv",
         "2025-01-30T05:03:46.845+0000"
        ],
        [
         "38",
         "4a2db647-f6eb-4b41-ad98-26a1cd007d06",
         "9963d1cf-4ada-43c8-9e5f-8c005a50478d",
         "e395cbc3-9094-4eb3-a7db-f6ff601e0156",
         "2",
         null,
         "2024-09-04",
         "wasbs://00-landing@cdmo.blob.core.windows.net/data/incoming/customerfeedback/customerfeedback_20250130_045331.csv",
         "2025-01-30T05:03:46.845+0000"
        ],
        [
         "39",
         "3fbe750c-aef7-40d8-a17c-003b70e4f97e",
         "2ec9039a-f030-47cc-a88c-ecbf815b727e",
         "41a9c418-d4dc-4d76-b3bf-13d363664b56",
         "3",
         null,
         "2024-06-28",
         "wasbs://00-landing@cdmo.blob.core.windows.net/data/incoming/customerfeedback/customerfeedback_20250130_045331.csv",
         "2025-01-30T05:03:46.845+0000"
        ],
        [
         "40",
         "1308683c-3ba7-42c8-a11b-5ae34da113b8",
         "52cfa4d0-307d-4b92-bba3-aacaded0e4bb",
         "b31b6517-f458-4909-a3e6-18adc8e9047e",
         "4",
         null,
         "2024-03-15",
         "wasbs://00-landing@cdmo.blob.core.windows.net/data/incoming/customerfeedback/customerfeedback_20250130_045331.csv",
         "2025-01-30T05:03:46.845+0000"
        ],
        [
         "41",
         "f5494b46-4ac8-4d04-ad6d-521a5b44315d",
         "030925ae-bc9b-4f21-a4be-53172114be45",
         "3b9afa87-010d-4220-b3b9-f1376b598a48",
         "1",
         null,
         "2024-02-16",
         "wasbs://00-landing@cdmo.blob.core.windows.net/data/incoming/customerfeedback/customerfeedback_20250130_045331.csv",
         "2025-01-30T05:03:46.845+0000"
        ],
        [
         "42",
         "8addd863-a58a-4139-b591-8fba400cc4bd",
         "88d53f8d-d611-4e50-a44b-92f9b994721a",
         "06410de3-7631-4e54-a8b2-69736addde3d",
         "1",
         null,
         "2024-02-06",
         "wasbs://00-landing@cdmo.blob.core.windows.net/data/incoming/customerfeedback/customerfeedback_20250130_045331.csv",
         "2025-01-30T05:03:46.845+0000"
        ],
        [
         "43",
         "80cd2434-73c3-4d36-924e-c7ebea2c73c2",
         "2ff6e2c1-2f02-4f0f-8740-09e892d6ee13",
         "51520059-4d18-49a5-bcfc-22648ef96d4f",
         "3",
         null,
         "2024-03-13",
         "wasbs://00-landing@cdmo.blob.core.windows.net/data/incoming/customerfeedback/customerfeedback_20250130_045331.csv",
         "2025-01-30T05:03:46.845+0000"
        ],
        [
         "44",
         "33644a54-d686-449e-b17e-f15da4d33d53",
         "ec1f1070-4236-41c5-87d9-7800a460901a",
         "cabaa50c-87f5-42dc-ba75-d77ab5b4e61c",
         "1",
         null,
         "2024-12-11",
         "wasbs://00-landing@cdmo.blob.core.windows.net/data/incoming/customerfeedback/customerfeedback_20250130_045331.csv",
         "2025-01-30T05:03:46.845+0000"
        ],
        [
         "45",
         "29f62086-2b1e-4820-9d83-e4e38f20ffcf",
         "c440bc54-4dd0-4370-ae11-730bc66ca597",
         "5315ea5a-6715-4726-a387-5fced3047249",
         "2",
         null,
         "2025-01-05",
         "wasbs://00-landing@cdmo.blob.core.windows.net/data/incoming/customerfeedback/customerfeedback_20250130_045331.csv",
         "2025-01-30T05:03:46.845+0000"
        ],
        [
         "46",
         "231b852c-8fcb-432c-aa81-119c3cde2ae1",
         "0d51acb8-e5a0-4396-be6c-305aa9a988ee",
         "2a316b20-69ee-4388-9a3d-f2c60f4998da",
         "3",
         null,
         "2025-01-10",
         "wasbs://00-landing@cdmo.blob.core.windows.net/data/incoming/customerfeedback/customerfeedback_20250130_045331.csv",
         "2025-01-30T05:03:46.845+0000"
        ],
        [
         "47",
         "82bc6695-d200-4669-93b0-08bdcbf30d0a",
         "5ad1dd41-50eb-4c98-ac2d-d43a217af9ae",
         "a0b78e7b-953b-4ab8-8f2e-953ef35e6515",
         "3",
         null,
         "2024-03-09",
         "wasbs://00-landing@cdmo.blob.core.windows.net/data/incoming/customerfeedback/customerfeedback_20250130_045331.csv",
         "2025-01-30T05:03:46.845+0000"
        ],
        [
         "48",
         "e4cafa85-624d-402f-ac23-823dd98d32f1",
         "23d5dd6e-b983-4ffc-9906-03a9d0a8e317",
         "a96a4fee-776e-4e80-abc6-a31a8d199cd5",
         "1",
         null,
         "2024-06-22",
         "wasbs://00-landing@cdmo.blob.core.windows.net/data/incoming/customerfeedback/customerfeedback_20250130_045331.csv",
         "2025-01-30T05:03:46.845+0000"
        ],
        [
         "49",
         "d98c00e3-e0b1-4f7f-aea3-d21259d9bfaa",
         "50e09dca-2437-4a1d-ae29-abc593431be9",
         "1516f84d-3dc2-4714-bfbb-562919c1a055",
         "4",
         null,
         "2024-09-21",
         "wasbs://00-landing@cdmo.blob.core.windows.net/data/incoming/customerfeedback/customerfeedback_20250130_045331.csv",
         "2025-01-30T05:03:46.845+0000"
        ]
       ],
       "datasetInfos": [],
       "dbfsResultPath": null,
       "isJsonSchema": true,
       "metadata": {},
       "overflow": false,
       "plotOptions": {
        "customPlotOptions": {},
        "displayType": "table",
        "pivotAggregation": null,
        "pivotColumns": null,
        "xColumns": null,
        "yColumns": null
       },
       "removedWidgets": [],
       "schema": [
        {
         "metadata": "{}",
         "name": "id",
         "type": "\"string\""
        },
        {
         "metadata": "{}",
         "name": "FeedbackID",
         "type": "\"string\""
        },
        {
         "metadata": "{}",
         "name": "ProductID",
         "type": "\"string\""
        },
        {
         "metadata": "{}",
         "name": "CustomerID",
         "type": "\"string\""
        },
        {
         "metadata": "{}",
         "name": "Rating",
         "type": "\"string\""
        },
        {
         "metadata": "{}",
         "name": "Comments",
         "type": "\"string\""
        },
        {
         "metadata": "{}",
         "name": "FeedbackDate",
         "type": "\"string\""
        },
        {
         "metadata": "{}",
         "name": "Filename",
         "type": "\"string\""
        },
        {
         "metadata": "{}",
         "name": "LoadTimestamp",
         "type": "\"timestamp\""
        }
       ],
       "type": "table"
      }
     },
     "output_type": "display_data"
    },
    {
     "output_type": "stream",
     "name": "stdout",
     "output_type": "stream",
     "text": [
      "🔍 Validating table: manufacturebatch at wasbs://01-bronze@cdmo.blob.core.windows.net/manufacturebatch/\n✅ Table: manufacturebatch, Record Count: 50\n📊 Displaying records for table: manufacturebatch\n"
     ]
    },
    {
     "output_type": "display_data",
     "data": {
      "text/html": [
       "<style scoped>\n",
       "  .table-result-container {\n",
       "    max-height: 300px;\n",
       "    overflow: auto;\n",
       "  }\n",
       "  table, th, td {\n",
       "    border: 1px solid black;\n",
       "    border-collapse: collapse;\n",
       "  }\n",
       "  th, td {\n",
       "    padding: 5px;\n",
       "  }\n",
       "  th {\n",
       "    text-align: left;\n",
       "  }\n",
       "</style><div class='table-result-container'><table class='table-result'><thead style='background-color: white'><tr><th>id</th><th>BatchID</th><th>ProductID</th><th>BatchDate</th><th>Quantity</th><th>Status</th><th>Filename</th><th>LoadTimestamp</th></tr></thead><tbody><tr><td>0</td><td>ca7f56a4-00c7-40d3-8bfe-3685ca6db601</td><td>832aaaf3-1c0e-4ee4-9041-a360c35df8a0</td><td>2024-08-28</td><td>295</td><td>Failed</td><td>wasbs://00-landing@cdmo.blob.core.windows.net/data/incoming/manufacturebatch/manufacturebatch_20250130_045331.csv</td><td>2025-01-30T05:03:57.245+0000</td></tr><tr><td>1</td><td>406a93b8-140e-4833-9859-32fdefcd910b</td><td>2e075033-d912-4f75-9b8c-29c615eeb057</td><td>2024-02-27</td><td>205</td><td>In Progress</td><td>wasbs://00-landing@cdmo.blob.core.windows.net/data/incoming/manufacturebatch/manufacturebatch_20250130_045331.csv</td><td>2025-01-30T05:03:57.245+0000</td></tr><tr><td>2</td><td>ad3b3640-f7da-4a95-91d0-4ad36d5f8e48</td><td>e466811f-7026-4fcd-acae-81b262471226</td><td>2024-11-11</td><td>917</td><td>Completed</td><td>wasbs://00-landing@cdmo.blob.core.windows.net/data/incoming/manufacturebatch/manufacturebatch_20250130_045331.csv</td><td>2025-01-30T05:03:57.245+0000</td></tr><tr><td>3</td><td>ce042c8e-58c9-439d-90d8-1154d224220b</td><td>0f93e1cb-0826-41d7-a68b-be6b4c303bc9</td><td>2024-11-12</td><td>198</td><td>Pending</td><td>wasbs://00-landing@cdmo.blob.core.windows.net/data/incoming/manufacturebatch/manufacturebatch_20250130_045331.csv</td><td>2025-01-30T05:03:57.245+0000</td></tr><tr><td>4</td><td>6a7258ba-8398-4877-9d33-c18a17d1a4c4</td><td>b3bd3eee-e34b-4215-b3e8-dfab31e9fe05</td><td>2024-08-06</td><td>303</td><td>Failed</td><td>wasbs://00-landing@cdmo.blob.core.windows.net/data/incoming/manufacturebatch/manufacturebatch_20250130_045331.csv</td><td>2025-01-30T05:03:57.245+0000</td></tr><tr><td>5</td><td>c2b441d3-3478-404f-b115-d136d121b89f</td><td>dc60d870-5a07-4f58-bb7e-ba290e01c500</td><td>2024-06-13</td><td>382</td><td>In Progress</td><td>wasbs://00-landing@cdmo.blob.core.windows.net/data/incoming/manufacturebatch/manufacturebatch_20250130_045331.csv</td><td>2025-01-30T05:03:57.245+0000</td></tr><tr><td>6</td><td>7698d3ad-ca34-4725-b807-1034eb2f93e8</td><td>ae1c0ea0-a83a-42ae-be70-a90a85ddcbd3</td><td>2024-10-15</td><td>474</td><td>Pending</td><td>wasbs://00-landing@cdmo.blob.core.windows.net/data/incoming/manufacturebatch/manufacturebatch_20250130_045331.csv</td><td>2025-01-30T05:03:57.245+0000</td></tr><tr><td>7</td><td>707f4676-8ca5-4700-9728-fc948de16809</td><td>cdd1fc56-ab12-45e7-b38b-85898e86dc43</td><td>2024-09-03</td><td>137</td><td>Pending</td><td>wasbs://00-landing@cdmo.blob.core.windows.net/data/incoming/manufacturebatch/manufacturebatch_20250130_045331.csv</td><td>2025-01-30T05:03:57.245+0000</td></tr><tr><td>8</td><td>402d07a8-31e9-4bfc-846a-37857dbbaf6a</td><td>f53ac38d-2d99-4279-9286-61134a5c9171</td><td>2024-10-22</td><td>748</td><td>Failed</td><td>wasbs://00-landing@cdmo.blob.core.windows.net/data/incoming/manufacturebatch/manufacturebatch_20250130_045331.csv</td><td>2025-01-30T05:03:57.245+0000</td></tr><tr><td>9</td><td>387eb6a5-7b16-4b72-b9d4-4e99032cd5cd</td><td>fd520b43-c1ea-4ee7-8f0f-42c0edb4bf15</td><td>2024-04-27</td><td>535</td><td>In Progress</td><td>wasbs://00-landing@cdmo.blob.core.windows.net/data/incoming/manufacturebatch/manufacturebatch_20250130_045331.csv</td><td>2025-01-30T05:03:57.245+0000</td></tr><tr><td>10</td><td>dd85afca-9c94-4ea8-be59-5c3ba9ab3170</td><td>d8b89c97-06ea-45ac-a2e0-70162174e96b</td><td>2024-06-10</td><td>918</td><td>Completed</td><td>wasbs://00-landing@cdmo.blob.core.windows.net/data/incoming/manufacturebatch/manufacturebatch_20250130_045331.csv</td><td>2025-01-30T05:03:57.245+0000</td></tr><tr><td>11</td><td>5b66ae3f-d058-47ee-b658-c2d2e00398b1</td><td>aa6f25ed-6642-4292-8e8f-9529cd63506e</td><td>2024-03-20</td><td>810</td><td>In Progress</td><td>wasbs://00-landing@cdmo.blob.core.windows.net/data/incoming/manufacturebatch/manufacturebatch_20250130_045331.csv</td><td>2025-01-30T05:03:57.245+0000</td></tr><tr><td>12</td><td>e6181541-9704-4335-9e19-71f60fffb5bf</td><td>58a89763-f405-4ca6-ac52-b37f70dac619</td><td>2024-09-12</td><td>627</td><td>Completed</td><td>wasbs://00-landing@cdmo.blob.core.windows.net/data/incoming/manufacturebatch/manufacturebatch_20250130_045331.csv</td><td>2025-01-30T05:03:57.245+0000</td></tr><tr><td>13</td><td>ac88ab5a-f3a5-4888-b8b2-8a37107011dc</td><td>b77a4326-df4a-46f9-bf2f-3b64c1813d89</td><td>2024-12-14</td><td>455</td><td>Pending</td><td>wasbs://00-landing@cdmo.blob.core.windows.net/data/incoming/manufacturebatch/manufacturebatch_20250130_045331.csv</td><td>2025-01-30T05:03:57.245+0000</td></tr><tr><td>14</td><td>2f50087c-df65-4f6b-ab31-ddd8d94a69c0</td><td>a06931eb-a5eb-4ce3-80a7-1142341f9e3d</td><td>2024-05-20</td><td>464</td><td>Completed</td><td>wasbs://00-landing@cdmo.blob.core.windows.net/data/incoming/manufacturebatch/manufacturebatch_20250130_045331.csv</td><td>2025-01-30T05:03:57.245+0000</td></tr><tr><td>15</td><td>fe3a0c1d-f08b-4bb8-b17c-13d24b41a3fe</td><td>be680444-56bd-47d8-86c7-b26ba824bda6</td><td>2024-04-26</td><td>882</td><td>In Progress</td><td>wasbs://00-landing@cdmo.blob.core.windows.net/data/incoming/manufacturebatch/manufacturebatch_20250130_045331.csv</td><td>2025-01-30T05:03:57.245+0000</td></tr><tr><td>16</td><td>349b8fab-7add-49f6-8b8a-0ab9464a27b4</td><td>f98cd5ed-15ac-4710-9c05-6da879698451</td><td>2024-05-11</td><td>316</td><td>Pending</td><td>wasbs://00-landing@cdmo.blob.core.windows.net/data/incoming/manufacturebatch/manufacturebatch_20250130_045331.csv</td><td>2025-01-30T05:03:57.245+0000</td></tr><tr><td>17</td><td>63d5e838-a87e-4b9d-b440-c9e17f61a94a</td><td>327a1414-1734-4755-980f-fdf52203a8b4</td><td>2024-09-22</td><td>154</td><td>Completed</td><td>wasbs://00-landing@cdmo.blob.core.windows.net/data/incoming/manufacturebatch/manufacturebatch_20250130_045331.csv</td><td>2025-01-30T05:03:57.245+0000</td></tr><tr><td>18</td><td>1e154846-b1ba-4dc3-941b-c8413557b1bc</td><td>8563a64e-c78d-4c12-9363-a5225d4f6c61</td><td>2024-06-29</td><td>972</td><td>Failed</td><td>wasbs://00-landing@cdmo.blob.core.windows.net/data/incoming/manufacturebatch/manufacturebatch_20250130_045331.csv</td><td>2025-01-30T05:03:57.245+0000</td></tr><tr><td>19</td><td>27f46ca5-f60f-4cab-a958-8fa0741cd484</td><td>efa832a9-ba2d-4d51-a350-a54cd04ba273</td><td>2024-10-06</td><td>965</td><td>Pending</td><td>wasbs://00-landing@cdmo.blob.core.windows.net/data/incoming/manufacturebatch/manufacturebatch_20250130_045331.csv</td><td>2025-01-30T05:03:57.245+0000</td></tr><tr><td>20</td><td>f8eb002e-d3da-400f-81a2-332232fb5bb0</td><td>dab24aae-0ffd-4b44-b225-8e49f1abc975</td><td>2024-04-05</td><td>603</td><td>In Progress</td><td>wasbs://00-landing@cdmo.blob.core.windows.net/data/incoming/manufacturebatch/manufacturebatch_20250130_045331.csv</td><td>2025-01-30T05:03:57.245+0000</td></tr><tr><td>21</td><td>82ea7759-7c33-4ac2-a6e2-9feb81533ec9</td><td>2bcf535e-0a43-4380-a84a-333a419bdace</td><td>2024-10-06</td><td>941</td><td>Pending</td><td>wasbs://00-landing@cdmo.blob.core.windows.net/data/incoming/manufacturebatch/manufacturebatch_20250130_045331.csv</td><td>2025-01-30T05:03:57.245+0000</td></tr><tr><td>22</td><td>9a7d8105-7e40-47e6-967e-36df82950bdf</td><td>28d1f0dd-b6c3-45e5-b4fd-9b70962bf2b7</td><td>2025-01-19</td><td>714</td><td>Completed</td><td>wasbs://00-landing@cdmo.blob.core.windows.net/data/incoming/manufacturebatch/manufacturebatch_20250130_045331.csv</td><td>2025-01-30T05:03:57.245+0000</td></tr><tr><td>23</td><td>3367986c-5022-4ae4-8fa9-bf69ed7ef18d</td><td>e4245655-22ee-4409-8125-6a8b0bc73981</td><td>2025-01-04</td><td>925</td><td>Pending</td><td>wasbs://00-landing@cdmo.blob.core.windows.net/data/incoming/manufacturebatch/manufacturebatch_20250130_045331.csv</td><td>2025-01-30T05:03:57.245+0000</td></tr><tr><td>24</td><td>00f5ab8c-f639-4977-8dc8-bdcfdeab7334</td><td>d0adff61-4fc2-4227-ab8c-88ded293e612</td><td>2024-08-17</td><td>264</td><td>In Progress</td><td>wasbs://00-landing@cdmo.blob.core.windows.net/data/incoming/manufacturebatch/manufacturebatch_20250130_045331.csv</td><td>2025-01-30T05:03:57.245+0000</td></tr><tr><td>25</td><td>a5daadff-8df7-442c-8900-5ecb4bad9171</td><td>d41900c9-12ee-4375-bf7d-b511cf3e140d</td><td>2024-08-08</td><td>657</td><td>Pending</td><td>wasbs://00-landing@cdmo.blob.core.windows.net/data/incoming/manufacturebatch/manufacturebatch_20250130_045331.csv</td><td>2025-01-30T05:03:57.245+0000</td></tr><tr><td>26</td><td>5819cef6-40b7-4ec6-967c-2fc30fbdd484</td><td>b0bba072-09c2-4b24-9d8c-3b2cb20a9af0</td><td>2024-02-27</td><td>545</td><td>Completed</td><td>wasbs://00-landing@cdmo.blob.core.windows.net/data/incoming/manufacturebatch/manufacturebatch_20250130_045331.csv</td><td>2025-01-30T05:03:57.245+0000</td></tr><tr><td>27</td><td>52f4a53b-8f5d-4b9b-95a2-6e1558d2a1da</td><td>e4d44a01-53cc-4153-b225-e8ddca658a0a</td><td>2024-11-28</td><td>465</td><td>Failed</td><td>wasbs://00-landing@cdmo.blob.core.windows.net/data/incoming/manufacturebatch/manufacturebatch_20250130_045331.csv</td><td>2025-01-30T05:03:57.245+0000</td></tr><tr><td>28</td><td>43b523f0-b2aa-4643-aac7-c83b19a8be3c</td><td>e2682f16-efdd-4006-87ee-5826b1f811f5</td><td>2024-08-01</td><td>982</td><td>In Progress</td><td>wasbs://00-landing@cdmo.blob.core.windows.net/data/incoming/manufacturebatch/manufacturebatch_20250130_045331.csv</td><td>2025-01-30T05:03:57.245+0000</td></tr><tr><td>29</td><td>62cac534-9a60-44d5-8522-442a68927122</td><td>b18a5f9a-7f6f-4f31-97fc-aaf98ddd2fa2</td><td>2024-04-20</td><td>734</td><td>Pending</td><td>wasbs://00-landing@cdmo.blob.core.windows.net/data/incoming/manufacturebatch/manufacturebatch_20250130_045331.csv</td><td>2025-01-30T05:03:57.245+0000</td></tr><tr><td>30</td><td>d325a87b-5d01-4023-81b7-5638df716c60</td><td>30716b33-2412-4482-ab76-52dc953a4d68</td><td>2024-08-12</td><td>549</td><td>Completed</td><td>wasbs://00-landing@cdmo.blob.core.windows.net/data/incoming/manufacturebatch/manufacturebatch_20250130_045331.csv</td><td>2025-01-30T05:03:57.245+0000</td></tr><tr><td>31</td><td>ec6aab69-29b5-425e-a510-e7f9919ddd80</td><td>47831b9d-c201-40d1-b523-bf50a5aeb02c</td><td>2024-06-13</td><td>283</td><td>Completed</td><td>wasbs://00-landing@cdmo.blob.core.windows.net/data/incoming/manufacturebatch/manufacturebatch_20250130_045331.csv</td><td>2025-01-30T05:03:57.245+0000</td></tr><tr><td>32</td><td>f4be8f5f-3b4f-479a-b4b4-822917bd1c91</td><td>b5332612-2ea6-427f-9674-f516b11bcc3b</td><td>2024-12-10</td><td>429</td><td>Completed</td><td>wasbs://00-landing@cdmo.blob.core.windows.net/data/incoming/manufacturebatch/manufacturebatch_20250130_045331.csv</td><td>2025-01-30T05:03:57.245+0000</td></tr><tr><td>33</td><td>68935e29-d8dd-4028-9b74-292e9b69b8b4</td><td>cf71538a-c1e1-4708-ab52-807dcfdcae6a</td><td>2024-05-14</td><td>371</td><td>In Progress</td><td>wasbs://00-landing@cdmo.blob.core.windows.net/data/incoming/manufacturebatch/manufacturebatch_20250130_045331.csv</td><td>2025-01-30T05:03:57.245+0000</td></tr><tr><td>34</td><td>ae6dbb9e-f523-404f-be0f-0075e8208fd3</td><td>0760af72-1192-42b5-bd53-a21a4e75cf4b</td><td>2024-09-16</td><td>989</td><td>In Progress</td><td>wasbs://00-landing@cdmo.blob.core.windows.net/data/incoming/manufacturebatch/manufacturebatch_20250130_045331.csv</td><td>2025-01-30T05:03:57.245+0000</td></tr><tr><td>35</td><td>a6c82aa6-4eb5-44d4-88ec-f9fc13005aff</td><td>6c6ae9c6-e172-4b63-b6f0-b214bb1ad534</td><td>2024-03-17</td><td>756</td><td>Pending</td><td>wasbs://00-landing@cdmo.blob.core.windows.net/data/incoming/manufacturebatch/manufacturebatch_20250130_045331.csv</td><td>2025-01-30T05:03:57.245+0000</td></tr><tr><td>36</td><td>976b9b1a-7441-42d0-95df-5aad9f21520b</td><td>7f44189d-4c19-49b2-8e09-b638d0c1e90f</td><td>2024-05-22</td><td>864</td><td>Completed</td><td>wasbs://00-landing@cdmo.blob.core.windows.net/data/incoming/manufacturebatch/manufacturebatch_20250130_045331.csv</td><td>2025-01-30T05:03:57.245+0000</td></tr><tr><td>37</td><td>321e0f53-cc3a-49f8-a6ec-da36ef3ef341</td><td>e1f10352-db6c-414a-b30b-9c9c144bc02f</td><td>2024-08-01</td><td>665</td><td>In Progress</td><td>wasbs://00-landing@cdmo.blob.core.windows.net/data/incoming/manufacturebatch/manufacturebatch_20250130_045331.csv</td><td>2025-01-30T05:03:57.245+0000</td></tr><tr><td>38</td><td>a17d60eb-44dc-4a91-9464-f8ac2a10f293</td><td>de0445d8-c592-4092-9ebf-5137418fa038</td><td>2024-07-06</td><td>154</td><td>Completed</td><td>wasbs://00-landing@cdmo.blob.core.windows.net/data/incoming/manufacturebatch/manufacturebatch_20250130_045331.csv</td><td>2025-01-30T05:03:57.245+0000</td></tr><tr><td>39</td><td>2e11144b-73ed-4e05-ae47-08c17e425400</td><td>43ef8333-3848-4404-ace1-371a69705582</td><td>2024-08-11</td><td>907</td><td>In Progress</td><td>wasbs://00-landing@cdmo.blob.core.windows.net/data/incoming/manufacturebatch/manufacturebatch_20250130_045331.csv</td><td>2025-01-30T05:03:57.245+0000</td></tr><tr><td>40</td><td>bc259fa1-ef5b-4c85-9460-eca145411569</td><td>cbf8f454-3c13-492d-a5fe-09a08dd965cb</td><td>2024-02-16</td><td>393</td><td>In Progress</td><td>wasbs://00-landing@cdmo.blob.core.windows.net/data/incoming/manufacturebatch/manufacturebatch_20250130_045331.csv</td><td>2025-01-30T05:03:57.245+0000</td></tr><tr><td>41</td><td>57b658e4-b2d7-4e6b-9046-c7e29eadd511</td><td>8d5f9c1b-81ae-4f01-b532-5d8160537611</td><td>2025-01-11</td><td>541</td><td>Failed</td><td>wasbs://00-landing@cdmo.blob.core.windows.net/data/incoming/manufacturebatch/manufacturebatch_20250130_045331.csv</td><td>2025-01-30T05:03:57.245+0000</td></tr><tr><td>42</td><td>2e155830-808b-4c83-a28f-589be156f6fb</td><td>b284af3e-7e80-4507-aa4e-5e98219e035c</td><td>2024-05-14</td><td>362</td><td>Completed</td><td>wasbs://00-landing@cdmo.blob.core.windows.net/data/incoming/manufacturebatch/manufacturebatch_20250130_045331.csv</td><td>2025-01-30T05:03:57.245+0000</td></tr><tr><td>43</td><td>3e1242c7-7748-4838-9f06-72b245a8431e</td><td>af85902f-6976-407d-bb22-7a5188530ac1</td><td>2024-05-09</td><td>263</td><td>Pending</td><td>wasbs://00-landing@cdmo.blob.core.windows.net/data/incoming/manufacturebatch/manufacturebatch_20250130_045331.csv</td><td>2025-01-30T05:03:57.245+0000</td></tr><tr><td>44</td><td>608910f0-3237-495f-b8ca-a265e70fa746</td><td>95c5ac04-1b0d-4495-a38b-b87eb9ac3f27</td><td>2024-02-29</td><td>837</td><td>In Progress</td><td>wasbs://00-landing@cdmo.blob.core.windows.net/data/incoming/manufacturebatch/manufacturebatch_20250130_045331.csv</td><td>2025-01-30T05:03:57.245+0000</td></tr><tr><td>45</td><td>9d5b67e0-5b48-4c81-bcb3-93df530999d2</td><td>68c277a0-273f-4199-9208-59cc90f13371</td><td>2024-05-07</td><td>162</td><td>Failed</td><td>wasbs://00-landing@cdmo.blob.core.windows.net/data/incoming/manufacturebatch/manufacturebatch_20250130_045331.csv</td><td>2025-01-30T05:03:57.245+0000</td></tr><tr><td>46</td><td>65b953b4-17db-4411-97de-99355be02e87</td><td>ee2f5d90-7f6c-4895-95a2-a9b204190d13</td><td>2024-11-17</td><td>146</td><td>Failed</td><td>wasbs://00-landing@cdmo.blob.core.windows.net/data/incoming/manufacturebatch/manufacturebatch_20250130_045331.csv</td><td>2025-01-30T05:03:57.245+0000</td></tr><tr><td>47</td><td>9b1bc7c6-23c2-46b0-93fe-d6e3f7a4bab5</td><td>13fee0b1-ef1c-4ef5-bac4-255b6c4c08cc</td><td>2024-12-03</td><td>765</td><td>Failed</td><td>wasbs://00-landing@cdmo.blob.core.windows.net/data/incoming/manufacturebatch/manufacturebatch_20250130_045331.csv</td><td>2025-01-30T05:03:57.245+0000</td></tr><tr><td>48</td><td>2f4104d0-cc1b-4f96-922e-7a0822a5dd27</td><td>9498cc4a-7687-43cd-ac9d-ec60ac15a263</td><td>2024-09-11</td><td>513</td><td>In Progress</td><td>wasbs://00-landing@cdmo.blob.core.windows.net/data/incoming/manufacturebatch/manufacturebatch_20250130_045331.csv</td><td>2025-01-30T05:03:57.245+0000</td></tr><tr><td>49</td><td>ae3f4a96-1157-4328-9735-e4a2478b0b1f</td><td>88619e1f-6f19-4bdf-bb1d-6afd4e41fdd2</td><td>2024-10-06</td><td>726</td><td>Pending</td><td>wasbs://00-landing@cdmo.blob.core.windows.net/data/incoming/manufacturebatch/manufacturebatch_20250130_045331.csv</td><td>2025-01-30T05:03:57.245+0000</td></tr></tbody></table></div>"
      ]
     },
     "metadata": {
      "application/vnd.databricks.v1+output": {
       "addedWidgets": {},
       "aggData": [],
       "aggError": "",
       "aggOverflow": false,
       "aggSchema": [],
       "aggSeriesLimitReached": false,
       "aggType": "",
       "arguments": {},
       "columnCustomDisplayInfos": {},
       "data": [
        [
         "0",
         "ca7f56a4-00c7-40d3-8bfe-3685ca6db601",
         "832aaaf3-1c0e-4ee4-9041-a360c35df8a0",
         "2024-08-28",
         "295",
         "Failed",
         "wasbs://00-landing@cdmo.blob.core.windows.net/data/incoming/manufacturebatch/manufacturebatch_20250130_045331.csv",
         "2025-01-30T05:03:57.245+0000"
        ],
        [
         "1",
         "406a93b8-140e-4833-9859-32fdefcd910b",
         "2e075033-d912-4f75-9b8c-29c615eeb057",
         "2024-02-27",
         "205",
         "In Progress",
         "wasbs://00-landing@cdmo.blob.core.windows.net/data/incoming/manufacturebatch/manufacturebatch_20250130_045331.csv",
         "2025-01-30T05:03:57.245+0000"
        ],
        [
         "2",
         "ad3b3640-f7da-4a95-91d0-4ad36d5f8e48",
         "e466811f-7026-4fcd-acae-81b262471226",
         "2024-11-11",
         "917",
         "Completed",
         "wasbs://00-landing@cdmo.blob.core.windows.net/data/incoming/manufacturebatch/manufacturebatch_20250130_045331.csv",
         "2025-01-30T05:03:57.245+0000"
        ],
        [
         "3",
         "ce042c8e-58c9-439d-90d8-1154d224220b",
         "0f93e1cb-0826-41d7-a68b-be6b4c303bc9",
         "2024-11-12",
         "198",
         "Pending",
         "wasbs://00-landing@cdmo.blob.core.windows.net/data/incoming/manufacturebatch/manufacturebatch_20250130_045331.csv",
         "2025-01-30T05:03:57.245+0000"
        ],
        [
         "4",
         "6a7258ba-8398-4877-9d33-c18a17d1a4c4",
         "b3bd3eee-e34b-4215-b3e8-dfab31e9fe05",
         "2024-08-06",
         "303",
         "Failed",
         "wasbs://00-landing@cdmo.blob.core.windows.net/data/incoming/manufacturebatch/manufacturebatch_20250130_045331.csv",
         "2025-01-30T05:03:57.245+0000"
        ],
        [
         "5",
         "c2b441d3-3478-404f-b115-d136d121b89f",
         "dc60d870-5a07-4f58-bb7e-ba290e01c500",
         "2024-06-13",
         "382",
         "In Progress",
         "wasbs://00-landing@cdmo.blob.core.windows.net/data/incoming/manufacturebatch/manufacturebatch_20250130_045331.csv",
         "2025-01-30T05:03:57.245+0000"
        ],
        [
         "6",
         "7698d3ad-ca34-4725-b807-1034eb2f93e8",
         "ae1c0ea0-a83a-42ae-be70-a90a85ddcbd3",
         "2024-10-15",
         "474",
         "Pending",
         "wasbs://00-landing@cdmo.blob.core.windows.net/data/incoming/manufacturebatch/manufacturebatch_20250130_045331.csv",
         "2025-01-30T05:03:57.245+0000"
        ],
        [
         "7",
         "707f4676-8ca5-4700-9728-fc948de16809",
         "cdd1fc56-ab12-45e7-b38b-85898e86dc43",
         "2024-09-03",
         "137",
         "Pending",
         "wasbs://00-landing@cdmo.blob.core.windows.net/data/incoming/manufacturebatch/manufacturebatch_20250130_045331.csv",
         "2025-01-30T05:03:57.245+0000"
        ],
        [
         "8",
         "402d07a8-31e9-4bfc-846a-37857dbbaf6a",
         "f53ac38d-2d99-4279-9286-61134a5c9171",
         "2024-10-22",
         "748",
         "Failed",
         "wasbs://00-landing@cdmo.blob.core.windows.net/data/incoming/manufacturebatch/manufacturebatch_20250130_045331.csv",
         "2025-01-30T05:03:57.245+0000"
        ],
        [
         "9",
         "387eb6a5-7b16-4b72-b9d4-4e99032cd5cd",
         "fd520b43-c1ea-4ee7-8f0f-42c0edb4bf15",
         "2024-04-27",
         "535",
         "In Progress",
         "wasbs://00-landing@cdmo.blob.core.windows.net/data/incoming/manufacturebatch/manufacturebatch_20250130_045331.csv",
         "2025-01-30T05:03:57.245+0000"
        ],
        [
         "10",
         "dd85afca-9c94-4ea8-be59-5c3ba9ab3170",
         "d8b89c97-06ea-45ac-a2e0-70162174e96b",
         "2024-06-10",
         "918",
         "Completed",
         "wasbs://00-landing@cdmo.blob.core.windows.net/data/incoming/manufacturebatch/manufacturebatch_20250130_045331.csv",
         "2025-01-30T05:03:57.245+0000"
        ],
        [
         "11",
         "5b66ae3f-d058-47ee-b658-c2d2e00398b1",
         "aa6f25ed-6642-4292-8e8f-9529cd63506e",
         "2024-03-20",
         "810",
         "In Progress",
         "wasbs://00-landing@cdmo.blob.core.windows.net/data/incoming/manufacturebatch/manufacturebatch_20250130_045331.csv",
         "2025-01-30T05:03:57.245+0000"
        ],
        [
         "12",
         "e6181541-9704-4335-9e19-71f60fffb5bf",
         "58a89763-f405-4ca6-ac52-b37f70dac619",
         "2024-09-12",
         "627",
         "Completed",
         "wasbs://00-landing@cdmo.blob.core.windows.net/data/incoming/manufacturebatch/manufacturebatch_20250130_045331.csv",
         "2025-01-30T05:03:57.245+0000"
        ],
        [
         "13",
         "ac88ab5a-f3a5-4888-b8b2-8a37107011dc",
         "b77a4326-df4a-46f9-bf2f-3b64c1813d89",
         "2024-12-14",
         "455",
         "Pending",
         "wasbs://00-landing@cdmo.blob.core.windows.net/data/incoming/manufacturebatch/manufacturebatch_20250130_045331.csv",
         "2025-01-30T05:03:57.245+0000"
        ],
        [
         "14",
         "2f50087c-df65-4f6b-ab31-ddd8d94a69c0",
         "a06931eb-a5eb-4ce3-80a7-1142341f9e3d",
         "2024-05-20",
         "464",
         "Completed",
         "wasbs://00-landing@cdmo.blob.core.windows.net/data/incoming/manufacturebatch/manufacturebatch_20250130_045331.csv",
         "2025-01-30T05:03:57.245+0000"
        ],
        [
         "15",
         "fe3a0c1d-f08b-4bb8-b17c-13d24b41a3fe",
         "be680444-56bd-47d8-86c7-b26ba824bda6",
         "2024-04-26",
         "882",
         "In Progress",
         "wasbs://00-landing@cdmo.blob.core.windows.net/data/incoming/manufacturebatch/manufacturebatch_20250130_045331.csv",
         "2025-01-30T05:03:57.245+0000"
        ],
        [
         "16",
         "349b8fab-7add-49f6-8b8a-0ab9464a27b4",
         "f98cd5ed-15ac-4710-9c05-6da879698451",
         "2024-05-11",
         "316",
         "Pending",
         "wasbs://00-landing@cdmo.blob.core.windows.net/data/incoming/manufacturebatch/manufacturebatch_20250130_045331.csv",
         "2025-01-30T05:03:57.245+0000"
        ],
        [
         "17",
         "63d5e838-a87e-4b9d-b440-c9e17f61a94a",
         "327a1414-1734-4755-980f-fdf52203a8b4",
         "2024-09-22",
         "154",
         "Completed",
         "wasbs://00-landing@cdmo.blob.core.windows.net/data/incoming/manufacturebatch/manufacturebatch_20250130_045331.csv",
         "2025-01-30T05:03:57.245+0000"
        ],
        [
         "18",
         "1e154846-b1ba-4dc3-941b-c8413557b1bc",
         "8563a64e-c78d-4c12-9363-a5225d4f6c61",
         "2024-06-29",
         "972",
         "Failed",
         "wasbs://00-landing@cdmo.blob.core.windows.net/data/incoming/manufacturebatch/manufacturebatch_20250130_045331.csv",
         "2025-01-30T05:03:57.245+0000"
        ],
        [
         "19",
         "27f46ca5-f60f-4cab-a958-8fa0741cd484",
         "efa832a9-ba2d-4d51-a350-a54cd04ba273",
         "2024-10-06",
         "965",
         "Pending",
         "wasbs://00-landing@cdmo.blob.core.windows.net/data/incoming/manufacturebatch/manufacturebatch_20250130_045331.csv",
         "2025-01-30T05:03:57.245+0000"
        ],
        [
         "20",
         "f8eb002e-d3da-400f-81a2-332232fb5bb0",
         "dab24aae-0ffd-4b44-b225-8e49f1abc975",
         "2024-04-05",
         "603",
         "In Progress",
         "wasbs://00-landing@cdmo.blob.core.windows.net/data/incoming/manufacturebatch/manufacturebatch_20250130_045331.csv",
         "2025-01-30T05:03:57.245+0000"
        ],
        [
         "21",
         "82ea7759-7c33-4ac2-a6e2-9feb81533ec9",
         "2bcf535e-0a43-4380-a84a-333a419bdace",
         "2024-10-06",
         "941",
         "Pending",
         "wasbs://00-landing@cdmo.blob.core.windows.net/data/incoming/manufacturebatch/manufacturebatch_20250130_045331.csv",
         "2025-01-30T05:03:57.245+0000"
        ],
        [
         "22",
         "9a7d8105-7e40-47e6-967e-36df82950bdf",
         "28d1f0dd-b6c3-45e5-b4fd-9b70962bf2b7",
         "2025-01-19",
         "714",
         "Completed",
         "wasbs://00-landing@cdmo.blob.core.windows.net/data/incoming/manufacturebatch/manufacturebatch_20250130_045331.csv",
         "2025-01-30T05:03:57.245+0000"
        ],
        [
         "23",
         "3367986c-5022-4ae4-8fa9-bf69ed7ef18d",
         "e4245655-22ee-4409-8125-6a8b0bc73981",
         "2025-01-04",
         "925",
         "Pending",
         "wasbs://00-landing@cdmo.blob.core.windows.net/data/incoming/manufacturebatch/manufacturebatch_20250130_045331.csv",
         "2025-01-30T05:03:57.245+0000"
        ],
        [
         "24",
         "00f5ab8c-f639-4977-8dc8-bdcfdeab7334",
         "d0adff61-4fc2-4227-ab8c-88ded293e612",
         "2024-08-17",
         "264",
         "In Progress",
         "wasbs://00-landing@cdmo.blob.core.windows.net/data/incoming/manufacturebatch/manufacturebatch_20250130_045331.csv",
         "2025-01-30T05:03:57.245+0000"
        ],
        [
         "25",
         "a5daadff-8df7-442c-8900-5ecb4bad9171",
         "d41900c9-12ee-4375-bf7d-b511cf3e140d",
         "2024-08-08",
         "657",
         "Pending",
         "wasbs://00-landing@cdmo.blob.core.windows.net/data/incoming/manufacturebatch/manufacturebatch_20250130_045331.csv",
         "2025-01-30T05:03:57.245+0000"
        ],
        [
         "26",
         "5819cef6-40b7-4ec6-967c-2fc30fbdd484",
         "b0bba072-09c2-4b24-9d8c-3b2cb20a9af0",
         "2024-02-27",
         "545",
         "Completed",
         "wasbs://00-landing@cdmo.blob.core.windows.net/data/incoming/manufacturebatch/manufacturebatch_20250130_045331.csv",
         "2025-01-30T05:03:57.245+0000"
        ],
        [
         "27",
         "52f4a53b-8f5d-4b9b-95a2-6e1558d2a1da",
         "e4d44a01-53cc-4153-b225-e8ddca658a0a",
         "2024-11-28",
         "465",
         "Failed",
         "wasbs://00-landing@cdmo.blob.core.windows.net/data/incoming/manufacturebatch/manufacturebatch_20250130_045331.csv",
         "2025-01-30T05:03:57.245+0000"
        ],
        [
         "28",
         "43b523f0-b2aa-4643-aac7-c83b19a8be3c",
         "e2682f16-efdd-4006-87ee-5826b1f811f5",
         "2024-08-01",
         "982",
         "In Progress",
         "wasbs://00-landing@cdmo.blob.core.windows.net/data/incoming/manufacturebatch/manufacturebatch_20250130_045331.csv",
         "2025-01-30T05:03:57.245+0000"
        ],
        [
         "29",
         "62cac534-9a60-44d5-8522-442a68927122",
         "b18a5f9a-7f6f-4f31-97fc-aaf98ddd2fa2",
         "2024-04-20",
         "734",
         "Pending",
         "wasbs://00-landing@cdmo.blob.core.windows.net/data/incoming/manufacturebatch/manufacturebatch_20250130_045331.csv",
         "2025-01-30T05:03:57.245+0000"
        ],
        [
         "30",
         "d325a87b-5d01-4023-81b7-5638df716c60",
         "30716b33-2412-4482-ab76-52dc953a4d68",
         "2024-08-12",
         "549",
         "Completed",
         "wasbs://00-landing@cdmo.blob.core.windows.net/data/incoming/manufacturebatch/manufacturebatch_20250130_045331.csv",
         "2025-01-30T05:03:57.245+0000"
        ],
        [
         "31",
         "ec6aab69-29b5-425e-a510-e7f9919ddd80",
         "47831b9d-c201-40d1-b523-bf50a5aeb02c",
         "2024-06-13",
         "283",
         "Completed",
         "wasbs://00-landing@cdmo.blob.core.windows.net/data/incoming/manufacturebatch/manufacturebatch_20250130_045331.csv",
         "2025-01-30T05:03:57.245+0000"
        ],
        [
         "32",
         "f4be8f5f-3b4f-479a-b4b4-822917bd1c91",
         "b5332612-2ea6-427f-9674-f516b11bcc3b",
         "2024-12-10",
         "429",
         "Completed",
         "wasbs://00-landing@cdmo.blob.core.windows.net/data/incoming/manufacturebatch/manufacturebatch_20250130_045331.csv",
         "2025-01-30T05:03:57.245+0000"
        ],
        [
         "33",
         "68935e29-d8dd-4028-9b74-292e9b69b8b4",
         "cf71538a-c1e1-4708-ab52-807dcfdcae6a",
         "2024-05-14",
         "371",
         "In Progress",
         "wasbs://00-landing@cdmo.blob.core.windows.net/data/incoming/manufacturebatch/manufacturebatch_20250130_045331.csv",
         "2025-01-30T05:03:57.245+0000"
        ],
        [
         "34",
         "ae6dbb9e-f523-404f-be0f-0075e8208fd3",
         "0760af72-1192-42b5-bd53-a21a4e75cf4b",
         "2024-09-16",
         "989",
         "In Progress",
         "wasbs://00-landing@cdmo.blob.core.windows.net/data/incoming/manufacturebatch/manufacturebatch_20250130_045331.csv",
         "2025-01-30T05:03:57.245+0000"
        ],
        [
         "35",
         "a6c82aa6-4eb5-44d4-88ec-f9fc13005aff",
         "6c6ae9c6-e172-4b63-b6f0-b214bb1ad534",
         "2024-03-17",
         "756",
         "Pending",
         "wasbs://00-landing@cdmo.blob.core.windows.net/data/incoming/manufacturebatch/manufacturebatch_20250130_045331.csv",
         "2025-01-30T05:03:57.245+0000"
        ],
        [
         "36",
         "976b9b1a-7441-42d0-95df-5aad9f21520b",
         "7f44189d-4c19-49b2-8e09-b638d0c1e90f",
         "2024-05-22",
         "864",
         "Completed",
         "wasbs://00-landing@cdmo.blob.core.windows.net/data/incoming/manufacturebatch/manufacturebatch_20250130_045331.csv",
         "2025-01-30T05:03:57.245+0000"
        ],
        [
         "37",
         "321e0f53-cc3a-49f8-a6ec-da36ef3ef341",
         "e1f10352-db6c-414a-b30b-9c9c144bc02f",
         "2024-08-01",
         "665",
         "In Progress",
         "wasbs://00-landing@cdmo.blob.core.windows.net/data/incoming/manufacturebatch/manufacturebatch_20250130_045331.csv",
         "2025-01-30T05:03:57.245+0000"
        ],
        [
         "38",
         "a17d60eb-44dc-4a91-9464-f8ac2a10f293",
         "de0445d8-c592-4092-9ebf-5137418fa038",
         "2024-07-06",
         "154",
         "Completed",
         "wasbs://00-landing@cdmo.blob.core.windows.net/data/incoming/manufacturebatch/manufacturebatch_20250130_045331.csv",
         "2025-01-30T05:03:57.245+0000"
        ],
        [
         "39",
         "2e11144b-73ed-4e05-ae47-08c17e425400",
         "43ef8333-3848-4404-ace1-371a69705582",
         "2024-08-11",
         "907",
         "In Progress",
         "wasbs://00-landing@cdmo.blob.core.windows.net/data/incoming/manufacturebatch/manufacturebatch_20250130_045331.csv",
         "2025-01-30T05:03:57.245+0000"
        ],
        [
         "40",
         "bc259fa1-ef5b-4c85-9460-eca145411569",
         "cbf8f454-3c13-492d-a5fe-09a08dd965cb",
         "2024-02-16",
         "393",
         "In Progress",
         "wasbs://00-landing@cdmo.blob.core.windows.net/data/incoming/manufacturebatch/manufacturebatch_20250130_045331.csv",
         "2025-01-30T05:03:57.245+0000"
        ],
        [
         "41",
         "57b658e4-b2d7-4e6b-9046-c7e29eadd511",
         "8d5f9c1b-81ae-4f01-b532-5d8160537611",
         "2025-01-11",
         "541",
         "Failed",
         "wasbs://00-landing@cdmo.blob.core.windows.net/data/incoming/manufacturebatch/manufacturebatch_20250130_045331.csv",
         "2025-01-30T05:03:57.245+0000"
        ],
        [
         "42",
         "2e155830-808b-4c83-a28f-589be156f6fb",
         "b284af3e-7e80-4507-aa4e-5e98219e035c",
         "2024-05-14",
         "362",
         "Completed",
         "wasbs://00-landing@cdmo.blob.core.windows.net/data/incoming/manufacturebatch/manufacturebatch_20250130_045331.csv",
         "2025-01-30T05:03:57.245+0000"
        ],
        [
         "43",
         "3e1242c7-7748-4838-9f06-72b245a8431e",
         "af85902f-6976-407d-bb22-7a5188530ac1",
         "2024-05-09",
         "263",
         "Pending",
         "wasbs://00-landing@cdmo.blob.core.windows.net/data/incoming/manufacturebatch/manufacturebatch_20250130_045331.csv",
         "2025-01-30T05:03:57.245+0000"
        ],
        [
         "44",
         "608910f0-3237-495f-b8ca-a265e70fa746",
         "95c5ac04-1b0d-4495-a38b-b87eb9ac3f27",
         "2024-02-29",
         "837",
         "In Progress",
         "wasbs://00-landing@cdmo.blob.core.windows.net/data/incoming/manufacturebatch/manufacturebatch_20250130_045331.csv",
         "2025-01-30T05:03:57.245+0000"
        ],
        [
         "45",
         "9d5b67e0-5b48-4c81-bcb3-93df530999d2",
         "68c277a0-273f-4199-9208-59cc90f13371",
         "2024-05-07",
         "162",
         "Failed",
         "wasbs://00-landing@cdmo.blob.core.windows.net/data/incoming/manufacturebatch/manufacturebatch_20250130_045331.csv",
         "2025-01-30T05:03:57.245+0000"
        ],
        [
         "46",
         "65b953b4-17db-4411-97de-99355be02e87",
         "ee2f5d90-7f6c-4895-95a2-a9b204190d13",
         "2024-11-17",
         "146",
         "Failed",
         "wasbs://00-landing@cdmo.blob.core.windows.net/data/incoming/manufacturebatch/manufacturebatch_20250130_045331.csv",
         "2025-01-30T05:03:57.245+0000"
        ],
        [
         "47",
         "9b1bc7c6-23c2-46b0-93fe-d6e3f7a4bab5",
         "13fee0b1-ef1c-4ef5-bac4-255b6c4c08cc",
         "2024-12-03",
         "765",
         "Failed",
         "wasbs://00-landing@cdmo.blob.core.windows.net/data/incoming/manufacturebatch/manufacturebatch_20250130_045331.csv",
         "2025-01-30T05:03:57.245+0000"
        ],
        [
         "48",
         "2f4104d0-cc1b-4f96-922e-7a0822a5dd27",
         "9498cc4a-7687-43cd-ac9d-ec60ac15a263",
         "2024-09-11",
         "513",
         "In Progress",
         "wasbs://00-landing@cdmo.blob.core.windows.net/data/incoming/manufacturebatch/manufacturebatch_20250130_045331.csv",
         "2025-01-30T05:03:57.245+0000"
        ],
        [
         "49",
         "ae3f4a96-1157-4328-9735-e4a2478b0b1f",
         "88619e1f-6f19-4bdf-bb1d-6afd4e41fdd2",
         "2024-10-06",
         "726",
         "Pending",
         "wasbs://00-landing@cdmo.blob.core.windows.net/data/incoming/manufacturebatch/manufacturebatch_20250130_045331.csv",
         "2025-01-30T05:03:57.245+0000"
        ]
       ],
       "datasetInfos": [],
       "dbfsResultPath": null,
       "isJsonSchema": true,
       "metadata": {},
       "overflow": false,
       "plotOptions": {
        "customPlotOptions": {},
        "displayType": "table",
        "pivotAggregation": null,
        "pivotColumns": null,
        "xColumns": null,
        "yColumns": null
       },
       "removedWidgets": [],
       "schema": [
        {
         "metadata": "{}",
         "name": "id",
         "type": "\"string\""
        },
        {
         "metadata": "{}",
         "name": "BatchID",
         "type": "\"string\""
        },
        {
         "metadata": "{}",
         "name": "ProductID",
         "type": "\"string\""
        },
        {
         "metadata": "{}",
         "name": "BatchDate",
         "type": "\"string\""
        },
        {
         "metadata": "{}",
         "name": "Quantity",
         "type": "\"string\""
        },
        {
         "metadata": "{}",
         "name": "Status",
         "type": "\"string\""
        },
        {
         "metadata": "{}",
         "name": "Filename",
         "type": "\"string\""
        },
        {
         "metadata": "{}",
         "name": "LoadTimestamp",
         "type": "\"timestamp\""
        }
       ],
       "type": "table"
      }
     },
     "output_type": "display_data"
    },
    {
     "output_type": "stream",
     "name": "stdout",
     "output_type": "stream",
     "text": [
      "🔍 Validating table: productformula at wasbs://01-bronze@cdmo.blob.core.windows.net/productformula/\n✅ Table: productformula, Record Count: 20\n📊 Displaying records for table: productformula\n"
     ]
    },
    {
     "output_type": "display_data",
     "data": {
      "text/html": [
       "<style scoped>\n",
       "  .table-result-container {\n",
       "    max-height: 300px;\n",
       "    overflow: auto;\n",
       "  }\n",
       "  table, th, td {\n",
       "    border: 1px solid black;\n",
       "    border-collapse: collapse;\n",
       "  }\n",
       "  th, td {\n",
       "    padding: 5px;\n",
       "  }\n",
       "  th {\n",
       "    text-align: left;\n",
       "  }\n",
       "</style><div class='table-result-container'><table class='table-result'><thead style='background-color: white'><tr><th>id</th><th>ProductID</th><th>ProductName</th><th>Category</th><th>FormulationType</th><th>PrimaryIngredients</th><th>LaunchDate</th><th>Filename</th><th>LoadTimestamp</th></tr></thead><tbody><tr><td>0</td><td>24a310ab-684e-4c77-a9aa-2ae828c1e544</td><td>8 Foundation</td><td>Lipstick</td><td>Liquid</td><td>Hyaluronic Acid, Vitamin E</td><td>2024-04-05</td><td>wasbs://00-landing@cdmo.blob.core.windows.net/data/incoming/productformula/productformula_20250130_045331.csv</td><td>2025-01-30T05:04:06.856+0000</td></tr><tr><td>1</td><td>2d711bd7-fd4c-4a74-8e3c-a0dff069c652</td><td>6 Lipstick</td><td>Lipstick</td><td>Liquid</td><td>Shea Butter, Hyaluronic Acid</td><td>2023-05-27</td><td>wasbs://00-landing@cdmo.blob.core.windows.net/data/incoming/productformula/productformula_20250130_045331.csv</td><td>2025-01-30T05:04:06.856+0000</td></tr><tr><td>2</td><td>739600ed-69f4-42ae-b91c-f6b2551ae590</td><td>1 Lipstick</td><td>Eyeshadow</td><td>Cream</td><td>Shea Butter, Collagen</td><td>2023-12-17</td><td>wasbs://00-landing@cdmo.blob.core.windows.net/data/incoming/productformula/productformula_20250130_045331.csv</td><td>2025-01-30T05:04:06.856+0000</td></tr><tr><td>3</td><td>f2989b72-33c2-431f-8382-250a23ae28ef</td><td>4 Eyeshadow</td><td>Foundation</td><td>Stick</td><td>Collagen, Collagen</td><td>2024-08-06</td><td>wasbs://00-landing@cdmo.blob.core.windows.net/data/incoming/productformula/productformula_20250130_045331.csv</td><td>2025-01-30T05:04:06.856+0000</td></tr><tr><td>4</td><td>a80ef484-6b83-4179-aaf5-88207da63468</td><td>1 Blush</td><td>Lipstick</td><td>Liquid</td><td>Collagen, Vitamin E</td><td>2023-08-01</td><td>wasbs://00-landing@cdmo.blob.core.windows.net/data/incoming/productformula/productformula_20250130_045331.csv</td><td>2025-01-30T05:04:06.856+0000</td></tr><tr><td>5</td><td>2a3cd631-79aa-4602-a6e8-5a1872d9b17b</td><td>0 Lipstick</td><td>Lipstick</td><td>Powder</td><td>Aloe Vera, Vitamin E</td><td>2024-11-26</td><td>wasbs://00-landing@cdmo.blob.core.windows.net/data/incoming/productformula/productformula_20250130_045331.csv</td><td>2025-01-30T05:04:06.856+0000</td></tr><tr><td>6</td><td>a98252a8-2804-43a6-966e-b44b1a7cced8</td><td>3 Foundation</td><td>Eyeshadow</td><td>Liquid</td><td>Collagen, Hyaluronic Acid</td><td>2024-08-24</td><td>wasbs://00-landing@cdmo.blob.core.windows.net/data/incoming/productformula/productformula_20250130_045331.csv</td><td>2025-01-30T05:04:06.856+0000</td></tr><tr><td>7</td><td>f51590b3-c45f-43a9-b9e3-58ad9da7281d</td><td>4 Eyeshadow</td><td>Blush</td><td>Liquid</td><td>Aloe Vera, Aloe Vera</td><td>2023-11-01</td><td>wasbs://00-landing@cdmo.blob.core.windows.net/data/incoming/productformula/productformula_20250130_045331.csv</td><td>2025-01-30T05:04:06.856+0000</td></tr><tr><td>8</td><td>12c97626-7037-401d-be0f-4ba1fa6a0b05</td><td>5 Blush</td><td>Eyeshadow</td><td>Gel</td><td>Vitamin E, Collagen</td><td>2023-09-03</td><td>wasbs://00-landing@cdmo.blob.core.windows.net/data/incoming/productformula/productformula_20250130_045331.csv</td><td>2025-01-30T05:04:06.856+0000</td></tr><tr><td>9</td><td>d911727b-eb71-40ff-9615-54a5a45d3b9e</td><td>7 Eyeshadow</td><td>Blush</td><td>Powder</td><td>Hyaluronic Acid, Vitamin E</td><td>2023-07-06</td><td>wasbs://00-landing@cdmo.blob.core.windows.net/data/incoming/productformula/productformula_20250130_045331.csv</td><td>2025-01-30T05:04:06.856+0000</td></tr><tr><td>10</td><td>52a25934-ee9b-41d1-8911-6585956dc34b</td><td>6 Eyeshadow</td><td>Mascara</td><td>Gel</td><td>Hyaluronic Acid, Hyaluronic Acid</td><td>2024-08-25</td><td>wasbs://00-landing@cdmo.blob.core.windows.net/data/incoming/productformula/productformula_20250130_045331.csv</td><td>2025-01-30T05:04:06.856+0000</td></tr><tr><td>11</td><td>55b9ddcb-9692-46f7-95c1-7042739e2a5f</td><td>5 Eyeshadow</td><td>Blush</td><td>Stick</td><td>Shea Butter, Collagen</td><td>2024-02-18</td><td>wasbs://00-landing@cdmo.blob.core.windows.net/data/incoming/productformula/productformula_20250130_045331.csv</td><td>2025-01-30T05:04:06.856+0000</td></tr><tr><td>12</td><td>5812e415-0deb-45a5-9bc8-a1f5aff0df53</td><td>0 Eyeshadow</td><td>Mascara</td><td>Powder</td><td>Shea Butter, Hyaluronic Acid</td><td>2024-02-10</td><td>wasbs://00-landing@cdmo.blob.core.windows.net/data/incoming/productformula/productformula_20250130_045331.csv</td><td>2025-01-30T05:04:06.856+0000</td></tr><tr><td>13</td><td>601e37ad-8c45-485b-b677-6bfbea820ccb</td><td>7 Blush</td><td>Mascara</td><td>Stick</td><td>Shea Butter, Vitamin E</td><td>2023-02-27</td><td>wasbs://00-landing@cdmo.blob.core.windows.net/data/incoming/productformula/productformula_20250130_045331.csv</td><td>2025-01-30T05:04:06.856+0000</td></tr><tr><td>14</td><td>a0159b0c-bd58-4217-9e8a-99d0a9de86a5</td><td>8 Eyeshadow</td><td>Eyeshadow</td><td>Powder</td><td>Collagen, Hyaluronic Acid</td><td>2024-09-07</td><td>wasbs://00-landing@cdmo.blob.core.windows.net/data/incoming/productformula/productformula_20250130_045331.csv</td><td>2025-01-30T05:04:06.856+0000</td></tr><tr><td>15</td><td>f63d1f28-0967-4694-a51c-563c235de18d</td><td>0 Foundation</td><td>Mascara</td><td>Cream</td><td>Hyaluronic Acid, Hyaluronic Acid</td><td>2023-03-17</td><td>wasbs://00-landing@cdmo.blob.core.windows.net/data/incoming/productformula/productformula_20250130_045331.csv</td><td>2025-01-30T05:04:06.856+0000</td></tr><tr><td>16</td><td>122997b9-9e35-4a1f-940e-9687d01125de</td><td>6 Foundation</td><td>Blush</td><td>Powder</td><td>Collagen, Vitamin E</td><td>2023-11-16</td><td>wasbs://00-landing@cdmo.blob.core.windows.net/data/incoming/productformula/productformula_20250130_045331.csv</td><td>2025-01-30T05:04:06.856+0000</td></tr><tr><td>17</td><td>6265dd7c-8b14-4b96-8857-a544e5646aab</td><td>9 Lipstick</td><td>Mascara</td><td>Stick</td><td>Collagen, Hyaluronic Acid</td><td>2023-02-12</td><td>wasbs://00-landing@cdmo.blob.core.windows.net/data/incoming/productformula/productformula_20250130_045331.csv</td><td>2025-01-30T05:04:06.856+0000</td></tr><tr><td>18</td><td>307d5b41-1151-40a4-b472-7541ac65eaca</td><td>9 Eyeshadow</td><td>Lipstick</td><td>Gel</td><td>Shea Butter, Hyaluronic Acid</td><td>2024-12-03</td><td>wasbs://00-landing@cdmo.blob.core.windows.net/data/incoming/productformula/productformula_20250130_045331.csv</td><td>2025-01-30T05:04:06.856+0000</td></tr><tr><td>19</td><td>8d8c6621-9707-418c-a5d7-502d753e499d</td><td>1 Lipstick</td><td>Lipstick</td><td>Gel</td><td>Hyaluronic Acid, Aloe Vera</td><td>2024-12-20</td><td>wasbs://00-landing@cdmo.blob.core.windows.net/data/incoming/productformula/productformula_20250130_045331.csv</td><td>2025-01-30T05:04:06.856+0000</td></tr></tbody></table></div>"
      ]
     },
     "metadata": {
      "application/vnd.databricks.v1+output": {
       "addedWidgets": {},
       "aggData": [],
       "aggError": "",
       "aggOverflow": false,
       "aggSchema": [],
       "aggSeriesLimitReached": false,
       "aggType": "",
       "arguments": {},
       "columnCustomDisplayInfos": {},
       "data": [
        [
         "0",
         "24a310ab-684e-4c77-a9aa-2ae828c1e544",
         "8 Foundation",
         "Lipstick",
         "Liquid",
         "Hyaluronic Acid, Vitamin E",
         "2024-04-05",
         "wasbs://00-landing@cdmo.blob.core.windows.net/data/incoming/productformula/productformula_20250130_045331.csv",
         "2025-01-30T05:04:06.856+0000"
        ],
        [
         "1",
         "2d711bd7-fd4c-4a74-8e3c-a0dff069c652",
         "6 Lipstick",
         "Lipstick",
         "Liquid",
         "Shea Butter, Hyaluronic Acid",
         "2023-05-27",
         "wasbs://00-landing@cdmo.blob.core.windows.net/data/incoming/productformula/productformula_20250130_045331.csv",
         "2025-01-30T05:04:06.856+0000"
        ],
        [
         "2",
         "739600ed-69f4-42ae-b91c-f6b2551ae590",
         "1 Lipstick",
         "Eyeshadow",
         "Cream",
         "Shea Butter, Collagen",
         "2023-12-17",
         "wasbs://00-landing@cdmo.blob.core.windows.net/data/incoming/productformula/productformula_20250130_045331.csv",
         "2025-01-30T05:04:06.856+0000"
        ],
        [
         "3",
         "f2989b72-33c2-431f-8382-250a23ae28ef",
         "4 Eyeshadow",
         "Foundation",
         "Stick",
         "Collagen, Collagen",
         "2024-08-06",
         "wasbs://00-landing@cdmo.blob.core.windows.net/data/incoming/productformula/productformula_20250130_045331.csv",
         "2025-01-30T05:04:06.856+0000"
        ],
        [
         "4",
         "a80ef484-6b83-4179-aaf5-88207da63468",
         "1 Blush",
         "Lipstick",
         "Liquid",
         "Collagen, Vitamin E",
         "2023-08-01",
         "wasbs://00-landing@cdmo.blob.core.windows.net/data/incoming/productformula/productformula_20250130_045331.csv",
         "2025-01-30T05:04:06.856+0000"
        ],
        [
         "5",
         "2a3cd631-79aa-4602-a6e8-5a1872d9b17b",
         "0 Lipstick",
         "Lipstick",
         "Powder",
         "Aloe Vera, Vitamin E",
         "2024-11-26",
         "wasbs://00-landing@cdmo.blob.core.windows.net/data/incoming/productformula/productformula_20250130_045331.csv",
         "2025-01-30T05:04:06.856+0000"
        ],
        [
         "6",
         "a98252a8-2804-43a6-966e-b44b1a7cced8",
         "3 Foundation",
         "Eyeshadow",
         "Liquid",
         "Collagen, Hyaluronic Acid",
         "2024-08-24",
         "wasbs://00-landing@cdmo.blob.core.windows.net/data/incoming/productformula/productformula_20250130_045331.csv",
         "2025-01-30T05:04:06.856+0000"
        ],
        [
         "7",
         "f51590b3-c45f-43a9-b9e3-58ad9da7281d",
         "4 Eyeshadow",
         "Blush",
         "Liquid",
         "Aloe Vera, Aloe Vera",
         "2023-11-01",
         "wasbs://00-landing@cdmo.blob.core.windows.net/data/incoming/productformula/productformula_20250130_045331.csv",
         "2025-01-30T05:04:06.856+0000"
        ],
        [
         "8",
         "12c97626-7037-401d-be0f-4ba1fa6a0b05",
         "5 Blush",
         "Eyeshadow",
         "Gel",
         "Vitamin E, Collagen",
         "2023-09-03",
         "wasbs://00-landing@cdmo.blob.core.windows.net/data/incoming/productformula/productformula_20250130_045331.csv",
         "2025-01-30T05:04:06.856+0000"
        ],
        [
         "9",
         "d911727b-eb71-40ff-9615-54a5a45d3b9e",
         "7 Eyeshadow",
         "Blush",
         "Powder",
         "Hyaluronic Acid, Vitamin E",
         "2023-07-06",
         "wasbs://00-landing@cdmo.blob.core.windows.net/data/incoming/productformula/productformula_20250130_045331.csv",
         "2025-01-30T05:04:06.856+0000"
        ],
        [
         "10",
         "52a25934-ee9b-41d1-8911-6585956dc34b",
         "6 Eyeshadow",
         "Mascara",
         "Gel",
         "Hyaluronic Acid, Hyaluronic Acid",
         "2024-08-25",
         "wasbs://00-landing@cdmo.blob.core.windows.net/data/incoming/productformula/productformula_20250130_045331.csv",
         "2025-01-30T05:04:06.856+0000"
        ],
        [
         "11",
         "55b9ddcb-9692-46f7-95c1-7042739e2a5f",
         "5 Eyeshadow",
         "Blush",
         "Stick",
         "Shea Butter, Collagen",
         "2024-02-18",
         "wasbs://00-landing@cdmo.blob.core.windows.net/data/incoming/productformula/productformula_20250130_045331.csv",
         "2025-01-30T05:04:06.856+0000"
        ],
        [
         "12",
         "5812e415-0deb-45a5-9bc8-a1f5aff0df53",
         "0 Eyeshadow",
         "Mascara",
         "Powder",
         "Shea Butter, Hyaluronic Acid",
         "2024-02-10",
         "wasbs://00-landing@cdmo.blob.core.windows.net/data/incoming/productformula/productformula_20250130_045331.csv",
         "2025-01-30T05:04:06.856+0000"
        ],
        [
         "13",
         "601e37ad-8c45-485b-b677-6bfbea820ccb",
         "7 Blush",
         "Mascara",
         "Stick",
         "Shea Butter, Vitamin E",
         "2023-02-27",
         "wasbs://00-landing@cdmo.blob.core.windows.net/data/incoming/productformula/productformula_20250130_045331.csv",
         "2025-01-30T05:04:06.856+0000"
        ],
        [
         "14",
         "a0159b0c-bd58-4217-9e8a-99d0a9de86a5",
         "8 Eyeshadow",
         "Eyeshadow",
         "Powder",
         "Collagen, Hyaluronic Acid",
         "2024-09-07",
         "wasbs://00-landing@cdmo.blob.core.windows.net/data/incoming/productformula/productformula_20250130_045331.csv",
         "2025-01-30T05:04:06.856+0000"
        ],
        [
         "15",
         "f63d1f28-0967-4694-a51c-563c235de18d",
         "0 Foundation",
         "Mascara",
         "Cream",
         "Hyaluronic Acid, Hyaluronic Acid",
         "2023-03-17",
         "wasbs://00-landing@cdmo.blob.core.windows.net/data/incoming/productformula/productformula_20250130_045331.csv",
         "2025-01-30T05:04:06.856+0000"
        ],
        [
         "16",
         "122997b9-9e35-4a1f-940e-9687d01125de",
         "6 Foundation",
         "Blush",
         "Powder",
         "Collagen, Vitamin E",
         "2023-11-16",
         "wasbs://00-landing@cdmo.blob.core.windows.net/data/incoming/productformula/productformula_20250130_045331.csv",
         "2025-01-30T05:04:06.856+0000"
        ],
        [
         "17",
         "6265dd7c-8b14-4b96-8857-a544e5646aab",
         "9 Lipstick",
         "Mascara",
         "Stick",
         "Collagen, Hyaluronic Acid",
         "2023-02-12",
         "wasbs://00-landing@cdmo.blob.core.windows.net/data/incoming/productformula/productformula_20250130_045331.csv",
         "2025-01-30T05:04:06.856+0000"
        ],
        [
         "18",
         "307d5b41-1151-40a4-b472-7541ac65eaca",
         "9 Eyeshadow",
         "Lipstick",
         "Gel",
         "Shea Butter, Hyaluronic Acid",
         "2024-12-03",
         "wasbs://00-landing@cdmo.blob.core.windows.net/data/incoming/productformula/productformula_20250130_045331.csv",
         "2025-01-30T05:04:06.856+0000"
        ],
        [
         "19",
         "8d8c6621-9707-418c-a5d7-502d753e499d",
         "1 Lipstick",
         "Lipstick",
         "Gel",
         "Hyaluronic Acid, Aloe Vera",
         "2024-12-20",
         "wasbs://00-landing@cdmo.blob.core.windows.net/data/incoming/productformula/productformula_20250130_045331.csv",
         "2025-01-30T05:04:06.856+0000"
        ]
       ],
       "datasetInfos": [],
       "dbfsResultPath": null,
       "isJsonSchema": true,
       "metadata": {},
       "overflow": false,
       "plotOptions": {
        "customPlotOptions": {},
        "displayType": "table",
        "pivotAggregation": null,
        "pivotColumns": null,
        "xColumns": null,
        "yColumns": null
       },
       "removedWidgets": [],
       "schema": [
        {
         "metadata": "{}",
         "name": "id",
         "type": "\"string\""
        },
        {
         "metadata": "{}",
         "name": "ProductID",
         "type": "\"string\""
        },
        {
         "metadata": "{}",
         "name": "ProductName",
         "type": "\"string\""
        },
        {
         "metadata": "{}",
         "name": "Category",
         "type": "\"string\""
        },
        {
         "metadata": "{}",
         "name": "FormulationType",
         "type": "\"string\""
        },
        {
         "metadata": "{}",
         "name": "PrimaryIngredients",
         "type": "\"string\""
        },
        {
         "metadata": "{}",
         "name": "LaunchDate",
         "type": "\"string\""
        },
        {
         "metadata": "{}",
         "name": "Filename",
         "type": "\"string\""
        },
        {
         "metadata": "{}",
         "name": "LoadTimestamp",
         "type": "\"timestamp\""
        }
       ],
       "type": "table"
      }
     },
     "output_type": "display_data"
    },
    {
     "output_type": "stream",
     "name": "stdout",
     "output_type": "stream",
     "text": [
      "🔍 Validating table: sales at wasbs://01-bronze@cdmo.blob.core.windows.net/sales/\n✅ Table: sales, Record Count: 50\n📊 Displaying records for table: sales\n"
     ]
    },
    {
     "output_type": "display_data",
     "data": {
      "text/html": [
       "<style scoped>\n",
       "  .table-result-container {\n",
       "    max-height: 300px;\n",
       "    overflow: auto;\n",
       "  }\n",
       "  table, th, td {\n",
       "    border: 1px solid black;\n",
       "    border-collapse: collapse;\n",
       "  }\n",
       "  th, td {\n",
       "    padding: 5px;\n",
       "  }\n",
       "  th {\n",
       "    text-align: left;\n",
       "  }\n",
       "</style><div class='table-result-container'><table class='table-result'><thead style='background-color: white'><tr><th>id</th><th>OrderID</th><th>CustomerID</th><th>ProductID</th><th>Quantity</th><th>TotalAmount</th><th>OrderDate</th><th>Filename</th><th>LoadTimestamp</th></tr></thead><tbody><tr><td>0</td><td>24a3c597-b47c-44f3-9ea3-ce61eb4fbb86</td><td>8cc26038-7ac2-4794-9926-dd3a564a66a0</td><td>4aef150d-abbe-4777-8006-606043a20910</td><td>6</td><td>421.44876</td><td>2024-06-22</td><td>wasbs://00-landing@cdmo.blob.core.windows.net/data/incoming/sales/sales_20250130_045331.csv</td><td>2025-01-30T05:04:15.794+0000</td></tr><tr><td>1</td><td>3a615482-8a4f-4525-997b-25518915bda1</td><td>2249009d-86df-4174-a43a-e7aa349d39d9</td><td>b4b7c670-84b1-4190-9007-ccff70bbf977</td><td>7</td><td>104.24159</td><td>2025-01-12</td><td>wasbs://00-landing@cdmo.blob.core.windows.net/data/incoming/sales/sales_20250130_045331.csv</td><td>2025-01-30T05:04:15.794+0000</td></tr><tr><td>2</td><td>c580a924-00f7-4b14-9042-764aaba00fc4</td><td>ae5ac3de-29e0-4402-bd8f-bbfb96a92865</td><td>56fc973f-660d-40cd-969e-38ae1ef36a96</td><td>7</td><td>297.30954</td><td>2024-07-24</td><td>wasbs://00-landing@cdmo.blob.core.windows.net/data/incoming/sales/sales_20250130_045331.csv</td><td>2025-01-30T05:04:15.794+0000</td></tr><tr><td>3</td><td>625e0563-17c1-4d45-96de-d642777ab8a0</td><td>cf958a04-c24a-4444-8505-cefbe81fee3f</td><td>2d6b3cfe-e847-43de-b522-46df561c457d</td><td>3</td><td>360.72583</td><td>2024-02-15</td><td>wasbs://00-landing@cdmo.blob.core.windows.net/data/incoming/sales/sales_20250130_045331.csv</td><td>2025-01-30T05:04:15.794+0000</td></tr><tr><td>4</td><td>658bae55-f255-4312-b634-3ba2a9ac7d6c</td><td>8b1e9b48-dae0-4ef7-988a-2a80fd0ec5f9</td><td>4ed98e1c-de11-4696-ae47-f491fcb5f77d</td><td>7</td><td>99.40935</td><td>2024-11-19</td><td>wasbs://00-landing@cdmo.blob.core.windows.net/data/incoming/sales/sales_20250130_045331.csv</td><td>2025-01-30T05:04:15.794+0000</td></tr><tr><td>5</td><td>80c160fb-9d5a-4fcc-b0a8-e4f437838a37</td><td>8f278952-b58f-4b6f-9b9b-1dcc7f316f38</td><td>5848cb63-860c-4b39-a92e-5a0476d4f463</td><td>1</td><td>378.37415</td><td>2025-01-15</td><td>wasbs://00-landing@cdmo.blob.core.windows.net/data/incoming/sales/sales_20250130_045331.csv</td><td>2025-01-30T05:04:15.794+0000</td></tr><tr><td>6</td><td>fb2a2e47-d608-4b6d-ac77-b3fdf391f3db</td><td>b9b31f50-a41e-4cda-8562-8060636fbe26</td><td>4e678800-8830-4b7b-bc19-0b7e93cc26d8</td><td>7</td><td>154.32324</td><td>2024-12-15</td><td>wasbs://00-landing@cdmo.blob.core.windows.net/data/incoming/sales/sales_20250130_045331.csv</td><td>2025-01-30T05:04:15.794+0000</td></tr><tr><td>7</td><td>53fc5511-dbe2-4d40-9876-fafe07219a3b</td><td>da823fdd-da14-4cb3-9fce-87838318640d</td><td>d5a47bee-2b43-47a3-90d1-e528b59944d2</td><td>1</td><td>179.61403</td><td>2024-09-29</td><td>wasbs://00-landing@cdmo.blob.core.windows.net/data/incoming/sales/sales_20250130_045331.csv</td><td>2025-01-30T05:04:15.794+0000</td></tr><tr><td>8</td><td>b696b657-3d74-47ce-b948-49cde0d403e5</td><td>9dd8f7f3-c657-4154-844f-7458851d5eb9</td><td>75113be0-d45e-4634-8372-e38d5721da64</td><td>8</td><td>342.97693</td><td>2024-09-29</td><td>wasbs://00-landing@cdmo.blob.core.windows.net/data/incoming/sales/sales_20250130_045331.csv</td><td>2025-01-30T05:04:15.794+0000</td></tr><tr><td>9</td><td>e3ed175e-a36a-4a24-9d7f-a42ba0135315</td><td>78687693-e7d6-48af-ac67-89b0601c8c70</td><td>a4217b25-289f-40c4-9183-17375a864e2b</td><td>8</td><td>282.14777</td><td>2024-12-31</td><td>wasbs://00-landing@cdmo.blob.core.windows.net/data/incoming/sales/sales_20250130_045331.csv</td><td>2025-01-30T05:04:15.794+0000</td></tr><tr><td>10</td><td>9847db96-36a0-455f-bdc0-508a20a1551b</td><td>304e0700-9f28-4169-ae94-d464298237df</td><td>abe9ae82-ee63-4c77-ab2a-c5c95b486b7a</td><td>7</td><td>110.00517</td><td>2024-10-25</td><td>wasbs://00-landing@cdmo.blob.core.windows.net/data/incoming/sales/sales_20250130_045331.csv</td><td>2025-01-30T05:04:15.794+0000</td></tr><tr><td>11</td><td>761c13e3-9eaf-4952-a2f3-c4cb5f7e4951</td><td>bda48dfa-c29a-431f-b198-3a30673ab756</td><td>3e042e5d-6eea-4ff4-8eee-575dcadd42c4</td><td>3</td><td>290.08432</td><td>2024-08-02</td><td>wasbs://00-landing@cdmo.blob.core.windows.net/data/incoming/sales/sales_20250130_045331.csv</td><td>2025-01-30T05:04:15.794+0000</td></tr><tr><td>12</td><td>8382b367-143b-4969-ab79-365b543e7ecd</td><td>16e238e6-ef98-409f-87c2-3654d71bf43b</td><td>d127d1a5-6d9d-4d0f-b5b6-78a49131d39e</td><td>7</td><td>471.72885</td><td>2024-04-13</td><td>wasbs://00-landing@cdmo.blob.core.windows.net/data/incoming/sales/sales_20250130_045331.csv</td><td>2025-01-30T05:04:15.794+0000</td></tr><tr><td>13</td><td>95e626f6-a272-4bab-b605-f2290c24ae6e</td><td>ea21bb3e-4639-4836-a37d-517b4f3eebda</td><td>135cd42b-f359-4860-945e-769f4ec01c6a</td><td>4</td><td>476.97662</td><td>2024-09-07</td><td>wasbs://00-landing@cdmo.blob.core.windows.net/data/incoming/sales/sales_20250130_045331.csv</td><td>2025-01-30T05:04:15.794+0000</td></tr><tr><td>14</td><td>caf17f07-cf93-41a2-ad7f-84779d67ae8b</td><td>9203d4d6-3aa8-4afc-8bf5-c6436dae9e31</td><td>994874a3-ae48-40d0-8031-f9af9a6fe159</td><td>9</td><td>61.223156</td><td>2024-06-06</td><td>wasbs://00-landing@cdmo.blob.core.windows.net/data/incoming/sales/sales_20250130_045331.csv</td><td>2025-01-30T05:04:15.794+0000</td></tr><tr><td>15</td><td>38bebd0b-0b8c-4444-bd74-bae48b3d670c</td><td>39db7e84-b556-4c5e-b192-6987a1549374</td><td>f694f19f-799a-4387-8414-8d2e0125f967</td><td>3</td><td>153.11906</td><td>2024-09-24</td><td>wasbs://00-landing@cdmo.blob.core.windows.net/data/incoming/sales/sales_20250130_045331.csv</td><td>2025-01-30T05:04:15.794+0000</td></tr><tr><td>16</td><td>e8385a34-f0c2-4b4b-8d1c-8bf27468e829</td><td>9af59645-f2de-4fcb-a555-4da9e65fe8bd</td><td>8381b9ad-3c4f-4085-941e-4e648e3e3de4</td><td>8</td><td>157.4813</td><td>2024-02-07</td><td>wasbs://00-landing@cdmo.blob.core.windows.net/data/incoming/sales/sales_20250130_045331.csv</td><td>2025-01-30T05:04:15.794+0000</td></tr><tr><td>17</td><td>6b7a4313-a92f-43f4-8fb1-e6f4ce565cd4</td><td>8579c515-77d3-43cd-8737-f15419d9cb5d</td><td>59382e2b-b9e7-4456-89cb-0c891068e2ce</td><td>8</td><td>204.60406</td><td>2024-05-31</td><td>wasbs://00-landing@cdmo.blob.core.windows.net/data/incoming/sales/sales_20250130_045331.csv</td><td>2025-01-30T05:04:15.794+0000</td></tr><tr><td>18</td><td>d862d000-5b97-4dc6-9afa-1687faa6f197</td><td>6d76f403-a95b-420a-94ef-45d125096cbf</td><td>ce43bde7-061c-4187-85c1-abeb19b52a9f</td><td>4</td><td>34.60514</td><td>2024-03-26</td><td>wasbs://00-landing@cdmo.blob.core.windows.net/data/incoming/sales/sales_20250130_045331.csv</td><td>2025-01-30T05:04:15.794+0000</td></tr><tr><td>19</td><td>e2e2d26a-6ade-475b-bb4a-85f979d0eae0</td><td>5d6459f6-913d-4530-aaba-d97bc1c56c87</td><td>8e8e6f4d-e7b9-45cc-b7c4-91a81daaed2c</td><td>7</td><td>442.4511</td><td>2024-10-17</td><td>wasbs://00-landing@cdmo.blob.core.windows.net/data/incoming/sales/sales_20250130_045331.csv</td><td>2025-01-30T05:04:15.794+0000</td></tr><tr><td>20</td><td>ecc23140-edbd-4847-80bb-a7f037815595</td><td>c0fdb001-96ab-4a23-8d30-3dff1921b965</td><td>225e8dfe-d0a1-4814-a880-c3b75b7ae2b1</td><td>4</td><td>79.49184</td><td>2024-04-18</td><td>wasbs://00-landing@cdmo.blob.core.windows.net/data/incoming/sales/sales_20250130_045331.csv</td><td>2025-01-30T05:04:15.794+0000</td></tr><tr><td>21</td><td>9c0020a9-1416-4d31-8e32-bc0c538075e3</td><td>bfe5c203-d2f0-4f8f-82a3-5b5808a043e8</td><td>be3101fb-5e7c-4234-aad3-571bd180788a</td><td>1</td><td>379.0154</td><td>2024-05-15</td><td>wasbs://00-landing@cdmo.blob.core.windows.net/data/incoming/sales/sales_20250130_045331.csv</td><td>2025-01-30T05:04:15.794+0000</td></tr><tr><td>22</td><td>e61e24ba-d515-492c-8f8d-559cb00c4301</td><td>de9ca209-9f40-48d3-8231-0799ad86d9a6</td><td>3a86a328-6b56-40b0-a591-5ff1f07bce71</td><td>5</td><td>316.74057</td><td>2024-11-07</td><td>wasbs://00-landing@cdmo.blob.core.windows.net/data/incoming/sales/sales_20250130_045331.csv</td><td>2025-01-30T05:04:15.794+0000</td></tr><tr><td>23</td><td>e191dadd-0534-4a99-a437-fd3bf1fb940b</td><td>8fa7c518-16c2-428b-ab7e-5598a3f137c2</td><td>f5d867af-7f46-4017-aeae-fa8f9660ceb8</td><td>4</td><td>170.10889</td><td>2025-01-27</td><td>wasbs://00-landing@cdmo.blob.core.windows.net/data/incoming/sales/sales_20250130_045331.csv</td><td>2025-01-30T05:04:15.794+0000</td></tr><tr><td>24</td><td>50604ce4-5ab5-4d57-a85a-fe7a8be01baa</td><td>6fa9cf3f-eeb4-4058-bfdd-376bc21fc429</td><td>5e020262-6d3c-4fa8-bea8-23b696b57853</td><td>7</td><td>281.92886</td><td>2024-06-17</td><td>wasbs://00-landing@cdmo.blob.core.windows.net/data/incoming/sales/sales_20250130_045331.csv</td><td>2025-01-30T05:04:15.794+0000</td></tr><tr><td>25</td><td>b0ef55be-8d50-4f7a-a52e-c86ee3b51d7c</td><td>767da0a5-1dc2-47ed-9416-351b8491bfcf</td><td>5bb12d15-74c2-44d2-bf9f-5d0dc9aefe98</td><td>1</td><td>203.40526</td><td>2025-01-14</td><td>wasbs://00-landing@cdmo.blob.core.windows.net/data/incoming/sales/sales_20250130_045331.csv</td><td>2025-01-30T05:04:15.794+0000</td></tr><tr><td>26</td><td>6f2180f9-7d45-4807-a718-7930b799c533</td><td>e5ee2c65-fcb2-4031-9c4c-0c392caec4df</td><td>3d3beea9-0f81-4206-9eef-4e87afad12a9</td><td>5</td><td>242.58308</td><td>2024-07-29</td><td>wasbs://00-landing@cdmo.blob.core.windows.net/data/incoming/sales/sales_20250130_045331.csv</td><td>2025-01-30T05:04:15.794+0000</td></tr><tr><td>27</td><td>ef40e17c-76a2-49a5-a182-963f57f11515</td><td>ce04ce91-72b4-4bcb-80ae-a6a8b71c373c</td><td>7555949a-7610-4bc8-ab68-09cabfc9f7a1</td><td>1</td><td>340.13538</td><td>2024-12-31</td><td>wasbs://00-landing@cdmo.blob.core.windows.net/data/incoming/sales/sales_20250130_045331.csv</td><td>2025-01-30T05:04:15.794+0000</td></tr><tr><td>28</td><td>63cc5329-6ca2-419d-9bc8-431565e5393a</td><td>129101e3-1d06-448f-9e34-50c2624cc8e5</td><td>09d9aafb-fd9b-45c9-9a8d-979713483835</td><td>4</td><td>199.21048</td><td>2024-11-26</td><td>wasbs://00-landing@cdmo.blob.core.windows.net/data/incoming/sales/sales_20250130_045331.csv</td><td>2025-01-30T05:04:15.794+0000</td></tr><tr><td>29</td><td>27fd215c-d3fd-4c57-ade2-fedebc738f1b</td><td>3e512128-1502-49fd-a095-0666f54b1e88</td><td>c8371678-2f59-48a9-b9a8-8e70aba7ecd1</td><td>7</td><td>33.7717</td><td>2024-05-21</td><td>wasbs://00-landing@cdmo.blob.core.windows.net/data/incoming/sales/sales_20250130_045331.csv</td><td>2025-01-30T05:04:15.794+0000</td></tr><tr><td>30</td><td>aa61fe37-b246-47e3-b69a-dec888c2c634</td><td>a8f06a29-9630-46cb-928d-6408d355ac6d</td><td>cad6f8e8-0f16-493c-9f2e-5045fa438ded</td><td>1</td><td>382.3519</td><td>2024-12-21</td><td>wasbs://00-landing@cdmo.blob.core.windows.net/data/incoming/sales/sales_20250130_045331.csv</td><td>2025-01-30T05:04:15.794+0000</td></tr><tr><td>31</td><td>1e526b27-7c65-4c27-b155-59c98f46dbd0</td><td>6f98d394-753f-4950-9e51-61f55d8d72a6</td><td>bbc3ce18-ce05-4b9a-9a59-40945a9db953</td><td>2</td><td>495.02765</td><td>2024-05-01</td><td>wasbs://00-landing@cdmo.blob.core.windows.net/data/incoming/sales/sales_20250130_045331.csv</td><td>2025-01-30T05:04:15.794+0000</td></tr><tr><td>32</td><td>6c8a056d-206c-4bab-b50e-872fd8115584</td><td>f76ad281-c41f-43f8-8e28-503369f4a387</td><td>28c0d6e4-14e7-46d0-9a39-30a3a63dad9c</td><td>9</td><td>310.51495</td><td>2024-05-07</td><td>wasbs://00-landing@cdmo.blob.core.windows.net/data/incoming/sales/sales_20250130_045331.csv</td><td>2025-01-30T05:04:15.794+0000</td></tr><tr><td>33</td><td>ee72d0a2-ded8-4bd2-98ba-25498d10334b</td><td>09941265-618a-47e9-ae6d-7459a8310c86</td><td>6e580b2f-c37e-4f99-b9bb-94d7e8fc5760</td><td>6</td><td>308.3158</td><td>2024-04-03</td><td>wasbs://00-landing@cdmo.blob.core.windows.net/data/incoming/sales/sales_20250130_045331.csv</td><td>2025-01-30T05:04:15.794+0000</td></tr><tr><td>34</td><td>2823d716-0e22-49c3-98d3-1dd83fc2c0b2</td><td>72985ca3-ba54-4e4b-b418-b16e1df34cf2</td><td>3468bcb3-8539-4018-9062-5967722752b1</td><td>5</td><td>350.01636</td><td>2024-07-16</td><td>wasbs://00-landing@cdmo.blob.core.windows.net/data/incoming/sales/sales_20250130_045331.csv</td><td>2025-01-30T05:04:15.794+0000</td></tr><tr><td>35</td><td>37e04868-9735-4c5f-8ffc-8169d56eb49b</td><td>d85d611f-d1ce-4d3f-9374-b40b418780ed</td><td>d655aa2f-65fe-4e92-924d-ad2c4bdfbd30</td><td>6</td><td>34.965046</td><td>2024-10-23</td><td>wasbs://00-landing@cdmo.blob.core.windows.net/data/incoming/sales/sales_20250130_045331.csv</td><td>2025-01-30T05:04:15.794+0000</td></tr><tr><td>36</td><td>7dc0827b-991b-412c-86e3-02bcbaa2f071</td><td>dab6c629-3f6d-43f6-90b0-3f6d651cda8f</td><td>64715686-7166-41bc-991c-a42e4d0a8e4b</td><td>8</td><td>376.66772</td><td>2024-05-09</td><td>wasbs://00-landing@cdmo.blob.core.windows.net/data/incoming/sales/sales_20250130_045331.csv</td><td>2025-01-30T05:04:15.794+0000</td></tr><tr><td>37</td><td>302bdce7-45f4-4922-9da4-4024e203b72b</td><td>bbf06580-7644-44af-b073-e87375edccd3</td><td>9ab0ee23-88bd-4dfc-88a7-5b8332d21e37</td><td>8</td><td>141.35713</td><td>2025-01-18</td><td>wasbs://00-landing@cdmo.blob.core.windows.net/data/incoming/sales/sales_20250130_045331.csv</td><td>2025-01-30T05:04:15.794+0000</td></tr><tr><td>38</td><td>5272c6a3-dfc0-491e-b1e2-5809e3cbd393</td><td>be70a925-199f-404c-91de-47e9d0af994d</td><td>186c3779-c501-4816-b1b6-5fce2b3604a5</td><td>6</td><td>469.19943</td><td>2024-03-19</td><td>wasbs://00-landing@cdmo.blob.core.windows.net/data/incoming/sales/sales_20250130_045331.csv</td><td>2025-01-30T05:04:15.794+0000</td></tr><tr><td>39</td><td>941ef976-7fa0-4e90-b6ba-86dc9110f549</td><td>daef6c77-b821-4bb6-981b-ae8d546862be</td><td>bee9f2ff-645b-4aab-b871-b49819fcc14c</td><td>4</td><td>75.60131</td><td>2024-11-24</td><td>wasbs://00-landing@cdmo.blob.core.windows.net/data/incoming/sales/sales_20250130_045331.csv</td><td>2025-01-30T05:04:15.794+0000</td></tr><tr><td>40</td><td>eea2f1c2-0c84-4e61-9212-9bbca4521e72</td><td>b5e8dc24-9460-4bf1-9d62-643da8f48468</td><td>b0b0d62f-1550-47fc-bdf3-a1502b74b9e4</td><td>9</td><td>438.48444</td><td>2025-01-01</td><td>wasbs://00-landing@cdmo.blob.core.windows.net/data/incoming/sales/sales_20250130_045331.csv</td><td>2025-01-30T05:04:15.794+0000</td></tr><tr><td>41</td><td>f98d1c68-e975-4fc2-90db-1f41afc5754e</td><td>f0f02598-5aab-426b-ae10-8bfa9b4d19c4</td><td>19cffb30-d012-4e00-b4a7-8509d5d531b2</td><td>2</td><td>172.86371</td><td>2024-11-25</td><td>wasbs://00-landing@cdmo.blob.core.windows.net/data/incoming/sales/sales_20250130_045331.csv</td><td>2025-01-30T05:04:15.794+0000</td></tr><tr><td>42</td><td>3fa9d63f-c767-42ba-b17d-ed00d4234259</td><td>66d67a01-7df9-4238-8c5f-dc42c0704915</td><td>b2bba339-9319-4b2c-ba13-054d6fdbc4cf</td><td>8</td><td>240.71873</td><td>2024-06-10</td><td>wasbs://00-landing@cdmo.blob.core.windows.net/data/incoming/sales/sales_20250130_045331.csv</td><td>2025-01-30T05:04:15.794+0000</td></tr><tr><td>43</td><td>17ad7fa5-1174-48b1-b60f-8b1a130efcea</td><td>9732ccaf-7fde-4cc3-97a9-92188fe4d92e</td><td>35f41264-b02c-41b8-b8f1-114637ff2938</td><td>2</td><td>385.10504</td><td>2024-12-15</td><td>wasbs://00-landing@cdmo.blob.core.windows.net/data/incoming/sales/sales_20250130_045331.csv</td><td>2025-01-30T05:04:15.794+0000</td></tr><tr><td>44</td><td>1c75f41a-520e-4517-ad8f-4a3e9ee48421</td><td>bab946b7-72cb-4fb4-becc-9c5fe4544c8e</td><td>b96a9174-0aa5-4381-9063-67c813e2f820</td><td>5</td><td>354.60117</td><td>2024-12-14</td><td>wasbs://00-landing@cdmo.blob.core.windows.net/data/incoming/sales/sales_20250130_045331.csv</td><td>2025-01-30T05:04:15.794+0000</td></tr><tr><td>45</td><td>532f9ca0-ade5-4728-b178-614b5f92c80d</td><td>f9571e31-becc-4e83-84de-62c38f5ea1aa</td><td>79b3c2ba-9708-4293-b537-b3e8f08afb4b</td><td>8</td><td>397.34033</td><td>2025-01-17</td><td>wasbs://00-landing@cdmo.blob.core.windows.net/data/incoming/sales/sales_20250130_045331.csv</td><td>2025-01-30T05:04:15.794+0000</td></tr><tr><td>46</td><td>0831bd74-1b3e-4525-beb7-7bcb537c22c1</td><td>e8a3ede5-f0aa-40f1-906e-ee4de6d738b8</td><td>a01c1e1b-231b-4dd1-b82b-daa6e17c6288</td><td>5</td><td>109.47557</td><td>2024-12-23</td><td>wasbs://00-landing@cdmo.blob.core.windows.net/data/incoming/sales/sales_20250130_045331.csv</td><td>2025-01-30T05:04:15.794+0000</td></tr><tr><td>47</td><td>d7d3983a-d83d-434c-887a-413aa0049471</td><td>b32f5fbd-28fa-468f-aa4f-1e60f2027095</td><td>cf58e3ed-a92c-4efe-877d-c7bad278ba13</td><td>8</td><td>428.58966</td><td>2024-09-12</td><td>wasbs://00-landing@cdmo.blob.core.windows.net/data/incoming/sales/sales_20250130_045331.csv</td><td>2025-01-30T05:04:15.794+0000</td></tr><tr><td>48</td><td>7f1f65f1-b072-4f11-a777-24f116417649</td><td>ae984d52-98c7-4477-82c1-aaa7abf45f8d</td><td>c95f67a4-df90-4d4c-a44e-06c33c678248</td><td>2</td><td>334.35452</td><td>2024-07-10</td><td>wasbs://00-landing@cdmo.blob.core.windows.net/data/incoming/sales/sales_20250130_045331.csv</td><td>2025-01-30T05:04:15.794+0000</td></tr><tr><td>49</td><td>5c9f6525-9fb9-47bc-bff1-64cc8a1f7cd0</td><td>c9c46b99-9124-44e1-b131-abe6fb17215e</td><td>059d811d-dc35-4029-940a-2e32c7a1360c</td><td>7</td><td>181.32635</td><td>2024-12-15</td><td>wasbs://00-landing@cdmo.blob.core.windows.net/data/incoming/sales/sales_20250130_045331.csv</td><td>2025-01-30T05:04:15.794+0000</td></tr></tbody></table></div>"
      ]
     },
     "metadata": {
      "application/vnd.databricks.v1+output": {
       "addedWidgets": {},
       "aggData": [],
       "aggError": "",
       "aggOverflow": false,
       "aggSchema": [],
       "aggSeriesLimitReached": false,
       "aggType": "",
       "arguments": {},
       "columnCustomDisplayInfos": {},
       "data": [
        [
         "0",
         "24a3c597-b47c-44f3-9ea3-ce61eb4fbb86",
         "8cc26038-7ac2-4794-9926-dd3a564a66a0",
         "4aef150d-abbe-4777-8006-606043a20910",
         "6",
         "421.44876",
         "2024-06-22",
         "wasbs://00-landing@cdmo.blob.core.windows.net/data/incoming/sales/sales_20250130_045331.csv",
         "2025-01-30T05:04:15.794+0000"
        ],
        [
         "1",
         "3a615482-8a4f-4525-997b-25518915bda1",
         "2249009d-86df-4174-a43a-e7aa349d39d9",
         "b4b7c670-84b1-4190-9007-ccff70bbf977",
         "7",
         "104.24159",
         "2025-01-12",
         "wasbs://00-landing@cdmo.blob.core.windows.net/data/incoming/sales/sales_20250130_045331.csv",
         "2025-01-30T05:04:15.794+0000"
        ],
        [
         "2",
         "c580a924-00f7-4b14-9042-764aaba00fc4",
         "ae5ac3de-29e0-4402-bd8f-bbfb96a92865",
         "56fc973f-660d-40cd-969e-38ae1ef36a96",
         "7",
         "297.30954",
         "2024-07-24",
         "wasbs://00-landing@cdmo.blob.core.windows.net/data/incoming/sales/sales_20250130_045331.csv",
         "2025-01-30T05:04:15.794+0000"
        ],
        [
         "3",
         "625e0563-17c1-4d45-96de-d642777ab8a0",
         "cf958a04-c24a-4444-8505-cefbe81fee3f",
         "2d6b3cfe-e847-43de-b522-46df561c457d",
         "3",
         "360.72583",
         "2024-02-15",
         "wasbs://00-landing@cdmo.blob.core.windows.net/data/incoming/sales/sales_20250130_045331.csv",
         "2025-01-30T05:04:15.794+0000"
        ],
        [
         "4",
         "658bae55-f255-4312-b634-3ba2a9ac7d6c",
         "8b1e9b48-dae0-4ef7-988a-2a80fd0ec5f9",
         "4ed98e1c-de11-4696-ae47-f491fcb5f77d",
         "7",
         "99.40935",
         "2024-11-19",
         "wasbs://00-landing@cdmo.blob.core.windows.net/data/incoming/sales/sales_20250130_045331.csv",
         "2025-01-30T05:04:15.794+0000"
        ],
        [
         "5",
         "80c160fb-9d5a-4fcc-b0a8-e4f437838a37",
         "8f278952-b58f-4b6f-9b9b-1dcc7f316f38",
         "5848cb63-860c-4b39-a92e-5a0476d4f463",
         "1",
         "378.37415",
         "2025-01-15",
         "wasbs://00-landing@cdmo.blob.core.windows.net/data/incoming/sales/sales_20250130_045331.csv",
         "2025-01-30T05:04:15.794+0000"
        ],
        [
         "6",
         "fb2a2e47-d608-4b6d-ac77-b3fdf391f3db",
         "b9b31f50-a41e-4cda-8562-8060636fbe26",
         "4e678800-8830-4b7b-bc19-0b7e93cc26d8",
         "7",
         "154.32324",
         "2024-12-15",
         "wasbs://00-landing@cdmo.blob.core.windows.net/data/incoming/sales/sales_20250130_045331.csv",
         "2025-01-30T05:04:15.794+0000"
        ],
        [
         "7",
         "53fc5511-dbe2-4d40-9876-fafe07219a3b",
         "da823fdd-da14-4cb3-9fce-87838318640d",
         "d5a47bee-2b43-47a3-90d1-e528b59944d2",
         "1",
         "179.61403",
         "2024-09-29",
         "wasbs://00-landing@cdmo.blob.core.windows.net/data/incoming/sales/sales_20250130_045331.csv",
         "2025-01-30T05:04:15.794+0000"
        ],
        [
         "8",
         "b696b657-3d74-47ce-b948-49cde0d403e5",
         "9dd8f7f3-c657-4154-844f-7458851d5eb9",
         "75113be0-d45e-4634-8372-e38d5721da64",
         "8",
         "342.97693",
         "2024-09-29",
         "wasbs://00-landing@cdmo.blob.core.windows.net/data/incoming/sales/sales_20250130_045331.csv",
         "2025-01-30T05:04:15.794+0000"
        ],
        [
         "9",
         "e3ed175e-a36a-4a24-9d7f-a42ba0135315",
         "78687693-e7d6-48af-ac67-89b0601c8c70",
         "a4217b25-289f-40c4-9183-17375a864e2b",
         "8",
         "282.14777",
         "2024-12-31",
         "wasbs://00-landing@cdmo.blob.core.windows.net/data/incoming/sales/sales_20250130_045331.csv",
         "2025-01-30T05:04:15.794+0000"
        ],
        [
         "10",
         "9847db96-36a0-455f-bdc0-508a20a1551b",
         "304e0700-9f28-4169-ae94-d464298237df",
         "abe9ae82-ee63-4c77-ab2a-c5c95b486b7a",
         "7",
         "110.00517",
         "2024-10-25",
         "wasbs://00-landing@cdmo.blob.core.windows.net/data/incoming/sales/sales_20250130_045331.csv",
         "2025-01-30T05:04:15.794+0000"
        ],
        [
         "11",
         "761c13e3-9eaf-4952-a2f3-c4cb5f7e4951",
         "bda48dfa-c29a-431f-b198-3a30673ab756",
         "3e042e5d-6eea-4ff4-8eee-575dcadd42c4",
         "3",
         "290.08432",
         "2024-08-02",
         "wasbs://00-landing@cdmo.blob.core.windows.net/data/incoming/sales/sales_20250130_045331.csv",
         "2025-01-30T05:04:15.794+0000"
        ],
        [
         "12",
         "8382b367-143b-4969-ab79-365b543e7ecd",
         "16e238e6-ef98-409f-87c2-3654d71bf43b",
         "d127d1a5-6d9d-4d0f-b5b6-78a49131d39e",
         "7",
         "471.72885",
         "2024-04-13",
         "wasbs://00-landing@cdmo.blob.core.windows.net/data/incoming/sales/sales_20250130_045331.csv",
         "2025-01-30T05:04:15.794+0000"
        ],
        [
         "13",
         "95e626f6-a272-4bab-b605-f2290c24ae6e",
         "ea21bb3e-4639-4836-a37d-517b4f3eebda",
         "135cd42b-f359-4860-945e-769f4ec01c6a",
         "4",
         "476.97662",
         "2024-09-07",
         "wasbs://00-landing@cdmo.blob.core.windows.net/data/incoming/sales/sales_20250130_045331.csv",
         "2025-01-30T05:04:15.794+0000"
        ],
        [
         "14",
         "caf17f07-cf93-41a2-ad7f-84779d67ae8b",
         "9203d4d6-3aa8-4afc-8bf5-c6436dae9e31",
         "994874a3-ae48-40d0-8031-f9af9a6fe159",
         "9",
         "61.223156",
         "2024-06-06",
         "wasbs://00-landing@cdmo.blob.core.windows.net/data/incoming/sales/sales_20250130_045331.csv",
         "2025-01-30T05:04:15.794+0000"
        ],
        [
         "15",
         "38bebd0b-0b8c-4444-bd74-bae48b3d670c",
         "39db7e84-b556-4c5e-b192-6987a1549374",
         "f694f19f-799a-4387-8414-8d2e0125f967",
         "3",
         "153.11906",
         "2024-09-24",
         "wasbs://00-landing@cdmo.blob.core.windows.net/data/incoming/sales/sales_20250130_045331.csv",
         "2025-01-30T05:04:15.794+0000"
        ],
        [
         "16",
         "e8385a34-f0c2-4b4b-8d1c-8bf27468e829",
         "9af59645-f2de-4fcb-a555-4da9e65fe8bd",
         "8381b9ad-3c4f-4085-941e-4e648e3e3de4",
         "8",
         "157.4813",
         "2024-02-07",
         "wasbs://00-landing@cdmo.blob.core.windows.net/data/incoming/sales/sales_20250130_045331.csv",
         "2025-01-30T05:04:15.794+0000"
        ],
        [
         "17",
         "6b7a4313-a92f-43f4-8fb1-e6f4ce565cd4",
         "8579c515-77d3-43cd-8737-f15419d9cb5d",
         "59382e2b-b9e7-4456-89cb-0c891068e2ce",
         "8",
         "204.60406",
         "2024-05-31",
         "wasbs://00-landing@cdmo.blob.core.windows.net/data/incoming/sales/sales_20250130_045331.csv",
         "2025-01-30T05:04:15.794+0000"
        ],
        [
         "18",
         "d862d000-5b97-4dc6-9afa-1687faa6f197",
         "6d76f403-a95b-420a-94ef-45d125096cbf",
         "ce43bde7-061c-4187-85c1-abeb19b52a9f",
         "4",
         "34.60514",
         "2024-03-26",
         "wasbs://00-landing@cdmo.blob.core.windows.net/data/incoming/sales/sales_20250130_045331.csv",
         "2025-01-30T05:04:15.794+0000"
        ],
        [
         "19",
         "e2e2d26a-6ade-475b-bb4a-85f979d0eae0",
         "5d6459f6-913d-4530-aaba-d97bc1c56c87",
         "8e8e6f4d-e7b9-45cc-b7c4-91a81daaed2c",
         "7",
         "442.4511",
         "2024-10-17",
         "wasbs://00-landing@cdmo.blob.core.windows.net/data/incoming/sales/sales_20250130_045331.csv",
         "2025-01-30T05:04:15.794+0000"
        ],
        [
         "20",
         "ecc23140-edbd-4847-80bb-a7f037815595",
         "c0fdb001-96ab-4a23-8d30-3dff1921b965",
         "225e8dfe-d0a1-4814-a880-c3b75b7ae2b1",
         "4",
         "79.49184",
         "2024-04-18",
         "wasbs://00-landing@cdmo.blob.core.windows.net/data/incoming/sales/sales_20250130_045331.csv",
         "2025-01-30T05:04:15.794+0000"
        ],
        [
         "21",
         "9c0020a9-1416-4d31-8e32-bc0c538075e3",
         "bfe5c203-d2f0-4f8f-82a3-5b5808a043e8",
         "be3101fb-5e7c-4234-aad3-571bd180788a",
         "1",
         "379.0154",
         "2024-05-15",
         "wasbs://00-landing@cdmo.blob.core.windows.net/data/incoming/sales/sales_20250130_045331.csv",
         "2025-01-30T05:04:15.794+0000"
        ],
        [
         "22",
         "e61e24ba-d515-492c-8f8d-559cb00c4301",
         "de9ca209-9f40-48d3-8231-0799ad86d9a6",
         "3a86a328-6b56-40b0-a591-5ff1f07bce71",
         "5",
         "316.74057",
         "2024-11-07",
         "wasbs://00-landing@cdmo.blob.core.windows.net/data/incoming/sales/sales_20250130_045331.csv",
         "2025-01-30T05:04:15.794+0000"
        ],
        [
         "23",
         "e191dadd-0534-4a99-a437-fd3bf1fb940b",
         "8fa7c518-16c2-428b-ab7e-5598a3f137c2",
         "f5d867af-7f46-4017-aeae-fa8f9660ceb8",
         "4",
         "170.10889",
         "2025-01-27",
         "wasbs://00-landing@cdmo.blob.core.windows.net/data/incoming/sales/sales_20250130_045331.csv",
         "2025-01-30T05:04:15.794+0000"
        ],
        [
         "24",
         "50604ce4-5ab5-4d57-a85a-fe7a8be01baa",
         "6fa9cf3f-eeb4-4058-bfdd-376bc21fc429",
         "5e020262-6d3c-4fa8-bea8-23b696b57853",
         "7",
         "281.92886",
         "2024-06-17",
         "wasbs://00-landing@cdmo.blob.core.windows.net/data/incoming/sales/sales_20250130_045331.csv",
         "2025-01-30T05:04:15.794+0000"
        ],
        [
         "25",
         "b0ef55be-8d50-4f7a-a52e-c86ee3b51d7c",
         "767da0a5-1dc2-47ed-9416-351b8491bfcf",
         "5bb12d15-74c2-44d2-bf9f-5d0dc9aefe98",
         "1",
         "203.40526",
         "2025-01-14",
         "wasbs://00-landing@cdmo.blob.core.windows.net/data/incoming/sales/sales_20250130_045331.csv",
         "2025-01-30T05:04:15.794+0000"
        ],
        [
         "26",
         "6f2180f9-7d45-4807-a718-7930b799c533",
         "e5ee2c65-fcb2-4031-9c4c-0c392caec4df",
         "3d3beea9-0f81-4206-9eef-4e87afad12a9",
         "5",
         "242.58308",
         "2024-07-29",
         "wasbs://00-landing@cdmo.blob.core.windows.net/data/incoming/sales/sales_20250130_045331.csv",
         "2025-01-30T05:04:15.794+0000"
        ],
        [
         "27",
         "ef40e17c-76a2-49a5-a182-963f57f11515",
         "ce04ce91-72b4-4bcb-80ae-a6a8b71c373c",
         "7555949a-7610-4bc8-ab68-09cabfc9f7a1",
         "1",
         "340.13538",
         "2024-12-31",
         "wasbs://00-landing@cdmo.blob.core.windows.net/data/incoming/sales/sales_20250130_045331.csv",
         "2025-01-30T05:04:15.794+0000"
        ],
        [
         "28",
         "63cc5329-6ca2-419d-9bc8-431565e5393a",
         "129101e3-1d06-448f-9e34-50c2624cc8e5",
         "09d9aafb-fd9b-45c9-9a8d-979713483835",
         "4",
         "199.21048",
         "2024-11-26",
         "wasbs://00-landing@cdmo.blob.core.windows.net/data/incoming/sales/sales_20250130_045331.csv",
         "2025-01-30T05:04:15.794+0000"
        ],
        [
         "29",
         "27fd215c-d3fd-4c57-ade2-fedebc738f1b",
         "3e512128-1502-49fd-a095-0666f54b1e88",
         "c8371678-2f59-48a9-b9a8-8e70aba7ecd1",
         "7",
         "33.7717",
         "2024-05-21",
         "wasbs://00-landing@cdmo.blob.core.windows.net/data/incoming/sales/sales_20250130_045331.csv",
         "2025-01-30T05:04:15.794+0000"
        ],
        [
         "30",
         "aa61fe37-b246-47e3-b69a-dec888c2c634",
         "a8f06a29-9630-46cb-928d-6408d355ac6d",
         "cad6f8e8-0f16-493c-9f2e-5045fa438ded",
         "1",
         "382.3519",
         "2024-12-21",
         "wasbs://00-landing@cdmo.blob.core.windows.net/data/incoming/sales/sales_20250130_045331.csv",
         "2025-01-30T05:04:15.794+0000"
        ],
        [
         "31",
         "1e526b27-7c65-4c27-b155-59c98f46dbd0",
         "6f98d394-753f-4950-9e51-61f55d8d72a6",
         "bbc3ce18-ce05-4b9a-9a59-40945a9db953",
         "2",
         "495.02765",
         "2024-05-01",
         "wasbs://00-landing@cdmo.blob.core.windows.net/data/incoming/sales/sales_20250130_045331.csv",
         "2025-01-30T05:04:15.794+0000"
        ],
        [
         "32",
         "6c8a056d-206c-4bab-b50e-872fd8115584",
         "f76ad281-c41f-43f8-8e28-503369f4a387",
         "28c0d6e4-14e7-46d0-9a39-30a3a63dad9c",
         "9",
         "310.51495",
         "2024-05-07",
         "wasbs://00-landing@cdmo.blob.core.windows.net/data/incoming/sales/sales_20250130_045331.csv",
         "2025-01-30T05:04:15.794+0000"
        ],
        [
         "33",
         "ee72d0a2-ded8-4bd2-98ba-25498d10334b",
         "09941265-618a-47e9-ae6d-7459a8310c86",
         "6e580b2f-c37e-4f99-b9bb-94d7e8fc5760",
         "6",
         "308.3158",
         "2024-04-03",
         "wasbs://00-landing@cdmo.blob.core.windows.net/data/incoming/sales/sales_20250130_045331.csv",
         "2025-01-30T05:04:15.794+0000"
        ],
        [
         "34",
         "2823d716-0e22-49c3-98d3-1dd83fc2c0b2",
         "72985ca3-ba54-4e4b-b418-b16e1df34cf2",
         "3468bcb3-8539-4018-9062-5967722752b1",
         "5",
         "350.01636",
         "2024-07-16",
         "wasbs://00-landing@cdmo.blob.core.windows.net/data/incoming/sales/sales_20250130_045331.csv",
         "2025-01-30T05:04:15.794+0000"
        ],
        [
         "35",
         "37e04868-9735-4c5f-8ffc-8169d56eb49b",
         "d85d611f-d1ce-4d3f-9374-b40b418780ed",
         "d655aa2f-65fe-4e92-924d-ad2c4bdfbd30",
         "6",
         "34.965046",
         "2024-10-23",
         "wasbs://00-landing@cdmo.blob.core.windows.net/data/incoming/sales/sales_20250130_045331.csv",
         "2025-01-30T05:04:15.794+0000"
        ],
        [
         "36",
         "7dc0827b-991b-412c-86e3-02bcbaa2f071",
         "dab6c629-3f6d-43f6-90b0-3f6d651cda8f",
         "64715686-7166-41bc-991c-a42e4d0a8e4b",
         "8",
         "376.66772",
         "2024-05-09",
         "wasbs://00-landing@cdmo.blob.core.windows.net/data/incoming/sales/sales_20250130_045331.csv",
         "2025-01-30T05:04:15.794+0000"
        ],
        [
         "37",
         "302bdce7-45f4-4922-9da4-4024e203b72b",
         "bbf06580-7644-44af-b073-e87375edccd3",
         "9ab0ee23-88bd-4dfc-88a7-5b8332d21e37",
         "8",
         "141.35713",
         "2025-01-18",
         "wasbs://00-landing@cdmo.blob.core.windows.net/data/incoming/sales/sales_20250130_045331.csv",
         "2025-01-30T05:04:15.794+0000"
        ],
        [
         "38",
         "5272c6a3-dfc0-491e-b1e2-5809e3cbd393",
         "be70a925-199f-404c-91de-47e9d0af994d",
         "186c3779-c501-4816-b1b6-5fce2b3604a5",
         "6",
         "469.19943",
         "2024-03-19",
         "wasbs://00-landing@cdmo.blob.core.windows.net/data/incoming/sales/sales_20250130_045331.csv",
         "2025-01-30T05:04:15.794+0000"
        ],
        [
         "39",
         "941ef976-7fa0-4e90-b6ba-86dc9110f549",
         "daef6c77-b821-4bb6-981b-ae8d546862be",
         "bee9f2ff-645b-4aab-b871-b49819fcc14c",
         "4",
         "75.60131",
         "2024-11-24",
         "wasbs://00-landing@cdmo.blob.core.windows.net/data/incoming/sales/sales_20250130_045331.csv",
         "2025-01-30T05:04:15.794+0000"
        ],
        [
         "40",
         "eea2f1c2-0c84-4e61-9212-9bbca4521e72",
         "b5e8dc24-9460-4bf1-9d62-643da8f48468",
         "b0b0d62f-1550-47fc-bdf3-a1502b74b9e4",
         "9",
         "438.48444",
         "2025-01-01",
         "wasbs://00-landing@cdmo.blob.core.windows.net/data/incoming/sales/sales_20250130_045331.csv",
         "2025-01-30T05:04:15.794+0000"
        ],
        [
         "41",
         "f98d1c68-e975-4fc2-90db-1f41afc5754e",
         "f0f02598-5aab-426b-ae10-8bfa9b4d19c4",
         "19cffb30-d012-4e00-b4a7-8509d5d531b2",
         "2",
         "172.86371",
         "2024-11-25",
         "wasbs://00-landing@cdmo.blob.core.windows.net/data/incoming/sales/sales_20250130_045331.csv",
         "2025-01-30T05:04:15.794+0000"
        ],
        [
         "42",
         "3fa9d63f-c767-42ba-b17d-ed00d4234259",
         "66d67a01-7df9-4238-8c5f-dc42c0704915",
         "b2bba339-9319-4b2c-ba13-054d6fdbc4cf",
         "8",
         "240.71873",
         "2024-06-10",
         "wasbs://00-landing@cdmo.blob.core.windows.net/data/incoming/sales/sales_20250130_045331.csv",
         "2025-01-30T05:04:15.794+0000"
        ],
        [
         "43",
         "17ad7fa5-1174-48b1-b60f-8b1a130efcea",
         "9732ccaf-7fde-4cc3-97a9-92188fe4d92e",
         "35f41264-b02c-41b8-b8f1-114637ff2938",
         "2",
         "385.10504",
         "2024-12-15",
         "wasbs://00-landing@cdmo.blob.core.windows.net/data/incoming/sales/sales_20250130_045331.csv",
         "2025-01-30T05:04:15.794+0000"
        ],
        [
         "44",
         "1c75f41a-520e-4517-ad8f-4a3e9ee48421",
         "bab946b7-72cb-4fb4-becc-9c5fe4544c8e",
         "b96a9174-0aa5-4381-9063-67c813e2f820",
         "5",
         "354.60117",
         "2024-12-14",
         "wasbs://00-landing@cdmo.blob.core.windows.net/data/incoming/sales/sales_20250130_045331.csv",
         "2025-01-30T05:04:15.794+0000"
        ],
        [
         "45",
         "532f9ca0-ade5-4728-b178-614b5f92c80d",
         "f9571e31-becc-4e83-84de-62c38f5ea1aa",
         "79b3c2ba-9708-4293-b537-b3e8f08afb4b",
         "8",
         "397.34033",
         "2025-01-17",
         "wasbs://00-landing@cdmo.blob.core.windows.net/data/incoming/sales/sales_20250130_045331.csv",
         "2025-01-30T05:04:15.794+0000"
        ],
        [
         "46",
         "0831bd74-1b3e-4525-beb7-7bcb537c22c1",
         "e8a3ede5-f0aa-40f1-906e-ee4de6d738b8",
         "a01c1e1b-231b-4dd1-b82b-daa6e17c6288",
         "5",
         "109.47557",
         "2024-12-23",
         "wasbs://00-landing@cdmo.blob.core.windows.net/data/incoming/sales/sales_20250130_045331.csv",
         "2025-01-30T05:04:15.794+0000"
        ],
        [
         "47",
         "d7d3983a-d83d-434c-887a-413aa0049471",
         "b32f5fbd-28fa-468f-aa4f-1e60f2027095",
         "cf58e3ed-a92c-4efe-877d-c7bad278ba13",
         "8",
         "428.58966",
         "2024-09-12",
         "wasbs://00-landing@cdmo.blob.core.windows.net/data/incoming/sales/sales_20250130_045331.csv",
         "2025-01-30T05:04:15.794+0000"
        ],
        [
         "48",
         "7f1f65f1-b072-4f11-a777-24f116417649",
         "ae984d52-98c7-4477-82c1-aaa7abf45f8d",
         "c95f67a4-df90-4d4c-a44e-06c33c678248",
         "2",
         "334.35452",
         "2024-07-10",
         "wasbs://00-landing@cdmo.blob.core.windows.net/data/incoming/sales/sales_20250130_045331.csv",
         "2025-01-30T05:04:15.794+0000"
        ],
        [
         "49",
         "5c9f6525-9fb9-47bc-bff1-64cc8a1f7cd0",
         "c9c46b99-9124-44e1-b131-abe6fb17215e",
         "059d811d-dc35-4029-940a-2e32c7a1360c",
         "7",
         "181.32635",
         "2024-12-15",
         "wasbs://00-landing@cdmo.blob.core.windows.net/data/incoming/sales/sales_20250130_045331.csv",
         "2025-01-30T05:04:15.794+0000"
        ]
       ],
       "datasetInfos": [],
       "dbfsResultPath": null,
       "isJsonSchema": true,
       "metadata": {},
       "overflow": false,
       "plotOptions": {
        "customPlotOptions": {},
        "displayType": "table",
        "pivotAggregation": null,
        "pivotColumns": null,
        "xColumns": null,
        "yColumns": null
       },
       "removedWidgets": [],
       "schema": [
        {
         "metadata": "{}",
         "name": "id",
         "type": "\"string\""
        },
        {
         "metadata": "{}",
         "name": "OrderID",
         "type": "\"string\""
        },
        {
         "metadata": "{}",
         "name": "CustomerID",
         "type": "\"string\""
        },
        {
         "metadata": "{}",
         "name": "ProductID",
         "type": "\"string\""
        },
        {
         "metadata": "{}",
         "name": "Quantity",
         "type": "\"string\""
        },
        {
         "metadata": "{}",
         "name": "TotalAmount",
         "type": "\"string\""
        },
        {
         "metadata": "{}",
         "name": "OrderDate",
         "type": "\"string\""
        },
        {
         "metadata": "{}",
         "name": "Filename",
         "type": "\"string\""
        },
        {
         "metadata": "{}",
         "name": "LoadTimestamp",
         "type": "\"timestamp\""
        }
       ],
       "type": "table"
      }
     },
     "output_type": "display_data"
    },
    {
     "output_type": "stream",
     "name": "stdout",
     "output_type": "stream",
     "text": [
      "🔍 Validating table: supplier at wasbs://01-bronze@cdmo.blob.core.windows.net/supplier/\n✅ Table: supplier, Record Count: 20\n📊 Displaying records for table: supplier\n"
     ]
    },
    {
     "output_type": "display_data",
     "data": {
      "text/html": [
       "<style scoped>\n",
       "  .table-result-container {\n",
       "    max-height: 300px;\n",
       "    overflow: auto;\n",
       "  }\n",
       "  table, th, td {\n",
       "    border: 1px solid black;\n",
       "    border-collapse: collapse;\n",
       "  }\n",
       "  th, td {\n",
       "    padding: 5px;\n",
       "  }\n",
       "  th {\n",
       "    text-align: left;\n",
       "  }\n",
       "</style><div class='table-result-container'><table class='table-result'><thead style='background-color: white'><tr><th>id</th><th>SupplierID</th><th>SupplierName</th><th>Material</th><th>Cost</th><th>DeliveryDate</th><th>Filename</th><th>LoadTimestamp</th></tr></thead><tbody><tr><td>0</td><td>2457fee9-132d-47d4-88fd-e04406413c0e</td><td>null</td><td>Aloe Vera</td><td>53.149853</td><td>2024-11-14</td><td>wasbs://00-landing@cdmo.blob.core.windows.net/data/incoming/supplier/supplier_20250130_045331.csv</td><td>2025-01-30T05:04:24.882+0000</td></tr><tr><td>1</td><td>3a5b64fd-fbca-44b7-820a-c50f602a0f6d</td><td>null</td><td>Collagen</td><td>92.56125</td><td>2025-01-19</td><td>wasbs://00-landing@cdmo.blob.core.windows.net/data/incoming/supplier/supplier_20250130_045331.csv</td><td>2025-01-30T05:04:24.882+0000</td></tr><tr><td>2</td><td>f6598e46-d304-409a-883c-1b5cb653dd10</td><td>null</td><td>Aloe Vera</td><td>35.079376</td><td>2024-09-12</td><td>wasbs://00-landing@cdmo.blob.core.windows.net/data/incoming/supplier/supplier_20250130_045331.csv</td><td>2025-01-30T05:04:24.882+0000</td></tr><tr><td>3</td><td>4fa6f523-fa3b-40bf-a34b-092598e5a2b9</td><td>null</td><td>Collagen</td><td>92.13411</td><td>2024-03-21</td><td>wasbs://00-landing@cdmo.blob.core.windows.net/data/incoming/supplier/supplier_20250130_045331.csv</td><td>2025-01-30T05:04:24.882+0000</td></tr><tr><td>4</td><td>7d2d14ac-7a44-44b4-91ae-a3fc4be2978b</td><td>null</td><td>Hyaluronic Acid</td><td>10.346646</td><td>2024-09-08</td><td>wasbs://00-landing@cdmo.blob.core.windows.net/data/incoming/supplier/supplier_20250130_045331.csv</td><td>2025-01-30T05:04:24.882+0000</td></tr><tr><td>5</td><td>1709d957-0b86-49f7-a5ee-38af66e2554d</td><td>null</td><td>Aloe Vera</td><td>33.812927</td><td>2024-11-01</td><td>wasbs://00-landing@cdmo.blob.core.windows.net/data/incoming/supplier/supplier_20250130_045331.csv</td><td>2025-01-30T05:04:24.882+0000</td></tr><tr><td>6</td><td>014ae50c-caec-4323-8cb6-884b4576f1fd</td><td>null</td><td>Aloe Vera</td><td>51.105965</td><td>2024-10-13</td><td>wasbs://00-landing@cdmo.blob.core.windows.net/data/incoming/supplier/supplier_20250130_045331.csv</td><td>2025-01-30T05:04:24.882+0000</td></tr><tr><td>7</td><td>26b46eb3-89a2-451a-a13f-21428ee7dc10</td><td>null</td><td>Collagen</td><td>28.509096</td><td>2024-03-16</td><td>wasbs://00-landing@cdmo.blob.core.windows.net/data/incoming/supplier/supplier_20250130_045331.csv</td><td>2025-01-30T05:04:24.882+0000</td></tr><tr><td>8</td><td>5f7c0959-574d-40cc-8a8d-2a31bff8dc45</td><td>null</td><td>Vitamin E</td><td>90.7694</td><td>2024-02-25</td><td>wasbs://00-landing@cdmo.blob.core.windows.net/data/incoming/supplier/supplier_20250130_045331.csv</td><td>2025-01-30T05:04:24.882+0000</td></tr><tr><td>9</td><td>ed256f8a-c13f-4394-ad49-3ca6d6184bca</td><td>null</td><td>Hyaluronic Acid</td><td>93.5862</td><td>2024-03-14</td><td>wasbs://00-landing@cdmo.blob.core.windows.net/data/incoming/supplier/supplier_20250130_045331.csv</td><td>2025-01-30T05:04:24.882+0000</td></tr><tr><td>10</td><td>c586141c-361a-4d20-af81-e63e05a9e849</td><td>null</td><td>Collagen</td><td>79.104904</td><td>2024-08-01</td><td>wasbs://00-landing@cdmo.blob.core.windows.net/data/incoming/supplier/supplier_20250130_045331.csv</td><td>2025-01-30T05:04:24.882+0000</td></tr><tr><td>11</td><td>c283365a-6d5c-4fe2-81cf-886d803096d5</td><td>null</td><td>Collagen</td><td>53.02987</td><td>2024-02-06</td><td>wasbs://00-landing@cdmo.blob.core.windows.net/data/incoming/supplier/supplier_20250130_045331.csv</td><td>2025-01-30T05:04:24.882+0000</td></tr><tr><td>12</td><td>e6e8d444-35d3-4a09-b292-a2fc067308a7</td><td>null</td><td>Vitamin E</td><td>18.971241</td><td>2024-11-18</td><td>wasbs://00-landing@cdmo.blob.core.windows.net/data/incoming/supplier/supplier_20250130_045331.csv</td><td>2025-01-30T05:04:24.882+0000</td></tr><tr><td>13</td><td>5f64d8a2-218e-4bd3-bf7e-81963840a4a2</td><td>null</td><td>Aloe Vera</td><td>54.999607</td><td>2024-02-27</td><td>wasbs://00-landing@cdmo.blob.core.windows.net/data/incoming/supplier/supplier_20250130_045331.csv</td><td>2025-01-30T05:04:24.882+0000</td></tr><tr><td>14</td><td>097a9f31-29b3-4735-abf4-f12b066b4672</td><td>null</td><td>Aloe Vera</td><td>28.784286</td><td>2024-02-21</td><td>wasbs://00-landing@cdmo.blob.core.windows.net/data/incoming/supplier/supplier_20250130_045331.csv</td><td>2025-01-30T05:04:24.882+0000</td></tr><tr><td>15</td><td>37bef4d2-64c6-482d-8a20-1bf82c3fda83</td><td>null</td><td>Collagen</td><td>47.150936</td><td>2024-07-03</td><td>wasbs://00-landing@cdmo.blob.core.windows.net/data/incoming/supplier/supplier_20250130_045331.csv</td><td>2025-01-30T05:04:24.882+0000</td></tr><tr><td>16</td><td>ec9c1767-e74b-42c5-befe-525c8a03af93</td><td>null</td><td>Vitamin E</td><td>32.099434</td><td>2024-11-16</td><td>wasbs://00-landing@cdmo.blob.core.windows.net/data/incoming/supplier/supplier_20250130_045331.csv</td><td>2025-01-30T05:04:24.882+0000</td></tr><tr><td>17</td><td>5d9e2c8f-7b04-4295-85b5-7f2b2f6c8282</td><td>null</td><td>Collagen</td><td>75.476585</td><td>2024-09-28</td><td>wasbs://00-landing@cdmo.blob.core.windows.net/data/incoming/supplier/supplier_20250130_045331.csv</td><td>2025-01-30T05:04:24.882+0000</td></tr><tr><td>18</td><td>cf90cc7b-075b-4775-b947-2cae18946a96</td><td>null</td><td>Shea Butter</td><td>80.97478</td><td>2024-09-01</td><td>wasbs://00-landing@cdmo.blob.core.windows.net/data/incoming/supplier/supplier_20250130_045331.csv</td><td>2025-01-30T05:04:24.882+0000</td></tr><tr><td>19</td><td>5fe0b4e2-7e26-4521-b52d-4aea2d2b3bc8</td><td>null</td><td>Collagen</td><td>47.804638</td><td>2024-09-16</td><td>wasbs://00-landing@cdmo.blob.core.windows.net/data/incoming/supplier/supplier_20250130_045331.csv</td><td>2025-01-30T05:04:24.882+0000</td></tr></tbody></table></div>"
      ]
     },
     "metadata": {
      "application/vnd.databricks.v1+output": {
       "addedWidgets": {},
       "aggData": [],
       "aggError": "",
       "aggOverflow": false,
       "aggSchema": [],
       "aggSeriesLimitReached": false,
       "aggType": "",
       "arguments": {},
       "columnCustomDisplayInfos": {},
       "data": [
        [
         "0",
         "2457fee9-132d-47d4-88fd-e04406413c0e",
         null,
         "Aloe Vera",
         "53.149853",
         "2024-11-14",
         "wasbs://00-landing@cdmo.blob.core.windows.net/data/incoming/supplier/supplier_20250130_045331.csv",
         "2025-01-30T05:04:24.882+0000"
        ],
        [
         "1",
         "3a5b64fd-fbca-44b7-820a-c50f602a0f6d",
         null,
         "Collagen",
         "92.56125",
         "2025-01-19",
         "wasbs://00-landing@cdmo.blob.core.windows.net/data/incoming/supplier/supplier_20250130_045331.csv",
         "2025-01-30T05:04:24.882+0000"
        ],
        [
         "2",
         "f6598e46-d304-409a-883c-1b5cb653dd10",
         null,
         "Aloe Vera",
         "35.079376",
         "2024-09-12",
         "wasbs://00-landing@cdmo.blob.core.windows.net/data/incoming/supplier/supplier_20250130_045331.csv",
         "2025-01-30T05:04:24.882+0000"
        ],
        [
         "3",
         "4fa6f523-fa3b-40bf-a34b-092598e5a2b9",
         null,
         "Collagen",
         "92.13411",
         "2024-03-21",
         "wasbs://00-landing@cdmo.blob.core.windows.net/data/incoming/supplier/supplier_20250130_045331.csv",
         "2025-01-30T05:04:24.882+0000"
        ],
        [
         "4",
         "7d2d14ac-7a44-44b4-91ae-a3fc4be2978b",
         null,
         "Hyaluronic Acid",
         "10.346646",
         "2024-09-08",
         "wasbs://00-landing@cdmo.blob.core.windows.net/data/incoming/supplier/supplier_20250130_045331.csv",
         "2025-01-30T05:04:24.882+0000"
        ],
        [
         "5",
         "1709d957-0b86-49f7-a5ee-38af66e2554d",
         null,
         "Aloe Vera",
         "33.812927",
         "2024-11-01",
         "wasbs://00-landing@cdmo.blob.core.windows.net/data/incoming/supplier/supplier_20250130_045331.csv",
         "2025-01-30T05:04:24.882+0000"
        ],
        [
         "6",
         "014ae50c-caec-4323-8cb6-884b4576f1fd",
         null,
         "Aloe Vera",
         "51.105965",
         "2024-10-13",
         "wasbs://00-landing@cdmo.blob.core.windows.net/data/incoming/supplier/supplier_20250130_045331.csv",
         "2025-01-30T05:04:24.882+0000"
        ],
        [
         "7",
         "26b46eb3-89a2-451a-a13f-21428ee7dc10",
         null,
         "Collagen",
         "28.509096",
         "2024-03-16",
         "wasbs://00-landing@cdmo.blob.core.windows.net/data/incoming/supplier/supplier_20250130_045331.csv",
         "2025-01-30T05:04:24.882+0000"
        ],
        [
         "8",
         "5f7c0959-574d-40cc-8a8d-2a31bff8dc45",
         null,
         "Vitamin E",
         "90.7694",
         "2024-02-25",
         "wasbs://00-landing@cdmo.blob.core.windows.net/data/incoming/supplier/supplier_20250130_045331.csv",
         "2025-01-30T05:04:24.882+0000"
        ],
        [
         "9",
         "ed256f8a-c13f-4394-ad49-3ca6d6184bca",
         null,
         "Hyaluronic Acid",
         "93.5862",
         "2024-03-14",
         "wasbs://00-landing@cdmo.blob.core.windows.net/data/incoming/supplier/supplier_20250130_045331.csv",
         "2025-01-30T05:04:24.882+0000"
        ],
        [
         "10",
         "c586141c-361a-4d20-af81-e63e05a9e849",
         null,
         "Collagen",
         "79.104904",
         "2024-08-01",
         "wasbs://00-landing@cdmo.blob.core.windows.net/data/incoming/supplier/supplier_20250130_045331.csv",
         "2025-01-30T05:04:24.882+0000"
        ],
        [
         "11",
         "c283365a-6d5c-4fe2-81cf-886d803096d5",
         null,
         "Collagen",
         "53.02987",
         "2024-02-06",
         "wasbs://00-landing@cdmo.blob.core.windows.net/data/incoming/supplier/supplier_20250130_045331.csv",
         "2025-01-30T05:04:24.882+0000"
        ],
        [
         "12",
         "e6e8d444-35d3-4a09-b292-a2fc067308a7",
         null,
         "Vitamin E",
         "18.971241",
         "2024-11-18",
         "wasbs://00-landing@cdmo.blob.core.windows.net/data/incoming/supplier/supplier_20250130_045331.csv",
         "2025-01-30T05:04:24.882+0000"
        ],
        [
         "13",
         "5f64d8a2-218e-4bd3-bf7e-81963840a4a2",
         null,
         "Aloe Vera",
         "54.999607",
         "2024-02-27",
         "wasbs://00-landing@cdmo.blob.core.windows.net/data/incoming/supplier/supplier_20250130_045331.csv",
         "2025-01-30T05:04:24.882+0000"
        ],
        [
         "14",
         "097a9f31-29b3-4735-abf4-f12b066b4672",
         null,
         "Aloe Vera",
         "28.784286",
         "2024-02-21",
         "wasbs://00-landing@cdmo.blob.core.windows.net/data/incoming/supplier/supplier_20250130_045331.csv",
         "2025-01-30T05:04:24.882+0000"
        ],
        [
         "15",
         "37bef4d2-64c6-482d-8a20-1bf82c3fda83",
         null,
         "Collagen",
         "47.150936",
         "2024-07-03",
         "wasbs://00-landing@cdmo.blob.core.windows.net/data/incoming/supplier/supplier_20250130_045331.csv",
         "2025-01-30T05:04:24.882+0000"
        ],
        [
         "16",
         "ec9c1767-e74b-42c5-befe-525c8a03af93",
         null,
         "Vitamin E",
         "32.099434",
         "2024-11-16",
         "wasbs://00-landing@cdmo.blob.core.windows.net/data/incoming/supplier/supplier_20250130_045331.csv",
         "2025-01-30T05:04:24.882+0000"
        ],
        [
         "17",
         "5d9e2c8f-7b04-4295-85b5-7f2b2f6c8282",
         null,
         "Collagen",
         "75.476585",
         "2024-09-28",
         "wasbs://00-landing@cdmo.blob.core.windows.net/data/incoming/supplier/supplier_20250130_045331.csv",
         "2025-01-30T05:04:24.882+0000"
        ],
        [
         "18",
         "cf90cc7b-075b-4775-b947-2cae18946a96",
         null,
         "Shea Butter",
         "80.97478",
         "2024-09-01",
         "wasbs://00-landing@cdmo.blob.core.windows.net/data/incoming/supplier/supplier_20250130_045331.csv",
         "2025-01-30T05:04:24.882+0000"
        ],
        [
         "19",
         "5fe0b4e2-7e26-4521-b52d-4aea2d2b3bc8",
         null,
         "Collagen",
         "47.804638",
         "2024-09-16",
         "wasbs://00-landing@cdmo.blob.core.windows.net/data/incoming/supplier/supplier_20250130_045331.csv",
         "2025-01-30T05:04:24.882+0000"
        ]
       ],
       "datasetInfos": [],
       "dbfsResultPath": null,
       "isJsonSchema": true,
       "metadata": {},
       "overflow": false,
       "plotOptions": {
        "customPlotOptions": {},
        "displayType": "table",
        "pivotAggregation": null,
        "pivotColumns": null,
        "xColumns": null,
        "yColumns": null
       },
       "removedWidgets": [],
       "schema": [
        {
         "metadata": "{}",
         "name": "id",
         "type": "\"string\""
        },
        {
         "metadata": "{}",
         "name": "SupplierID",
         "type": "\"string\""
        },
        {
         "metadata": "{}",
         "name": "SupplierName",
         "type": "\"string\""
        },
        {
         "metadata": "{}",
         "name": "Material",
         "type": "\"string\""
        },
        {
         "metadata": "{}",
         "name": "Cost",
         "type": "\"string\""
        },
        {
         "metadata": "{}",
         "name": "DeliveryDate",
         "type": "\"string\""
        },
        {
         "metadata": "{}",
         "name": "Filename",
         "type": "\"string\""
        },
        {
         "metadata": "{}",
         "name": "LoadTimestamp",
         "type": "\"timestamp\""
        }
       ],
       "type": "table"
      }
     },
     "output_type": "display_data"
    }
   ],
   "source": [
    "# ----------------------------------------------------------------------------------\n",
    "# 2. VALIDATE TABLE COUNTS IN BRONZE LAYER\n",
    "# ----------------------------------------------------------------------------------\n",
    "\n",
    "# List of tables in the Bronze layer\n",
    "tables = [\n",
    "    \"customerfeedback\",\n",
    "    \"manufacturebatch\",\n",
    "    \"productformula\",\n",
    "    \"sales\",\n",
    "    \"supplier\"\n",
    "]\n",
    "\n",
    "def validate_bronze_tables(container_name, tables):\n",
    "    \"\"\"\n",
    "    Validates the record count for each table in the Bronze layer and displays sample records.\n",
    "\n",
    "    Args:\n",
    "        container_name (str): The Azure Blob Storage container name.\n",
    "        tables (list): A list of table names to validate.\n",
    "    \"\"\"\n",
    "    for table in tables:\n",
    "        # Construct the full wasbs:// path for each table in the bronze layer\n",
    "        table_path = f\"wasbs://{container_name}@{STORAGE_ACCOUNT_NAME}.blob.core.windows.net/{table}/\"\n",
    "\n",
    "        print(f\"🔍 Validating table: {table} at {table_path}\")\n",
    "\n",
    "        try:\n",
    "            # Read the table into a DataFrame\n",
    "            df = spark.read.format(\"delta\").load(table_path)\n",
    "\n",
    "            # Get the count of records\n",
    "            record_count = df.count()\n",
    "            print(f\"✅ Table: {table}, Record Count: {record_count}\")\n",
    "\n",
    "            # Display the first 5 records for validation\n",
    "            print(f\"📊 Displaying records for table: {table}\")\n",
    "            df.display()  # Use show() instead of display() for PySpark\n",
    "\n",
    "        except Exception as e:\n",
    "            print(f\"❌ Error reading table '{table}': {e}\")\n",
    "\n",
    "# ----------------------------------------------------------------------------------\n",
    "# 3. MAIN EXECUTION\n",
    "# ----------------------------------------------------------------------------------\n",
    "\n",
    "if __name__ == \"__main__\":\n",
    "    validate_bronze_tables(CONTAINER_NAME, tables)"
   ]
  }
 ],
 "metadata": {
  "application/vnd.databricks.v1+notebook": {
   "computePreferences": null,
   "dashboards": [],
   "environmentMetadata": {
    "base_environment": "",
    "client": "1"
   },
   "language": "python",
   "notebookMetadata": {
    "pythonIndentUnit": 4
   },
   "notebookName": "03-load-bronze-layer",
   "widgets": {}
  }
 },
 "nbformat": 4,
 "nbformat_minor": 0
}
